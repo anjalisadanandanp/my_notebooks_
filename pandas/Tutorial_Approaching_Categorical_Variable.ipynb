{
  "cells": [
    {
      "cell_type": "markdown",
      "metadata": {
        "id": "UpgCEb9kmJ2Y"
      },
      "source": [
        "## Learning Objectives"
      ]
    },
    {
      "cell_type": "markdown",
      "metadata": {
        "id": "rZkwoKfWmNJj"
      },
      "source": [
        "At the end of the tutorial, you will be able to\n",
        "\n",
        "* describe categorical variables and its types\n",
        "* understand the significance of encoding categorical variables\n",
        "* understand and implement different techniques to encode categorical variables"
      ]
    },
    {
      "cell_type": "markdown",
      "metadata": {
        "id": "7yAu1I8JK_Lh"
      },
      "source": [
        "### Introduction\n",
        "\n",
        "\n"
      ]
    },
    {
      "cell_type": "markdown",
      "metadata": {
        "id": "QWW4fjWyLC1B"
      },
      "source": [
        "When preparing datasets for ML tasks, models expect data to be numerical values. Hence, we must convert categorical data to numerical values for use by ML models. \n",
        "\n",
        "Categorical data are usually in the form of discrete values, either numbers or text describing the categories. For example, Gender: Male/Female/Others, Ranks: 1/2/3, Months: 1,2,..,12, Year: 2011, 2012, City: Bangalore, Hyderabad, Delhi.\n",
        "\n",
        "Some categorical variables (think columns in our pandas df) need not be handled, e.g., Rank, Month, Year above. They are naturally ordered and are numbers. Others need to be handled, e.g., Gender, City.\n",
        "\n",
        "We are infact discussing about the two types of categorical data:\n",
        "1. **Nominal Data:** Also called as labelled/named data. Here, categories are not naturally orderd. For example, Gender, City, etc.\n",
        "2. **Ordinal Data:** Categories represent disrete and ordered units. It is similar to nominal data, but have an important property - data is ordered/ranked. Changing the order of categories is not allowed. For example, Rank, Month, Year, Education: (High School/Undergrads/Postgrads/Doctorate), etc."
      ]
    },
    {
      "cell_type": "markdown",
      "metadata": {
        "id": "Fm5vMcI7NCFT"
      },
      "source": [
        "One main challenge in handling categorical data is their cardinality. If the number of discrete values that the categorical feature takes is high, e.g., we have a large number of cities, then we need efficient mechanicsms for handling.\n",
        "\n",
        "The process of handling categorical data to numerical value is called Embedding or Encoding. \n",
        "\n",
        "The concept of Embedding/Encoding is not restricted to handling categorical data. It is also used in Natural Language Processing, Speech Recognition and Computer Vision. In all of those tasks, we need to convert text, speech and images to numbers that can be used by ML algorithms."
      ]
    },
    {
      "cell_type": "markdown",
      "metadata": {
        "id": "-JSa5qVaMv7a"
      },
      "source": [
        "### Import Libraries"
      ]
    },
    {
      "cell_type": "code",
      "execution_count": 1,
      "metadata": {
        "id": "RxElv3TiM0cw"
      },
      "outputs": [],
      "source": [
        "import pandas as pd\n",
        "import numpy as np\n",
        "import copy\n",
        "import seaborn as sns\n",
        "import matplotlib.pyplot as plt\n",
        "%matplotlib inline"
      ]
    },
    {
      "cell_type": "markdown",
      "metadata": {
        "id": "Tt_m7YnlNSfV"
      },
      "source": [
        "### General Exploration steps for Categorical Data"
      ]
    },
    {
      "cell_type": "markdown",
      "metadata": {
        "id": "cFqqvWWoNUJo"
      },
      "source": [
        "In this notebook, we'll focus on dealing with categorical features in the nycflights13 dataset. This dataset is a collection of data pertaining to different airlines flying from different\n",
        "airports in NYC, also capturing flight, plane and weather specific details during the year of 2013.\n",
        "This dataset contains information about on-time departure of all flights from NYC (i.e. JFK, LGA or EWR airports) in 2013.\n",
        "\n"
      ]
    },
    {
      "cell_type": "code",
      "execution_count": 2,
      "metadata": {
        "colab": {
          "base_uri": "https://localhost:8080/"
        },
        "id": "_KL_mXcZzJuC",
        "outputId": "c51cd9ad-a2e9-4a06-fca3-adbdac797611"
      },
      "outputs": [
        {
          "name": "stdout",
          "output_type": "stream",
          "text": [
            "--2024-03-26 10:08:35--  https://www.dropbox.com/s/j4q1dd5g1o79u8x/flight_data.csv\n",
            "Resolving www.dropbox.com (www.dropbox.com)... 162.125.81.18, 2620:100:6031:18::a27d:5112\n",
            "Connecting to www.dropbox.com (www.dropbox.com)|162.125.81.18|:443... connected.\n",
            "HTTP request sent, awaiting response... 302 Found\n",
            "Location: /s/raw/j4q1dd5g1o79u8x/flight_data.csv [following]\n",
            "--2024-03-26 10:08:36--  https://www.dropbox.com/s/raw/j4q1dd5g1o79u8x/flight_data.csv\n",
            "Reusing existing connection to www.dropbox.com:443.\n",
            "HTTP request sent, awaiting response... 302 Found\n",
            "Location: https://uc1cf0d979ae95708e0968af449c.dl.dropboxusercontent.com/cd/0/inline/CPw-TdwZ3VN2dZfKKupfsRgqfK8ycpHkxvDDqNpoJGE18czpBJiNcejF3-XjSSD4iw5zS8S2N1QwJtZiO4zO85xReZ9MB8lW7Gq_ob1-BkARfbalDg72Jd4xZ-EVLXteOBQ/file# [following]\n",
            "--2024-03-26 10:08:36--  https://uc1cf0d979ae95708e0968af449c.dl.dropboxusercontent.com/cd/0/inline/CPw-TdwZ3VN2dZfKKupfsRgqfK8ycpHkxvDDqNpoJGE18czpBJiNcejF3-XjSSD4iw5zS8S2N1QwJtZiO4zO85xReZ9MB8lW7Gq_ob1-BkARfbalDg72Jd4xZ-EVLXteOBQ/file\n",
            "Resolving uc1cf0d979ae95708e0968af449c.dl.dropboxusercontent.com (uc1cf0d979ae95708e0968af449c.dl.dropboxusercontent.com)... 162.125.81.15, 2620:100:6031:15::a27d:510f\n",
            "Connecting to uc1cf0d979ae95708e0968af449c.dl.dropboxusercontent.com (uc1cf0d979ae95708e0968af449c.dl.dropboxusercontent.com)|162.125.81.15|:443... connected.\n",
            "HTTP request sent, awaiting response... 200 OK\n",
            "Length: 29806282 (28M) [text/plain]\n",
            "Saving to: ‘flight_data.csv.1’\n",
            "\n",
            "flight_data.csv.1   100%[===================>]  28.42M  7.09MB/s    in 4.3s    \n",
            "\n",
            "2024-03-26 10:08:41 (6.67 MB/s) - ‘flight_data.csv.1’ saved [29806282/29806282]\n",
            "\n"
          ]
        }
      ],
      "source": [
        "# Download the data - This seems to be more straight forward than uploading which we saw in the Tutorial 1\n",
        "!wget https://www.dropbox.com/s/j4q1dd5g1o79u8x/flight_data.csv"
      ]
    },
    {
      "cell_type": "code",
      "execution_count": 3,
      "metadata": {
        "id": "vOYVUcIfRtwa"
      },
      "outputs": [],
      "source": [
        "# read the data\n",
        "nyc_flights = pd.read_csv('flight_data.csv')"
      ]
    },
    {
      "cell_type": "code",
      "execution_count": 4,
      "metadata": {
        "colab": {
          "base_uri": "https://localhost:8080/",
          "height": 357
        },
        "id": "98MtVxGQRyES",
        "outputId": "dae8ad78-75ac-4160-93f8-4993cf972552"
      },
      "outputs": [
        {
          "data": {
            "text/html": [
              "<div>\n",
              "<style scoped>\n",
              "    .dataframe tbody tr th:only-of-type {\n",
              "        vertical-align: middle;\n",
              "    }\n",
              "\n",
              "    .dataframe tbody tr th {\n",
              "        vertical-align: top;\n",
              "    }\n",
              "\n",
              "    .dataframe thead th {\n",
              "        text-align: right;\n",
              "    }\n",
              "</style>\n",
              "<table border=\"1\" class=\"dataframe\">\n",
              "  <thead>\n",
              "    <tr style=\"text-align: right;\">\n",
              "      <th></th>\n",
              "      <th>year</th>\n",
              "      <th>month</th>\n",
              "      <th>day</th>\n",
              "      <th>dep_time</th>\n",
              "      <th>sched_dep_time</th>\n",
              "      <th>dep_delay</th>\n",
              "      <th>arr_time</th>\n",
              "      <th>sched_arr_time</th>\n",
              "      <th>arr_delay</th>\n",
              "      <th>carrier</th>\n",
              "      <th>flight</th>\n",
              "      <th>tailnum</th>\n",
              "      <th>origin</th>\n",
              "      <th>dest</th>\n",
              "      <th>air_time</th>\n",
              "      <th>distance</th>\n",
              "      <th>hour</th>\n",
              "      <th>minute</th>\n",
              "      <th>time_hour</th>\n",
              "    </tr>\n",
              "  </thead>\n",
              "  <tbody>\n",
              "    <tr>\n",
              "      <th>0</th>\n",
              "      <td>2013</td>\n",
              "      <td>1</td>\n",
              "      <td>1</td>\n",
              "      <td>517.0</td>\n",
              "      <td>515</td>\n",
              "      <td>2.0</td>\n",
              "      <td>830.0</td>\n",
              "      <td>819</td>\n",
              "      <td>11.0</td>\n",
              "      <td>UA</td>\n",
              "      <td>1545</td>\n",
              "      <td>N14228</td>\n",
              "      <td>EWR</td>\n",
              "      <td>IAH</td>\n",
              "      <td>227.0</td>\n",
              "      <td>1400</td>\n",
              "      <td>5</td>\n",
              "      <td>15</td>\n",
              "      <td>1/1/2013 5:00</td>\n",
              "    </tr>\n",
              "    <tr>\n",
              "      <th>1</th>\n",
              "      <td>2013</td>\n",
              "      <td>1</td>\n",
              "      <td>1</td>\n",
              "      <td>533.0</td>\n",
              "      <td>529</td>\n",
              "      <td>4.0</td>\n",
              "      <td>850.0</td>\n",
              "      <td>830</td>\n",
              "      <td>20.0</td>\n",
              "      <td>UA</td>\n",
              "      <td>1714</td>\n",
              "      <td>N24211</td>\n",
              "      <td>LGA</td>\n",
              "      <td>IAH</td>\n",
              "      <td>227.0</td>\n",
              "      <td>1416</td>\n",
              "      <td>5</td>\n",
              "      <td>29</td>\n",
              "      <td>1/1/2013 5:00</td>\n",
              "    </tr>\n",
              "    <tr>\n",
              "      <th>2</th>\n",
              "      <td>2013</td>\n",
              "      <td>1</td>\n",
              "      <td>1</td>\n",
              "      <td>542.0</td>\n",
              "      <td>540</td>\n",
              "      <td>2.0</td>\n",
              "      <td>923.0</td>\n",
              "      <td>850</td>\n",
              "      <td>33.0</td>\n",
              "      <td>AA</td>\n",
              "      <td>1141</td>\n",
              "      <td>N619AA</td>\n",
              "      <td>JFK</td>\n",
              "      <td>MIA</td>\n",
              "      <td>160.0</td>\n",
              "      <td>1089</td>\n",
              "      <td>5</td>\n",
              "      <td>40</td>\n",
              "      <td>1/1/2013 5:00</td>\n",
              "    </tr>\n",
              "    <tr>\n",
              "      <th>3</th>\n",
              "      <td>2013</td>\n",
              "      <td>1</td>\n",
              "      <td>1</td>\n",
              "      <td>544.0</td>\n",
              "      <td>545</td>\n",
              "      <td>-1.0</td>\n",
              "      <td>1004.0</td>\n",
              "      <td>1022</td>\n",
              "      <td>-18.0</td>\n",
              "      <td>B6</td>\n",
              "      <td>725</td>\n",
              "      <td>N804JB</td>\n",
              "      <td>JFK</td>\n",
              "      <td>BQN</td>\n",
              "      <td>183.0</td>\n",
              "      <td>1576</td>\n",
              "      <td>5</td>\n",
              "      <td>45</td>\n",
              "      <td>1/1/2013 5:00</td>\n",
              "    </tr>\n",
              "    <tr>\n",
              "      <th>4</th>\n",
              "      <td>2013</td>\n",
              "      <td>1</td>\n",
              "      <td>1</td>\n",
              "      <td>554.0</td>\n",
              "      <td>600</td>\n",
              "      <td>-6.0</td>\n",
              "      <td>812.0</td>\n",
              "      <td>837</td>\n",
              "      <td>-25.0</td>\n",
              "      <td>DL</td>\n",
              "      <td>461</td>\n",
              "      <td>N668DN</td>\n",
              "      <td>LGA</td>\n",
              "      <td>ATL</td>\n",
              "      <td>116.0</td>\n",
              "      <td>762</td>\n",
              "      <td>6</td>\n",
              "      <td>0</td>\n",
              "      <td>1/1/2013 6:00</td>\n",
              "    </tr>\n",
              "  </tbody>\n",
              "</table>\n",
              "</div>"
            ],
            "text/plain": [
              "   year  month  day  dep_time  sched_dep_time  dep_delay  arr_time  \\\n",
              "0  2013      1    1     517.0             515        2.0     830.0   \n",
              "1  2013      1    1     533.0             529        4.0     850.0   \n",
              "2  2013      1    1     542.0             540        2.0     923.0   \n",
              "3  2013      1    1     544.0             545       -1.0    1004.0   \n",
              "4  2013      1    1     554.0             600       -6.0     812.0   \n",
              "\n",
              "   sched_arr_time  arr_delay carrier  flight tailnum origin dest  air_time  \\\n",
              "0             819       11.0      UA    1545  N14228    EWR  IAH     227.0   \n",
              "1             830       20.0      UA    1714  N24211    LGA  IAH     227.0   \n",
              "2             850       33.0      AA    1141  N619AA    JFK  MIA     160.0   \n",
              "3            1022      -18.0      B6     725  N804JB    JFK  BQN     183.0   \n",
              "4             837      -25.0      DL     461  N668DN    LGA  ATL     116.0   \n",
              "\n",
              "   distance  hour  minute      time_hour  \n",
              "0      1400     5      15  1/1/2013 5:00  \n",
              "1      1416     5      29  1/1/2013 5:00  \n",
              "2      1089     5      40  1/1/2013 5:00  \n",
              "3      1576     5      45  1/1/2013 5:00  \n",
              "4       762     6       0  1/1/2013 6:00  "
            ]
          },
          "execution_count": 4,
          "metadata": {},
          "output_type": "execute_result"
        }
      ],
      "source": [
        "# first five rows of the dataset\n",
        "nyc_flights.head()"
      ]
    },
    {
      "cell_type": "markdown",
      "metadata": {
        "id": "uFCQAyV0jq_O"
      },
      "source": [
        "The next step is to get a feel for the different column in our df. Let us use df.info() df.shape"
      ]
    },
    {
      "cell_type": "code",
      "execution_count": 5,
      "metadata": {
        "colab": {
          "base_uri": "https://localhost:8080/"
        },
        "id": "YW_JRzouRzg6",
        "outputId": "0538cdc3-5f50-4418-84cd-5651f3350cf9"
      },
      "outputs": [
        {
          "name": "stdout",
          "output_type": "stream",
          "text": [
            "<class 'pandas.core.frame.DataFrame'>\n",
            "RangeIndex: 336776 entries, 0 to 336775\n",
            "Data columns (total 19 columns):\n",
            " #   Column          Non-Null Count   Dtype  \n",
            "---  ------          --------------   -----  \n",
            " 0   year            336776 non-null  int64  \n",
            " 1   month           336776 non-null  int64  \n",
            " 2   day             336776 non-null  int64  \n",
            " 3   dep_time        328521 non-null  float64\n",
            " 4   sched_dep_time  336776 non-null  int64  \n",
            " 5   dep_delay       328521 non-null  float64\n",
            " 6   arr_time        328063 non-null  float64\n",
            " 7   sched_arr_time  336776 non-null  int64  \n",
            " 8   arr_delay       327346 non-null  float64\n",
            " 9   carrier         336776 non-null  object \n",
            " 10  flight          336776 non-null  int64  \n",
            " 11  tailnum         334264 non-null  object \n",
            " 12  origin          336776 non-null  object \n",
            " 13  dest            336776 non-null  object \n",
            " 14  air_time        327346 non-null  float64\n",
            " 15  distance        336776 non-null  int64  \n",
            " 16  hour            336776 non-null  int64  \n",
            " 17  minute          336776 non-null  int64  \n",
            " 18  time_hour       336776 non-null  object \n",
            "dtypes: float64(5), int64(9), object(5)\n",
            "memory usage: 48.8+ MB\n"
          ]
        }
      ],
      "source": [
        "# information of the dataset\n",
        "nyc_flights.info()"
      ]
    },
    {
      "cell_type": "code",
      "execution_count": 6,
      "metadata": {
        "colab": {
          "base_uri": "https://localhost:8080/"
        },
        "id": "E0leiSsn-JP1",
        "outputId": "30b29787-de28-444b-c354-b11f786e5879"
      },
      "outputs": [
        {
          "data": {
            "text/plain": [
              "(336776, 19)"
            ]
          },
          "execution_count": 6,
          "metadata": {},
          "output_type": "execute_result"
        }
      ],
      "source": [
        "nyc_flights.shape"
      ]
    },
    {
      "cell_type": "markdown",
      "metadata": {
        "id": "H9qTPH2Znzzu"
      },
      "source": [
        "#### Box Plot"
      ]
    },
    {
      "cell_type": "markdown",
      "metadata": {
        "id": "etx4rAf8lP_E"
      },
      "source": [
        "To analyze the relationship between a categorical feature and a continuous feature, we create a boxplot. A boxplot is a simple way of representing statistical data on a plot in which a rectangle is drawn to represent the second and third quartiles, usually with a vertical line inside to indicate the median value. The lower and upper quartiles are shown as horizontal lines at either side of the rectangle.\n",
        "\n",
        "We can plot a boxplot by utilizing `.boxplot()` on our DataFrame. Here, we will plot a boxplot of the `dep_time` column with respect to the three `origin` of the flights from JFK, LGA and EWR."
      ]
    },
    {
      "cell_type": "code",
      "execution_count": 7,
      "metadata": {
        "colab": {
          "base_uri": "https://localhost:8080/",
          "height": 300
        },
        "id": "Z1a9h0Iu-dqG",
        "outputId": "21476bf0-29ab-4918-d5f9-1cafde973daa"
      },
      "outputs": [
        {
          "data": {
            "text/plain": [
              "<Axes: xlabel='origin', ylabel='dep_time'>"
            ]
          },
          "execution_count": 7,
          "metadata": {},
          "output_type": "execute_result"
        },
        {
          "data": {
            "image/png": "[encoded data removed]",
            "text/plain": [
              "<Figure size 640x480 with 1 Axes>"
            ]
          },
          "metadata": {},
          "output_type": "display_data"
        }
      ],
      "source": [
        "sns.boxplot(x=\"origin\", y=\"dep_time\", data=nyc_flights)"
      ]
    },
    {
      "cell_type": "markdown",
      "metadata": {
        "id": "MArxCpHzn3Va"
      },
      "source": [
        "As we will only be dealing with categorical features now, let us extract only the categorical columns. The method `.copy()` is used here so that any changes made in new DataFrame does not get reflected in the original one. dtype = 'object' is the categorical data."
      ]
    },
    {
      "cell_type": "code",
      "execution_count": 8,
      "metadata": {
        "id": "8pd4cWaOnlc1"
      },
      "outputs": [],
      "source": [
        "# filtering the categorical data (data type = 'object')\n",
        "cat_nyc_flights = nyc_flights.select_dtypes(include=['object']).copy()"
      ]
    },
    {
      "cell_type": "code",
      "execution_count": 9,
      "metadata": {
        "colab": {
          "base_uri": "https://localhost:8080/",
          "height": 206
        },
        "id": "aCODAdZ3pfTW",
        "outputId": "bcf6a4e1-fb37-4425-ecb0-04bee445c98c"
      },
      "outputs": [
        {
          "data": {
            "text/html": [
              "<div>\n",
              "<style scoped>\n",
              "    .dataframe tbody tr th:only-of-type {\n",
              "        vertical-align: middle;\n",
              "    }\n",
              "\n",
              "    .dataframe tbody tr th {\n",
              "        vertical-align: top;\n",
              "    }\n",
              "\n",
              "    .dataframe thead th {\n",
              "        text-align: right;\n",
              "    }\n",
              "</style>\n",
              "<table border=\"1\" class=\"dataframe\">\n",
              "  <thead>\n",
              "    <tr style=\"text-align: right;\">\n",
              "      <th></th>\n",
              "      <th>carrier</th>\n",
              "      <th>tailnum</th>\n",
              "      <th>origin</th>\n",
              "      <th>dest</th>\n",
              "      <th>time_hour</th>\n",
              "    </tr>\n",
              "  </thead>\n",
              "  <tbody>\n",
              "    <tr>\n",
              "      <th>0</th>\n",
              "      <td>UA</td>\n",
              "      <td>N14228</td>\n",
              "      <td>EWR</td>\n",
              "      <td>IAH</td>\n",
              "      <td>1/1/2013 5:00</td>\n",
              "    </tr>\n",
              "    <tr>\n",
              "      <th>1</th>\n",
              "      <td>UA</td>\n",
              "      <td>N24211</td>\n",
              "      <td>LGA</td>\n",
              "      <td>IAH</td>\n",
              "      <td>1/1/2013 5:00</td>\n",
              "    </tr>\n",
              "    <tr>\n",
              "      <th>2</th>\n",
              "      <td>AA</td>\n",
              "      <td>N619AA</td>\n",
              "      <td>JFK</td>\n",
              "      <td>MIA</td>\n",
              "      <td>1/1/2013 5:00</td>\n",
              "    </tr>\n",
              "    <tr>\n",
              "      <th>3</th>\n",
              "      <td>B6</td>\n",
              "      <td>N804JB</td>\n",
              "      <td>JFK</td>\n",
              "      <td>BQN</td>\n",
              "      <td>1/1/2013 5:00</td>\n",
              "    </tr>\n",
              "    <tr>\n",
              "      <th>4</th>\n",
              "      <td>DL</td>\n",
              "      <td>N668DN</td>\n",
              "      <td>LGA</td>\n",
              "      <td>ATL</td>\n",
              "      <td>1/1/2013 6:00</td>\n",
              "    </tr>\n",
              "  </tbody>\n",
              "</table>\n",
              "</div>"
            ],
            "text/plain": [
              "  carrier tailnum origin dest      time_hour\n",
              "0      UA  N14228    EWR  IAH  1/1/2013 5:00\n",
              "1      UA  N24211    LGA  IAH  1/1/2013 5:00\n",
              "2      AA  N619AA    JFK  MIA  1/1/2013 5:00\n",
              "3      B6  N804JB    JFK  BQN  1/1/2013 5:00\n",
              "4      DL  N668DN    LGA  ATL  1/1/2013 6:00"
            ]
          },
          "execution_count": 9,
          "metadata": {},
          "output_type": "execute_result"
        }
      ],
      "source": [
        "cat_nyc_flights.head()"
      ]
    },
    {
      "cell_type": "code",
      "execution_count": 10,
      "metadata": {
        "colab": {
          "base_uri": "https://localhost:8080/"
        },
        "id": "LDiz3osbpnlE",
        "outputId": "10aa34d4-2035-4b8b-aee5-36afa3017c0c"
      },
      "outputs": [
        {
          "data": {
            "text/plain": [
              "2512"
            ]
          },
          "execution_count": 10,
          "metadata": {},
          "output_type": "execute_result"
        }
      ],
      "source": [
        "# total null values\n",
        "cat_nyc_flights.isnull().values.sum()"
      ]
    },
    {
      "cell_type": "code",
      "execution_count": 11,
      "metadata": {
        "colab": {
          "base_uri": "https://localhost:8080/"
        },
        "id": "m3Oljh9XqIhI",
        "outputId": "043fb217-ee8c-4362-bd57-6969244642da"
      },
      "outputs": [
        {
          "data": {
            "text/plain": [
              "carrier         0\n",
              "tailnum      2512\n",
              "origin          0\n",
              "dest            0\n",
              "time_hour       0\n",
              "dtype: int64"
            ]
          },
          "execution_count": 11,
          "metadata": {},
          "output_type": "execute_result"
        }
      ],
      "source": [
        "# checking null values in each feature\n",
        "cat_nyc_flights.isnull().sum()"
      ]
    },
    {
      "cell_type": "markdown",
      "metadata": {
        "id": "02vwAmF9qrT7"
      },
      "source": [
        "It seems that only the tailnum column has null values. We can do a mode imputation for those null values. The `.fillna()` method is handy for such operations.\n",
        "\n",
        "We will use a hack to fill this nan. The hack is to use the most frequntly occuring category. "
      ]
    },
    {
      "cell_type": "code",
      "execution_count": 12,
      "metadata": {
        "colab": {
          "base_uri": "https://localhost:8080/",
          "height": 36
        },
        "id": "7RtO2fK2_PBm",
        "outputId": "f8699501-e9fc-46a6-9055-444309e97da1"
      },
      "outputs": [
        {
          "data": {
            "text/plain": [
              "'N725MQ'"
            ]
          },
          "execution_count": 12,
          "metadata": {},
          "output_type": "execute_result"
        }
      ],
      "source": [
        "cat_nyc_flights['tailnum'].value_counts().index[0]"
      ]
    },
    {
      "cell_type": "code",
      "execution_count": 13,
      "metadata": {
        "id": "-zrEken0qjaM"
      },
      "outputs": [],
      "source": [
        "cat_nyc_flights = cat_nyc_flights.fillna(cat_nyc_flights['tailnum'].value_counts().index[0])"
      ]
    },
    {
      "cell_type": "markdown",
      "metadata": {
        "id": "2ekPEXiLBeNO"
      },
      "source": [
        "Using the above method, `.fillna()` will fill the null instances with the mode value - that is the most frequently occuring instance. This is probably not a very good method. Instead, we would ideally need a new ML model to predict the category of the value to be filled."
      ]
    },
    {
      "cell_type": "code",
      "execution_count": 14,
      "metadata": {
        "colab": {
          "base_uri": "https://localhost:8080/"
        },
        "id": "J9DHyrYzBV_O",
        "outputId": "2285b800-ba03-4c56-d5d8-ca9d4d06b5dd"
      },
      "outputs": [
        {
          "data": {
            "text/plain": [
              "carrier      0\n",
              "tailnum      0\n",
              "origin       0\n",
              "dest         0\n",
              "time_hour    0\n",
              "dtype: int64"
            ]
          },
          "execution_count": 14,
          "metadata": {},
          "output_type": "execute_result"
        }
      ],
      "source": [
        "# checking for null values after imputation\n",
        "cat_nyc_flights.isnull().sum()"
      ]
    },
    {
      "cell_type": "markdown",
      "metadata": {
        "id": "uVdvjvANCkaK"
      },
      "source": [
        "Another Exploratory Data Analysis (EDA) step that we might want to do on categorical features is the frequency distribution of categories within the feature, which can be done with the `.value_counts()` method as described earlier."
      ]
    },
    {
      "cell_type": "code",
      "execution_count": 15,
      "metadata": {
        "colab": {
          "base_uri": "https://localhost:8080/"
        },
        "id": "bneO4gcqBwsc",
        "outputId": "20d8ef96-0e7d-41ca-ed4b-18f38f66637a"
      },
      "outputs": [
        {
          "data": {
            "text/plain": [
              "UA    58665\n",
              "B6    54635\n",
              "EV    54173\n",
              "DL    48110\n",
              "AA    32729\n",
              "MQ    26397\n",
              "US    20536\n",
              "9E    18460\n",
              "WN    12275\n",
              "VX     5162\n",
              "FL     3260\n",
              "AS      714\n",
              "F9      685\n",
              "YV      601\n",
              "HA      342\n",
              "OO       32\n",
              "Name: carrier, dtype: int64"
            ]
          },
          "execution_count": 15,
          "metadata": {},
          "output_type": "execute_result"
        }
      ],
      "source": [
        "# value counts of carrier \n",
        "cat_nyc_flights['carrier'].value_counts()"
      ]
    },
    {
      "cell_type": "code",
      "execution_count": 16,
      "metadata": {
        "colab": {
          "base_uri": "https://localhost:8080/"
        },
        "id": "2otFrUoVDHDF",
        "outputId": "4944eb8f-3bd8-4c3e-a080-a55f7b68bcf9"
      },
      "outputs": [
        {
          "data": {
            "text/plain": [
              "16"
            ]
          },
          "execution_count": 16,
          "metadata": {},
          "output_type": "execute_result"
        }
      ],
      "source": [
        "# different carrier counts\n",
        "cat_nyc_flights['carrier'].value_counts().count()"
      ]
    },
    {
      "cell_type": "markdown",
      "metadata": {
        "id": "rYgmMcAgDUrB"
      },
      "source": [
        "This means there are 16 different carriers. Now, we will plot the frequency distribution plot to visualize the carriers."
      ]
    },
    {
      "cell_type": "code",
      "execution_count": 17,
      "metadata": {
        "colab": {
          "base_uri": "https://localhost:8080/",
          "height": 301
        },
        "id": "ZKwewu9_DS4K",
        "outputId": "89b8d233-4a23-4760-fdbe-1e1d2063efe3"
      },
      "outputs": [
        {
          "data": {
            "image/png": "[encoded data removed]",
            "text/plain": [
              "<Figure size 640x480 with 1 Axes>"
            ]
          },
          "metadata": {},
          "output_type": "display_data"
        }
      ],
      "source": [
        "carrier_count = cat_nyc_flights['carrier'].value_counts()\n",
        "sns.set(style=\"darkgrid\")\n",
        "sns.countplot(data = cat_nyc_flights, x = \"carrier\", order=carrier_count.index.values)\n",
        "plt.title('Frequency Distribution of Carriers')\n",
        "plt.ylabel('Number of Occurrences', fontsize=12)\n",
        "plt.xlabel('Carrier', fontsize=12)\n",
        "plt.show()"
      ]
    },
    {
      "cell_type": "code",
      "execution_count": 18,
      "metadata": {
        "colab": {
          "base_uri": "https://localhost:8080/",
          "height": 310
        },
        "id": "QBBXW3glA0X8",
        "outputId": "7d3b0256-ad20-4140-9ae7-c191b4f79b87"
      },
      "outputs": [
        {
          "data": {
            "image/png": "[encoded data removed]",
            "text/plain": [
              "<Figure size 640x480 with 1 Axes>"
            ]
          },
          "metadata": {},
          "output_type": "display_data"
        }
      ],
      "source": [
        "# We can also use pandas to plot the above directly\n",
        "cat_nyc_flights['carrier'].value_counts().plot(kind=\"bar\", color=\"green\")\n",
        "plt.title('Frequency Distribution of Carriers')\n",
        "plt.ylabel('Number of Occurrences', fontsize=12)\n",
        "plt.xlabel('Carrier', fontsize=12)\n",
        "\n",
        "plt.show()"
      ]
    },
    {
      "cell_type": "markdown",
      "metadata": {
        "id": "fSCda_xmE3Od"
      },
      "source": [
        "Now, let us explore different methods to encode the categorical variable so that they can be used in machine learning models."
      ]
    },
    {
      "cell_type": "markdown",
      "metadata": {
        "id": "ukuJBtsDFFR-"
      },
      "source": [
        "### Encoding Categorical Data"
      ]
    },
    {
      "cell_type": "markdown",
      "metadata": {
        "id": "1061ftl3I4lO"
      },
      "source": [
        "To keep it simple, we will apply these encoding methods only on the `carrier` column. However, the same approach can be extended to all other features.\n",
        "\n",
        "The different methods we will be covering here are as follows:\n",
        "\n",
        "* Replacing values\n",
        "* Encoding labels\n",
        "* One-Hot encoding\n",
        "* Binary encoding\n",
        "* Miscellaneous features\n",
        "\n",
        "We can use Pandas or sklearn's preprocessor to achieve the above encoding."
      ]
    },
    {
      "cell_type": "markdown",
      "metadata": {
        "id": "Ge8MsX0vKKk4"
      },
      "source": [
        "#### Replacing Values\n",
        "\n",
        "Let's start with the most basic method, which is just replacing the categories with the desired numbers. This can be achieved with the help of the replace() function in pandas. \n"
      ]
    },
    {
      "cell_type": "code",
      "execution_count": 19,
      "metadata": {
        "colab": {
          "base_uri": "https://localhost:8080/"
        },
        "id": "CYtWhYKYLA9J",
        "outputId": "d015d97a-5663-498b-88f5-42b68a34215e"
      },
      "outputs": [
        {
          "data": {
            "text/plain": [
              "{'carrier': {'UA': 1,\n",
              "  'B6': 2,\n",
              "  'EV': 3,\n",
              "  'DL': 4,\n",
              "  'AA': 5,\n",
              "  'MQ': 6,\n",
              "  'US': 7,\n",
              "  '9E': 8,\n",
              "  'WN': 10,\n",
              "  'VX': 11,\n",
              "  'FL': 12,\n",
              "  'AS': 13,\n",
              "  'F9': 14,\n",
              "  'YV': 15,\n",
              "  'OO': 16}}"
            ]
          },
          "execution_count": 19,
          "metadata": {},
          "output_type": "execute_result"
        }
      ],
      "source": [
        "map_dict = {'carrier':{'UA': 1, 'B6': 2, 'EV': 3, 'DL': 4, 'AA': 5, 'MQ': 6, 'US': 7, '9E': 8, 'WN': 10, \n",
        "                       'VX': 11, 'FL': 12, 'AS': 13, 'F9': 14, 'YV': 15, 'OO':16}}\n",
        "map_dict"
      ]
    },
    {
      "cell_type": "code",
      "execution_count": 20,
      "metadata": {
        "colab": {
          "base_uri": "https://localhost:8080/"
        },
        "id": "yf4cag_iMCbW",
        "outputId": "b562e477-8326-4fe0-c801-320171d2081d"
      },
      "outputs": [
        {
          "name": "stdout",
          "output_type": "stream",
          "text": [
            "{'carrier': {'9E': 1, 'AA': 2, 'AS': 3, 'B6': 4, 'DL': 5, 'EV': 6, 'F9': 7, 'FL': 8, 'HA': 9, 'MQ': 10, 'OO': 11, 'UA': 12, 'US': 13, 'VX': 14, 'WN': 15, 'YV': 16}}\n"
          ]
        }
      ],
      "source": [
        "labels = cat_nyc_flights['carrier'].astype('category').cat.categories.tolist()\n",
        "replace_map_dict = {'carrier' : {k: v for k,v in zip(labels,list(range(1,len(labels)+1)))}}\n",
        "\n",
        "print(replace_map_dict)"
      ]
    },
    {
      "cell_type": "markdown",
      "metadata": {
        "id": "ANiA97v4P7_D"
      },
      "source": [
        "Above, the numbering is replaced alphabatically."
      ]
    },
    {
      "cell_type": "code",
      "execution_count": 21,
      "metadata": {
        "id": "pekkRUYxMVPs"
      },
      "outputs": [],
      "source": [
        "# make a copy of data\n",
        "cat_nyc_flights_replace = cat_nyc_flights.copy()"
      ]
    },
    {
      "cell_type": "markdown",
      "metadata": {
        "id": "v7wpWMhHPU8Z"
      },
      "source": [
        "Use the `.replace()` function on the DataFrame by passing the mapping dictionary as argument:"
      ]
    },
    {
      "cell_type": "code",
      "execution_count": 22,
      "metadata": {
        "colab": {
          "base_uri": "https://localhost:8080/",
          "height": 206
        },
        "id": "8cOYt8klMYA5",
        "outputId": "2d4b9cd7-be0f-438a-bbbe-c10d7bcf8f6d"
      },
      "outputs": [
        {
          "data": {
            "text/html": [
              "<div>\n",
              "<style scoped>\n",
              "    .dataframe tbody tr th:only-of-type {\n",
              "        vertical-align: middle;\n",
              "    }\n",
              "\n",
              "    .dataframe tbody tr th {\n",
              "        vertical-align: top;\n",
              "    }\n",
              "\n",
              "    .dataframe thead th {\n",
              "        text-align: right;\n",
              "    }\n",
              "</style>\n",
              "<table border=\"1\" class=\"dataframe\">\n",
              "  <thead>\n",
              "    <tr style=\"text-align: right;\">\n",
              "      <th></th>\n",
              "      <th>carrier</th>\n",
              "      <th>tailnum</th>\n",
              "      <th>origin</th>\n",
              "      <th>dest</th>\n",
              "      <th>time_hour</th>\n",
              "    </tr>\n",
              "  </thead>\n",
              "  <tbody>\n",
              "    <tr>\n",
              "      <th>0</th>\n",
              "      <td>12</td>\n",
              "      <td>N14228</td>\n",
              "      <td>EWR</td>\n",
              "      <td>IAH</td>\n",
              "      <td>1/1/2013 5:00</td>\n",
              "    </tr>\n",
              "    <tr>\n",
              "      <th>1</th>\n",
              "      <td>12</td>\n",
              "      <td>N24211</td>\n",
              "      <td>LGA</td>\n",
              "      <td>IAH</td>\n",
              "      <td>1/1/2013 5:00</td>\n",
              "    </tr>\n",
              "    <tr>\n",
              "      <th>2</th>\n",
              "      <td>2</td>\n",
              "      <td>N619AA</td>\n",
              "      <td>JFK</td>\n",
              "      <td>MIA</td>\n",
              "      <td>1/1/2013 5:00</td>\n",
              "    </tr>\n",
              "    <tr>\n",
              "      <th>3</th>\n",
              "      <td>4</td>\n",
              "      <td>N804JB</td>\n",
              "      <td>JFK</td>\n",
              "      <td>BQN</td>\n",
              "      <td>1/1/2013 5:00</td>\n",
              "    </tr>\n",
              "    <tr>\n",
              "      <th>4</th>\n",
              "      <td>5</td>\n",
              "      <td>N668DN</td>\n",
              "      <td>LGA</td>\n",
              "      <td>ATL</td>\n",
              "      <td>1/1/2013 6:00</td>\n",
              "    </tr>\n",
              "  </tbody>\n",
              "</table>\n",
              "</div>"
            ],
            "text/plain": [
              "   carrier tailnum origin dest      time_hour\n",
              "0       12  N14228    EWR  IAH  1/1/2013 5:00\n",
              "1       12  N24211    LGA  IAH  1/1/2013 5:00\n",
              "2        2  N619AA    JFK  MIA  1/1/2013 5:00\n",
              "3        4  N804JB    JFK  BQN  1/1/2013 5:00\n",
              "4        5  N668DN    LGA  ATL  1/1/2013 6:00"
            ]
          },
          "execution_count": 22,
          "metadata": {},
          "output_type": "execute_result"
        }
      ],
      "source": [
        "cat_nyc_flights_replace.replace(replace_map_dict, inplace=True)\n",
        "\n",
        "cat_nyc_flights_replace.head()"
      ]
    },
    {
      "cell_type": "markdown",
      "metadata": {
        "id": "lPY1BTfCQSQj"
      },
      "source": [
        "As we can observe, we have encoded the categories with the mapped numbers in your DataFrame."
      ]
    },
    {
      "cell_type": "code",
      "execution_count": 23,
      "metadata": {
        "colab": {
          "base_uri": "https://localhost:8080/"
        },
        "id": "507WVqMnPmpI",
        "outputId": "14ab723c-cbf4-4003-d85d-424ec14174aa"
      },
      "outputs": [
        {
          "data": {
            "text/plain": [
              "dtype('int64')"
            ]
          },
          "execution_count": 23,
          "metadata": {},
          "output_type": "execute_result"
        }
      ],
      "source": [
        "# checking the data type\n",
        "cat_nyc_flights_replace['carrier'].dtype"
      ]
    },
    {
      "cell_type": "markdown",
      "metadata": {
        "id": "CBQ1wH0lQv6t"
      },
      "source": [
        "In python, it is a good practice that we change the data type of categorical features to category. This can be done using `.astype` as shown."
      ]
    },
    {
      "cell_type": "code",
      "execution_count": 24,
      "metadata": {
        "colab": {
          "base_uri": "https://localhost:8080/"
        },
        "id": "a6TGkMXfQdKt",
        "outputId": "0508ce24-df9e-4927-c399-72f5c07f2916"
      },
      "outputs": [
        {
          "data": {
            "text/plain": [
              "carrier      category\n",
              "tailnum        object\n",
              "origin       category\n",
              "dest           object\n",
              "time_hour      object\n",
              "dtype: object"
            ]
          },
          "execution_count": 24,
          "metadata": {},
          "output_type": "execute_result"
        }
      ],
      "source": [
        "cat_nyc_flights_c = cat_nyc_flights.copy()       # making a copy of the dataset\n",
        "cat_nyc_flights_c['carrier'] = cat_nyc_flights_c['carrier'].astype('category')\n",
        "cat_nyc_flights_c['origin'] = cat_nyc_flights_c['origin'].astype('category')                                                              \n",
        "cat_nyc_flights_c.dtypes"
      ]
    },
    {
      "cell_type": "markdown",
      "metadata": {
        "id": "9MAfN9PkRj_9"
      },
      "source": [
        "#### Label Encoding\n",
        "\n",
        "Another approach is to encode categorical values with a technique called \"label encoding\", which allows you to convert each value in a column to a number. Numerical labels are always between 0 and n_categories-1.\n",
        "\n",
        "sklearn's LabelEncoder and OrdinalEncoder achieve the above conversion. LabelEncoder takes only one column as input, whereas OrdinalEncoder allows using a 2D input. That is the difference. \n",
        "\n",
        "Or we can do label encoding via attributes .cat.codes on the DataFrame's column.\n",
        "\n"
      ]
    },
    {
      "cell_type": "code",
      "execution_count": 25,
      "metadata": {
        "id": "4YR2AiUgRRDs"
      },
      "outputs": [],
      "source": [
        "# label encoding using cat.codes\n",
        "cat_nyc_flights_c['carrier'] = cat_nyc_flights_c['carrier'].cat.codes"
      ]
    },
    {
      "cell_type": "code",
      "execution_count": 26,
      "metadata": {
        "colab": {
          "base_uri": "https://localhost:8080/",
          "height": 206
        },
        "id": "S2uEtWLeR00U",
        "outputId": "258081c1-1a01-416d-a550-5f5a4bfcded4"
      },
      "outputs": [
        {
          "data": {
            "text/html": [
              "<div>\n",
              "<style scoped>\n",
              "    .dataframe tbody tr th:only-of-type {\n",
              "        vertical-align: middle;\n",
              "    }\n",
              "\n",
              "    .dataframe tbody tr th {\n",
              "        vertical-align: top;\n",
              "    }\n",
              "\n",
              "    .dataframe thead th {\n",
              "        text-align: right;\n",
              "    }\n",
              "</style>\n",
              "<table border=\"1\" class=\"dataframe\">\n",
              "  <thead>\n",
              "    <tr style=\"text-align: right;\">\n",
              "      <th></th>\n",
              "      <th>carrier</th>\n",
              "      <th>tailnum</th>\n",
              "      <th>origin</th>\n",
              "      <th>dest</th>\n",
              "      <th>time_hour</th>\n",
              "    </tr>\n",
              "  </thead>\n",
              "  <tbody>\n",
              "    <tr>\n",
              "      <th>0</th>\n",
              "      <td>11</td>\n",
              "      <td>N14228</td>\n",
              "      <td>EWR</td>\n",
              "      <td>IAH</td>\n",
              "      <td>1/1/2013 5:00</td>\n",
              "    </tr>\n",
              "    <tr>\n",
              "      <th>1</th>\n",
              "      <td>11</td>\n",
              "      <td>N24211</td>\n",
              "      <td>LGA</td>\n",
              "      <td>IAH</td>\n",
              "      <td>1/1/2013 5:00</td>\n",
              "    </tr>\n",
              "    <tr>\n",
              "      <th>2</th>\n",
              "      <td>1</td>\n",
              "      <td>N619AA</td>\n",
              "      <td>JFK</td>\n",
              "      <td>MIA</td>\n",
              "      <td>1/1/2013 5:00</td>\n",
              "    </tr>\n",
              "    <tr>\n",
              "      <th>3</th>\n",
              "      <td>3</td>\n",
              "      <td>N804JB</td>\n",
              "      <td>JFK</td>\n",
              "      <td>BQN</td>\n",
              "      <td>1/1/2013 5:00</td>\n",
              "    </tr>\n",
              "    <tr>\n",
              "      <th>4</th>\n",
              "      <td>4</td>\n",
              "      <td>N668DN</td>\n",
              "      <td>LGA</td>\n",
              "      <td>ATL</td>\n",
              "      <td>1/1/2013 6:00</td>\n",
              "    </tr>\n",
              "  </tbody>\n",
              "</table>\n",
              "</div>"
            ],
            "text/plain": [
              "   carrier tailnum origin dest      time_hour\n",
              "0       11  N14228    EWR  IAH  1/1/2013 5:00\n",
              "1       11  N24211    LGA  IAH  1/1/2013 5:00\n",
              "2        1  N619AA    JFK  MIA  1/1/2013 5:00\n",
              "3        3  N804JB    JFK  BQN  1/1/2013 5:00\n",
              "4        4  N668DN    LGA  ATL  1/1/2013 6:00"
            ]
          },
          "execution_count": 26,
          "metadata": {},
          "output_type": "execute_result"
        }
      ],
      "source": [
        "cat_nyc_flights_c.head()     #alphabetically labeled from 0 to 10\n"
      ]
    },
    {
      "cell_type": "markdown",
      "metadata": {
        "id": "qMYFw1kxUNts"
      },
      "source": [
        "Suppose we want only a particular category to some value and other category to some other values. This can be done by `numpy` `.where()` method. Here, we will encode all the UA carrier flights to value 1 and other carriers to value 0. "
      ]
    },
    {
      "cell_type": "code",
      "execution_count": 27,
      "metadata": {
        "colab": {
          "base_uri": "https://localhost:8080/",
          "height": 206
        },
        "id": "z8wNvie5R4yZ",
        "outputId": "2b64bdb5-c5c2-4f10-d169-1a59d5aa36dd"
      },
      "outputs": [
        {
          "data": {
            "text/html": [
              "<div>\n",
              "<style scoped>\n",
              "    .dataframe tbody tr th:only-of-type {\n",
              "        vertical-align: middle;\n",
              "    }\n",
              "\n",
              "    .dataframe tbody tr th {\n",
              "        vertical-align: top;\n",
              "    }\n",
              "\n",
              "    .dataframe thead th {\n",
              "        text-align: right;\n",
              "    }\n",
              "</style>\n",
              "<table border=\"1\" class=\"dataframe\">\n",
              "  <thead>\n",
              "    <tr style=\"text-align: right;\">\n",
              "      <th></th>\n",
              "      <th>carrier</th>\n",
              "      <th>tailnum</th>\n",
              "      <th>origin</th>\n",
              "      <th>dest</th>\n",
              "      <th>time_hour</th>\n",
              "      <th>UA_encode</th>\n",
              "    </tr>\n",
              "  </thead>\n",
              "  <tbody>\n",
              "    <tr>\n",
              "      <th>0</th>\n",
              "      <td>UA</td>\n",
              "      <td>N14228</td>\n",
              "      <td>EWR</td>\n",
              "      <td>IAH</td>\n",
              "      <td>1/1/2013 5:00</td>\n",
              "      <td>1</td>\n",
              "    </tr>\n",
              "    <tr>\n",
              "      <th>1</th>\n",
              "      <td>UA</td>\n",
              "      <td>N24211</td>\n",
              "      <td>LGA</td>\n",
              "      <td>IAH</td>\n",
              "      <td>1/1/2013 5:00</td>\n",
              "      <td>1</td>\n",
              "    </tr>\n",
              "    <tr>\n",
              "      <th>2</th>\n",
              "      <td>AA</td>\n",
              "      <td>N619AA</td>\n",
              "      <td>JFK</td>\n",
              "      <td>MIA</td>\n",
              "      <td>1/1/2013 5:00</td>\n",
              "      <td>0</td>\n",
              "    </tr>\n",
              "    <tr>\n",
              "      <th>3</th>\n",
              "      <td>B6</td>\n",
              "      <td>N804JB</td>\n",
              "      <td>JFK</td>\n",
              "      <td>BQN</td>\n",
              "      <td>1/1/2013 5:00</td>\n",
              "      <td>0</td>\n",
              "    </tr>\n",
              "    <tr>\n",
              "      <th>4</th>\n",
              "      <td>DL</td>\n",
              "      <td>N668DN</td>\n",
              "      <td>LGA</td>\n",
              "      <td>ATL</td>\n",
              "      <td>1/1/2013 6:00</td>\n",
              "      <td>0</td>\n",
              "    </tr>\n",
              "  </tbody>\n",
              "</table>\n",
              "</div>"
            ],
            "text/plain": [
              "  carrier tailnum origin dest      time_hour  UA_encode\n",
              "0      UA  N14228    EWR  IAH  1/1/2013 5:00          1\n",
              "1      UA  N24211    LGA  IAH  1/1/2013 5:00          1\n",
              "2      AA  N619AA    JFK  MIA  1/1/2013 5:00          0\n",
              "3      B6  N804JB    JFK  BQN  1/1/2013 5:00          0\n",
              "4      DL  N668DN    LGA  ATL  1/1/2013 6:00          0"
            ]
          },
          "execution_count": 27,
          "metadata": {},
          "output_type": "execute_result"
        }
      ],
      "source": [
        "cat_nyc_flights_specific = cat_nyc_flights.copy()\n",
        "cat_nyc_flights_specific['UA_encode'] = np.where(cat_nyc_flights_specific['carrier'].str.contains('UA'), 1, 0)\n",
        "\n",
        "cat_nyc_flights_specific.head()"
      ]
    },
    {
      "cell_type": "markdown",
      "metadata": {
        "id": "2sXaEPRjVEDN"
      },
      "source": [
        "Using **LabelEncoder**. Since, we are handling only one column."
      ]
    },
    {
      "cell_type": "code",
      "execution_count": 28,
      "metadata": {
        "colab": {
          "base_uri": "https://localhost:8080/",
          "height": 206
        },
        "id": "09UsqDdxU6gT",
        "outputId": "2a682328-8ed5-4019-b6db-0a9b5e21230c"
      },
      "outputs": [
        {
          "data": {
            "text/html": [
              "<div>\n",
              "<style scoped>\n",
              "    .dataframe tbody tr th:only-of-type {\n",
              "        vertical-align: middle;\n",
              "    }\n",
              "\n",
              "    .dataframe tbody tr th {\n",
              "        vertical-align: top;\n",
              "    }\n",
              "\n",
              "    .dataframe thead th {\n",
              "        text-align: right;\n",
              "    }\n",
              "</style>\n",
              "<table border=\"1\" class=\"dataframe\">\n",
              "  <thead>\n",
              "    <tr style=\"text-align: right;\">\n",
              "      <th></th>\n",
              "      <th>carrier</th>\n",
              "      <th>tailnum</th>\n",
              "      <th>origin</th>\n",
              "      <th>dest</th>\n",
              "      <th>time_hour</th>\n",
              "      <th>carrier_label_code</th>\n",
              "    </tr>\n",
              "  </thead>\n",
              "  <tbody>\n",
              "    <tr>\n",
              "      <th>0</th>\n",
              "      <td>UA</td>\n",
              "      <td>N14228</td>\n",
              "      <td>EWR</td>\n",
              "      <td>IAH</td>\n",
              "      <td>1/1/2013 5:00</td>\n",
              "      <td>11</td>\n",
              "    </tr>\n",
              "    <tr>\n",
              "      <th>1</th>\n",
              "      <td>UA</td>\n",
              "      <td>N24211</td>\n",
              "      <td>LGA</td>\n",
              "      <td>IAH</td>\n",
              "      <td>1/1/2013 5:00</td>\n",
              "      <td>11</td>\n",
              "    </tr>\n",
              "    <tr>\n",
              "      <th>2</th>\n",
              "      <td>AA</td>\n",
              "      <td>N619AA</td>\n",
              "      <td>JFK</td>\n",
              "      <td>MIA</td>\n",
              "      <td>1/1/2013 5:00</td>\n",
              "      <td>1</td>\n",
              "    </tr>\n",
              "    <tr>\n",
              "      <th>3</th>\n",
              "      <td>B6</td>\n",
              "      <td>N804JB</td>\n",
              "      <td>JFK</td>\n",
              "      <td>BQN</td>\n",
              "      <td>1/1/2013 5:00</td>\n",
              "      <td>3</td>\n",
              "    </tr>\n",
              "    <tr>\n",
              "      <th>4</th>\n",
              "      <td>DL</td>\n",
              "      <td>N668DN</td>\n",
              "      <td>LGA</td>\n",
              "      <td>ATL</td>\n",
              "      <td>1/1/2013 6:00</td>\n",
              "      <td>4</td>\n",
              "    </tr>\n",
              "  </tbody>\n",
              "</table>\n",
              "</div>"
            ],
            "text/plain": [
              "  carrier tailnum origin dest      time_hour  carrier_label_code\n",
              "0      UA  N14228    EWR  IAH  1/1/2013 5:00                  11\n",
              "1      UA  N24211    LGA  IAH  1/1/2013 5:00                  11\n",
              "2      AA  N619AA    JFK  MIA  1/1/2013 5:00                   1\n",
              "3      B6  N804JB    JFK  BQN  1/1/2013 5:00                   3\n",
              "4      DL  N668DN    LGA  ATL  1/1/2013 6:00                   4"
            ]
          },
          "execution_count": 28,
          "metadata": {},
          "output_type": "execute_result"
        }
      ],
      "source": [
        "from sklearn.preprocessing import LabelEncoder\n",
        "\n",
        "cat_nyc_flights_LE = cat_nyc_flights.copy()      #copying the original data\n",
        "\n",
        "le = LabelEncoder()\n",
        "cat_nyc_flights_LE['carrier_label_code'] = le.fit_transform(cat_nyc_flights['carrier'])\n",
        "\n",
        "cat_nyc_flights_LE.head()                        #Results in appending a new column to df"
      ]
    },
    {
      "cell_type": "markdown",
      "metadata": {
        "id": "sNzBPjCKWJUk"
      },
      "source": [
        "Label encoding is pretty much intuitive and straight-forward and may give a good performance from our learning algorithm, but it has as disadvantage that the numerical values can be misinterpreted by the algorithm. Should the carrier UA (encoded to 11) be given 11x more weight than the carrier AA (encoded to 1) ?\n",
        "\n",
        "To solve this issue there is another popular way to encode the categories via something called one-hot encoding."
      ]
    },
    {
      "cell_type": "markdown",
      "metadata": {
        "id": "uCTRwIXkWUTu"
      },
      "source": [
        "#### One Hot Encoding\n",
        "\n",
        "The basic strategy is to convert each category value into a new column and assign a 1 or 0 (True/False) value to the column. This has the benefit of not weighting a value improperly.\n",
        "\n",
        "There are many libraries out there that support one-hot encoding but the simplest one is using pandas' `.get_dummies()` method.\n",
        "\n",
        "This function is named this way because it creates dummy/indicator variables (1 or 0). There are mainly three arguments important here, the first one is the DataFrame we want to encode on"
      ]
    },
    {
      "cell_type": "code",
      "execution_count": 29,
      "metadata": {
        "colab": {
          "base_uri": "https://localhost:8080/",
          "height": 357
        },
        "id": "IRNPkGP-Vzkt",
        "outputId": "76b51c35-a5ff-491f-dade-e768675a4733"
      },
      "outputs": [
        {
          "data": {
            "text/html": [
              "<div>\n",
              "<style scoped>\n",
              "    .dataframe tbody tr th:only-of-type {\n",
              "        vertical-align: middle;\n",
              "    }\n",
              "\n",
              "    .dataframe tbody tr th {\n",
              "        vertical-align: top;\n",
              "    }\n",
              "\n",
              "    .dataframe thead th {\n",
              "        text-align: right;\n",
              "    }\n",
              "</style>\n",
              "<table border=\"1\" class=\"dataframe\">\n",
              "  <thead>\n",
              "    <tr style=\"text-align: right;\">\n",
              "      <th></th>\n",
              "      <th>tailnum</th>\n",
              "      <th>origin</th>\n",
              "      <th>dest</th>\n",
              "      <th>time_hour</th>\n",
              "      <th>carrier_9E</th>\n",
              "      <th>carrier_AA</th>\n",
              "      <th>carrier_AS</th>\n",
              "      <th>carrier_B6</th>\n",
              "      <th>carrier_DL</th>\n",
              "      <th>carrier_EV</th>\n",
              "      <th>carrier_F9</th>\n",
              "      <th>carrier_FL</th>\n",
              "      <th>carrier_HA</th>\n",
              "      <th>carrier_MQ</th>\n",
              "      <th>carrier_OO</th>\n",
              "      <th>carrier_UA</th>\n",
              "      <th>carrier_US</th>\n",
              "      <th>carrier_VX</th>\n",
              "      <th>carrier_WN</th>\n",
              "      <th>carrier_YV</th>\n",
              "    </tr>\n",
              "  </thead>\n",
              "  <tbody>\n",
              "    <tr>\n",
              "      <th>0</th>\n",
              "      <td>N14228</td>\n",
              "      <td>EWR</td>\n",
              "      <td>IAH</td>\n",
              "      <td>1/1/2013 5:00</td>\n",
              "      <td>0</td>\n",
              "      <td>0</td>\n",
              "      <td>0</td>\n",
              "      <td>0</td>\n",
              "      <td>0</td>\n",
              "      <td>0</td>\n",
              "      <td>0</td>\n",
              "      <td>0</td>\n",
              "      <td>0</td>\n",
              "      <td>0</td>\n",
              "      <td>0</td>\n",
              "      <td>1</td>\n",
              "      <td>0</td>\n",
              "      <td>0</td>\n",
              "      <td>0</td>\n",
              "      <td>0</td>\n",
              "    </tr>\n",
              "    <tr>\n",
              "      <th>1</th>\n",
              "      <td>N24211</td>\n",
              "      <td>LGA</td>\n",
              "      <td>IAH</td>\n",
              "      <td>1/1/2013 5:00</td>\n",
              "      <td>0</td>\n",
              "      <td>0</td>\n",
              "      <td>0</td>\n",
              "      <td>0</td>\n",
              "      <td>0</td>\n",
              "      <td>0</td>\n",
              "      <td>0</td>\n",
              "      <td>0</td>\n",
              "      <td>0</td>\n",
              "      <td>0</td>\n",
              "      <td>0</td>\n",
              "      <td>1</td>\n",
              "      <td>0</td>\n",
              "      <td>0</td>\n",
              "      <td>0</td>\n",
              "      <td>0</td>\n",
              "    </tr>\n",
              "    <tr>\n",
              "      <th>2</th>\n",
              "      <td>N619AA</td>\n",
              "      <td>JFK</td>\n",
              "      <td>MIA</td>\n",
              "      <td>1/1/2013 5:00</td>\n",
              "      <td>0</td>\n",
              "      <td>1</td>\n",
              "      <td>0</td>\n",
              "      <td>0</td>\n",
              "      <td>0</td>\n",
              "      <td>0</td>\n",
              "      <td>0</td>\n",
              "      <td>0</td>\n",
              "      <td>0</td>\n",
              "      <td>0</td>\n",
              "      <td>0</td>\n",
              "      <td>0</td>\n",
              "      <td>0</td>\n",
              "      <td>0</td>\n",
              "      <td>0</td>\n",
              "      <td>0</td>\n",
              "    </tr>\n",
              "    <tr>\n",
              "      <th>3</th>\n",
              "      <td>N804JB</td>\n",
              "      <td>JFK</td>\n",
              "      <td>BQN</td>\n",
              "      <td>1/1/2013 5:00</td>\n",
              "      <td>0</td>\n",
              "      <td>0</td>\n",
              "      <td>0</td>\n",
              "      <td>1</td>\n",
              "      <td>0</td>\n",
              "      <td>0</td>\n",
              "      <td>0</td>\n",
              "      <td>0</td>\n",
              "      <td>0</td>\n",
              "      <td>0</td>\n",
              "      <td>0</td>\n",
              "      <td>0</td>\n",
              "      <td>0</td>\n",
              "      <td>0</td>\n",
              "      <td>0</td>\n",
              "      <td>0</td>\n",
              "    </tr>\n",
              "    <tr>\n",
              "      <th>4</th>\n",
              "      <td>N668DN</td>\n",
              "      <td>LGA</td>\n",
              "      <td>ATL</td>\n",
              "      <td>1/1/2013 6:00</td>\n",
              "      <td>0</td>\n",
              "      <td>0</td>\n",
              "      <td>0</td>\n",
              "      <td>0</td>\n",
              "      <td>1</td>\n",
              "      <td>0</td>\n",
              "      <td>0</td>\n",
              "      <td>0</td>\n",
              "      <td>0</td>\n",
              "      <td>0</td>\n",
              "      <td>0</td>\n",
              "      <td>0</td>\n",
              "      <td>0</td>\n",
              "      <td>0</td>\n",
              "      <td>0</td>\n",
              "      <td>0</td>\n",
              "    </tr>\n",
              "  </tbody>\n",
              "</table>\n",
              "</div>"
            ],
            "text/plain": [
              "  tailnum origin dest      time_hour  carrier_9E  carrier_AA  carrier_AS  \\\n",
              "0  N14228    EWR  IAH  1/1/2013 5:00           0           0           0   \n",
              "1  N24211    LGA  IAH  1/1/2013 5:00           0           0           0   \n",
              "2  N619AA    JFK  MIA  1/1/2013 5:00           0           1           0   \n",
              "3  N804JB    JFK  BQN  1/1/2013 5:00           0           0           0   \n",
              "4  N668DN    LGA  ATL  1/1/2013 6:00           0           0           0   \n",
              "\n",
              "   carrier_B6  carrier_DL  carrier_EV  carrier_F9  carrier_FL  carrier_HA  \\\n",
              "0           0           0           0           0           0           0   \n",
              "1           0           0           0           0           0           0   \n",
              "2           0           0           0           0           0           0   \n",
              "3           1           0           0           0           0           0   \n",
              "4           0           1           0           0           0           0   \n",
              "\n",
              "   carrier_MQ  carrier_OO  carrier_UA  carrier_US  carrier_VX  carrier_WN  \\\n",
              "0           0           0           1           0           0           0   \n",
              "1           0           0           1           0           0           0   \n",
              "2           0           0           0           0           0           0   \n",
              "3           0           0           0           0           0           0   \n",
              "4           0           0           0           0           0           0   \n",
              "\n",
              "   carrier_YV  \n",
              "0           0  \n",
              "1           0  \n",
              "2           0  \n",
              "3           0  \n",
              "4           0  "
            ]
          },
          "execution_count": 29,
          "metadata": {},
          "output_type": "execute_result"
        }
      ],
      "source": [
        "cat_nyc_flights_onehot = cat_nyc_flights.copy()\n",
        "cat_nyc_flights_onehot = pd.get_dummies(cat_nyc_flights_onehot, columns=['carrier'], prefix = ['carrier'])\n",
        "\n",
        "cat_nyc_flights_onehot.head()"
      ]
    },
    {
      "cell_type": "markdown",
      "metadata": {
        "id": "OAsgrZHvW_7d"
      },
      "source": [
        "As we can see, the column carrier_US gets value 1 at the 0th and 1st observation points as those points had the UA category labeled in the original DataFrame. Likewise for other columns also.\n",
        "\n",
        "scikit-learn also supports one hot encoding via **LabelBinarizer** and OneHotEncoder in its preprocessing module. Just for the sake of practicing, will do the same encoding via LabelBinarizer:"
      ]
    },
    {
      "cell_type": "code",
      "execution_count": 30,
      "metadata": {
        "colab": {
          "base_uri": "https://localhost:8080/",
          "height": 206
        },
        "id": "TL5cpvqRWr6A",
        "outputId": "b3b2f293-ec7e-40ad-dfcb-7d616292d617"
      },
      "outputs": [
        {
          "data": {
            "text/html": [
              "<div>\n",
              "<style scoped>\n",
              "    .dataframe tbody tr th:only-of-type {\n",
              "        vertical-align: middle;\n",
              "    }\n",
              "\n",
              "    .dataframe tbody tr th {\n",
              "        vertical-align: top;\n",
              "    }\n",
              "\n",
              "    .dataframe thead th {\n",
              "        text-align: right;\n",
              "    }\n",
              "</style>\n",
              "<table border=\"1\" class=\"dataframe\">\n",
              "  <thead>\n",
              "    <tr style=\"text-align: right;\">\n",
              "      <th></th>\n",
              "      <th>9E</th>\n",
              "      <th>AA</th>\n",
              "      <th>AS</th>\n",
              "      <th>B6</th>\n",
              "      <th>DL</th>\n",
              "      <th>EV</th>\n",
              "      <th>F9</th>\n",
              "      <th>FL</th>\n",
              "      <th>HA</th>\n",
              "      <th>MQ</th>\n",
              "      <th>OO</th>\n",
              "      <th>UA</th>\n",
              "      <th>US</th>\n",
              "      <th>VX</th>\n",
              "      <th>WN</th>\n",
              "      <th>YV</th>\n",
              "    </tr>\n",
              "  </thead>\n",
              "  <tbody>\n",
              "    <tr>\n",
              "      <th>0</th>\n",
              "      <td>0</td>\n",
              "      <td>0</td>\n",
              "      <td>0</td>\n",
              "      <td>0</td>\n",
              "      <td>0</td>\n",
              "      <td>0</td>\n",
              "      <td>0</td>\n",
              "      <td>0</td>\n",
              "      <td>0</td>\n",
              "      <td>0</td>\n",
              "      <td>0</td>\n",
              "      <td>1</td>\n",
              "      <td>0</td>\n",
              "      <td>0</td>\n",
              "      <td>0</td>\n",
              "      <td>0</td>\n",
              "    </tr>\n",
              "    <tr>\n",
              "      <th>1</th>\n",
              "      <td>0</td>\n",
              "      <td>0</td>\n",
              "      <td>0</td>\n",
              "      <td>0</td>\n",
              "      <td>0</td>\n",
              "      <td>0</td>\n",
              "      <td>0</td>\n",
              "      <td>0</td>\n",
              "      <td>0</td>\n",
              "      <td>0</td>\n",
              "      <td>0</td>\n",
              "      <td>1</td>\n",
              "      <td>0</td>\n",
              "      <td>0</td>\n",
              "      <td>0</td>\n",
              "      <td>0</td>\n",
              "    </tr>\n",
              "    <tr>\n",
              "      <th>2</th>\n",
              "      <td>0</td>\n",
              "      <td>1</td>\n",
              "      <td>0</td>\n",
              "      <td>0</td>\n",
              "      <td>0</td>\n",
              "      <td>0</td>\n",
              "      <td>0</td>\n",
              "      <td>0</td>\n",
              "      <td>0</td>\n",
              "      <td>0</td>\n",
              "      <td>0</td>\n",
              "      <td>0</td>\n",
              "      <td>0</td>\n",
              "      <td>0</td>\n",
              "      <td>0</td>\n",
              "      <td>0</td>\n",
              "    </tr>\n",
              "    <tr>\n",
              "      <th>3</th>\n",
              "      <td>0</td>\n",
              "      <td>0</td>\n",
              "      <td>0</td>\n",
              "      <td>1</td>\n",
              "      <td>0</td>\n",
              "      <td>0</td>\n",
              "      <td>0</td>\n",
              "      <td>0</td>\n",
              "      <td>0</td>\n",
              "      <td>0</td>\n",
              "      <td>0</td>\n",
              "      <td>0</td>\n",
              "      <td>0</td>\n",
              "      <td>0</td>\n",
              "      <td>0</td>\n",
              "      <td>0</td>\n",
              "    </tr>\n",
              "    <tr>\n",
              "      <th>4</th>\n",
              "      <td>0</td>\n",
              "      <td>0</td>\n",
              "      <td>0</td>\n",
              "      <td>0</td>\n",
              "      <td>1</td>\n",
              "      <td>0</td>\n",
              "      <td>0</td>\n",
              "      <td>0</td>\n",
              "      <td>0</td>\n",
              "      <td>0</td>\n",
              "      <td>0</td>\n",
              "      <td>0</td>\n",
              "      <td>0</td>\n",
              "      <td>0</td>\n",
              "      <td>0</td>\n",
              "      <td>0</td>\n",
              "    </tr>\n",
              "  </tbody>\n",
              "</table>\n",
              "</div>"
            ],
            "text/plain": [
              "   9E  AA  AS  B6  DL  EV  F9  FL  HA  MQ  OO  UA  US  VX  WN  YV\n",
              "0   0   0   0   0   0   0   0   0   0   0   0   1   0   0   0   0\n",
              "1   0   0   0   0   0   0   0   0   0   0   0   1   0   0   0   0\n",
              "2   0   1   0   0   0   0   0   0   0   0   0   0   0   0   0   0\n",
              "3   0   0   0   1   0   0   0   0   0   0   0   0   0   0   0   0\n",
              "4   0   0   0   0   1   0   0   0   0   0   0   0   0   0   0   0"
            ]
          },
          "execution_count": 30,
          "metadata": {},
          "output_type": "execute_result"
        }
      ],
      "source": [
        "from sklearn.preprocessing import LabelBinarizer\n",
        "cat_nyc_flights_onehot_sklearn = cat_nyc_flights.copy()\n",
        "\n",
        "lb = LabelBinarizer()\n",
        "lb_code = lb.fit_transform(cat_nyc_flights_onehot_sklearn['carrier'])\n",
        "lb_code_nyc = pd.DataFrame(lb_code, columns=lb.classes_)\n",
        "\n",
        "lb_code_nyc.head()"
      ]
    },
    {
      "cell_type": "markdown",
      "metadata": {
        "id": "DTk0qVcKwA0i"
      },
      "source": [
        "Now, this resulted in a new DataFrame with only the one hot encodings for the feature `carrier` and it needs to be added to the dataframe using `.concat()` method in pandas."
      ]
    },
    {
      "cell_type": "code",
      "execution_count": 31,
      "metadata": {
        "colab": {
          "base_uri": "https://localhost:8080/",
          "height": 206
        },
        "id": "0cU2xPW0rNkr",
        "outputId": "338929ac-3873-463d-b9c5-7fee18f8c5d5"
      },
      "outputs": [
        {
          "data": {
            "text/html": [
              "<div>\n",
              "<style scoped>\n",
              "    .dataframe tbody tr th:only-of-type {\n",
              "        vertical-align: middle;\n",
              "    }\n",
              "\n",
              "    .dataframe tbody tr th {\n",
              "        vertical-align: top;\n",
              "    }\n",
              "\n",
              "    .dataframe thead th {\n",
              "        text-align: right;\n",
              "    }\n",
              "</style>\n",
              "<table border=\"1\" class=\"dataframe\">\n",
              "  <thead>\n",
              "    <tr style=\"text-align: right;\">\n",
              "      <th></th>\n",
              "      <th>carrier</th>\n",
              "      <th>tailnum</th>\n",
              "      <th>origin</th>\n",
              "      <th>dest</th>\n",
              "      <th>time_hour</th>\n",
              "      <th>9E</th>\n",
              "      <th>AA</th>\n",
              "      <th>AS</th>\n",
              "      <th>B6</th>\n",
              "      <th>DL</th>\n",
              "      <th>...</th>\n",
              "      <th>F9</th>\n",
              "      <th>FL</th>\n",
              "      <th>HA</th>\n",
              "      <th>MQ</th>\n",
              "      <th>OO</th>\n",
              "      <th>UA</th>\n",
              "      <th>US</th>\n",
              "      <th>VX</th>\n",
              "      <th>WN</th>\n",
              "      <th>YV</th>\n",
              "    </tr>\n",
              "  </thead>\n",
              "  <tbody>\n",
              "    <tr>\n",
              "      <th>0</th>\n",
              "      <td>UA</td>\n",
              "      <td>N14228</td>\n",
              "      <td>EWR</td>\n",
              "      <td>IAH</td>\n",
              "      <td>1/1/2013 5:00</td>\n",
              "      <td>0</td>\n",
              "      <td>0</td>\n",
              "      <td>0</td>\n",
              "      <td>0</td>\n",
              "      <td>0</td>\n",
              "      <td>...</td>\n",
              "      <td>0</td>\n",
              "      <td>0</td>\n",
              "      <td>0</td>\n",
              "      <td>0</td>\n",
              "      <td>0</td>\n",
              "      <td>1</td>\n",
              "      <td>0</td>\n",
              "      <td>0</td>\n",
              "      <td>0</td>\n",
              "      <td>0</td>\n",
              "    </tr>\n",
              "    <tr>\n",
              "      <th>1</th>\n",
              "      <td>UA</td>\n",
              "      <td>N24211</td>\n",
              "      <td>LGA</td>\n",
              "      <td>IAH</td>\n",
              "      <td>1/1/2013 5:00</td>\n",
              "      <td>0</td>\n",
              "      <td>0</td>\n",
              "      <td>0</td>\n",
              "      <td>0</td>\n",
              "      <td>0</td>\n",
              "      <td>...</td>\n",
              "      <td>0</td>\n",
              "      <td>0</td>\n",
              "      <td>0</td>\n",
              "      <td>0</td>\n",
              "      <td>0</td>\n",
              "      <td>1</td>\n",
              "      <td>0</td>\n",
              "      <td>0</td>\n",
              "      <td>0</td>\n",
              "      <td>0</td>\n",
              "    </tr>\n",
              "    <tr>\n",
              "      <th>2</th>\n",
              "      <td>AA</td>\n",
              "      <td>N619AA</td>\n",
              "      <td>JFK</td>\n",
              "      <td>MIA</td>\n",
              "      <td>1/1/2013 5:00</td>\n",
              "      <td>0</td>\n",
              "      <td>1</td>\n",
              "      <td>0</td>\n",
              "      <td>0</td>\n",
              "      <td>0</td>\n",
              "      <td>...</td>\n",
              "      <td>0</td>\n",
              "      <td>0</td>\n",
              "      <td>0</td>\n",
              "      <td>0</td>\n",
              "      <td>0</td>\n",
              "      <td>0</td>\n",
              "      <td>0</td>\n",
              "      <td>0</td>\n",
              "      <td>0</td>\n",
              "      <td>0</td>\n",
              "    </tr>\n",
              "    <tr>\n",
              "      <th>3</th>\n",
              "      <td>B6</td>\n",
              "      <td>N804JB</td>\n",
              "      <td>JFK</td>\n",
              "      <td>BQN</td>\n",
              "      <td>1/1/2013 5:00</td>\n",
              "      <td>0</td>\n",
              "      <td>0</td>\n",
              "      <td>0</td>\n",
              "      <td>1</td>\n",
              "      <td>0</td>\n",
              "      <td>...</td>\n",
              "      <td>0</td>\n",
              "      <td>0</td>\n",
              "      <td>0</td>\n",
              "      <td>0</td>\n",
              "      <td>0</td>\n",
              "      <td>0</td>\n",
              "      <td>0</td>\n",
              "      <td>0</td>\n",
              "      <td>0</td>\n",
              "      <td>0</td>\n",
              "    </tr>\n",
              "    <tr>\n",
              "      <th>4</th>\n",
              "      <td>DL</td>\n",
              "      <td>N668DN</td>\n",
              "      <td>LGA</td>\n",
              "      <td>ATL</td>\n",
              "      <td>1/1/2013 6:00</td>\n",
              "      <td>0</td>\n",
              "      <td>0</td>\n",
              "      <td>0</td>\n",
              "      <td>0</td>\n",
              "      <td>1</td>\n",
              "      <td>...</td>\n",
              "      <td>0</td>\n",
              "      <td>0</td>\n",
              "      <td>0</td>\n",
              "      <td>0</td>\n",
              "      <td>0</td>\n",
              "      <td>0</td>\n",
              "      <td>0</td>\n",
              "      <td>0</td>\n",
              "      <td>0</td>\n",
              "      <td>0</td>\n",
              "    </tr>\n",
              "  </tbody>\n",
              "</table>\n",
              "<p>5 rows × 21 columns</p>\n",
              "</div>"
            ],
            "text/plain": [
              "  carrier tailnum origin dest      time_hour  9E  AA  AS  B6  DL  ...  F9  FL  \\\n",
              "0      UA  N14228    EWR  IAH  1/1/2013 5:00   0   0   0   0   0  ...   0   0   \n",
              "1      UA  N24211    LGA  IAH  1/1/2013 5:00   0   0   0   0   0  ...   0   0   \n",
              "2      AA  N619AA    JFK  MIA  1/1/2013 5:00   0   1   0   0   0  ...   0   0   \n",
              "3      B6  N804JB    JFK  BQN  1/1/2013 5:00   0   0   0   1   0  ...   0   0   \n",
              "4      DL  N668DN    LGA  ATL  1/1/2013 6:00   0   0   0   0   1  ...   0   0   \n",
              "\n",
              "   HA  MQ  OO  UA  US  VX  WN  YV  \n",
              "0   0   0   0   1   0   0   0   0  \n",
              "1   0   0   0   1   0   0   0   0  \n",
              "2   0   0   0   0   0   0   0   0  \n",
              "3   0   0   0   0   0   0   0   0  \n",
              "4   0   0   0   0   0   0   0   0  \n",
              "\n",
              "[5 rows x 21 columns]"
            ]
          },
          "execution_count": 31,
          "metadata": {},
          "output_type": "execute_result"
        }
      ],
      "source": [
        "# adding one hot encoding columns with the dataset\n",
        "result_df = pd.concat([cat_nyc_flights_onehot_sklearn, lb_code_nyc], axis=1)\n",
        "\n",
        "result_df.head()"
      ]
    },
    {
      "cell_type": "code",
      "execution_count": 32,
      "metadata": {
        "id": "quGmPxR9Cmk3"
      },
      "outputs": [],
      "source": [
        "# One Hot Encoder\n",
        "\n",
        "# Enter code here."
      ]
    },
    {
      "cell_type": "markdown",
      "metadata": {
        "id": "C-VEf2gDws-1"
      },
      "source": [
        "While one-hot encoding solves the problem of unequal weights given to categories within a feature, it is not very useful when there are many categories, as that will result in formation of as many new columns, which can result in the [curse of dimensionality](https://en.wikipedia.org/wiki/Curse_of_dimensionality)."
      ]
    },
    {
      "cell_type": "markdown",
      "metadata": {
        "id": "gGoTdKGaw2rc"
      },
      "source": [
        "#### Binary Encoding\n",
        "\n",
        "This technique is not as intuitive as the previous ones. In this technique, first the categories are encoded as ordinal, then those integers are converted into binary code, then the digits from that binary string are split into separate columns. This encodes the data in fewer dimensions than one-hot. We can do binary encoding via a number of ways but the simplest one is using the category_encoders library."
      ]
    },
    {
      "cell_type": "code",
      "execution_count": 33,
      "metadata": {
        "colab": {
          "base_uri": "https://localhost:8080/"
        },
        "id": "Ei6mueJ5y2I-",
        "outputId": "3ec80199-7136-4d39-ea37-6331f4340521"
      },
      "outputs": [],
      "source": [
        "!pip install -qq category_encoders               # installing category_encoders library"
      ]
    },
    {
      "cell_type": "code",
      "execution_count": 34,
      "metadata": {
        "colab": {
          "base_uri": "https://localhost:8080/",
          "height": 419
        },
        "id": "vW2t6uFxwblN",
        "outputId": "f94c0213-8300-4f86-81c7-09d74ad196b4"
      },
      "outputs": [
        {
          "data": {
            "text/html": [
              "<div>\n",
              "<style scoped>\n",
              "    .dataframe tbody tr th:only-of-type {\n",
              "        vertical-align: middle;\n",
              "    }\n",
              "\n",
              "    .dataframe tbody tr th {\n",
              "        vertical-align: top;\n",
              "    }\n",
              "\n",
              "    .dataframe thead th {\n",
              "        text-align: right;\n",
              "    }\n",
              "</style>\n",
              "<table border=\"1\" class=\"dataframe\">\n",
              "  <thead>\n",
              "    <tr style=\"text-align: right;\">\n",
              "      <th></th>\n",
              "      <th>carrier_0</th>\n",
              "      <th>carrier_1</th>\n",
              "      <th>carrier_2</th>\n",
              "      <th>carrier_3</th>\n",
              "      <th>carrier_4</th>\n",
              "      <th>tailnum</th>\n",
              "      <th>origin</th>\n",
              "      <th>dest</th>\n",
              "      <th>time_hour</th>\n",
              "    </tr>\n",
              "  </thead>\n",
              "  <tbody>\n",
              "    <tr>\n",
              "      <th>0</th>\n",
              "      <td>0</td>\n",
              "      <td>0</td>\n",
              "      <td>0</td>\n",
              "      <td>0</td>\n",
              "      <td>1</td>\n",
              "      <td>N14228</td>\n",
              "      <td>EWR</td>\n",
              "      <td>IAH</td>\n",
              "      <td>1/1/2013 5:00</td>\n",
              "    </tr>\n",
              "    <tr>\n",
              "      <th>1</th>\n",
              "      <td>0</td>\n",
              "      <td>0</td>\n",
              "      <td>0</td>\n",
              "      <td>0</td>\n",
              "      <td>1</td>\n",
              "      <td>N24211</td>\n",
              "      <td>LGA</td>\n",
              "      <td>IAH</td>\n",
              "      <td>1/1/2013 5:00</td>\n",
              "    </tr>\n",
              "    <tr>\n",
              "      <th>2</th>\n",
              "      <td>0</td>\n",
              "      <td>0</td>\n",
              "      <td>0</td>\n",
              "      <td>1</td>\n",
              "      <td>0</td>\n",
              "      <td>N619AA</td>\n",
              "      <td>JFK</td>\n",
              "      <td>MIA</td>\n",
              "      <td>1/1/2013 5:00</td>\n",
              "    </tr>\n",
              "    <tr>\n",
              "      <th>3</th>\n",
              "      <td>0</td>\n",
              "      <td>0</td>\n",
              "      <td>0</td>\n",
              "      <td>1</td>\n",
              "      <td>1</td>\n",
              "      <td>N804JB</td>\n",
              "      <td>JFK</td>\n",
              "      <td>BQN</td>\n",
              "      <td>1/1/2013 5:00</td>\n",
              "    </tr>\n",
              "    <tr>\n",
              "      <th>4</th>\n",
              "      <td>0</td>\n",
              "      <td>0</td>\n",
              "      <td>1</td>\n",
              "      <td>0</td>\n",
              "      <td>0</td>\n",
              "      <td>N668DN</td>\n",
              "      <td>LGA</td>\n",
              "      <td>ATL</td>\n",
              "      <td>1/1/2013 6:00</td>\n",
              "    </tr>\n",
              "    <tr>\n",
              "      <th>5</th>\n",
              "      <td>0</td>\n",
              "      <td>0</td>\n",
              "      <td>0</td>\n",
              "      <td>0</td>\n",
              "      <td>1</td>\n",
              "      <td>N39463</td>\n",
              "      <td>EWR</td>\n",
              "      <td>ORD</td>\n",
              "      <td>1/1/2013 5:00</td>\n",
              "    </tr>\n",
              "    <tr>\n",
              "      <th>6</th>\n",
              "      <td>0</td>\n",
              "      <td>0</td>\n",
              "      <td>0</td>\n",
              "      <td>1</td>\n",
              "      <td>1</td>\n",
              "      <td>N516JB</td>\n",
              "      <td>EWR</td>\n",
              "      <td>FLL</td>\n",
              "      <td>1/1/2013 6:00</td>\n",
              "    </tr>\n",
              "    <tr>\n",
              "      <th>7</th>\n",
              "      <td>0</td>\n",
              "      <td>0</td>\n",
              "      <td>1</td>\n",
              "      <td>0</td>\n",
              "      <td>1</td>\n",
              "      <td>N829AS</td>\n",
              "      <td>LGA</td>\n",
              "      <td>IAD</td>\n",
              "      <td>1/1/2013 6:00</td>\n",
              "    </tr>\n",
              "    <tr>\n",
              "      <th>8</th>\n",
              "      <td>0</td>\n",
              "      <td>0</td>\n",
              "      <td>0</td>\n",
              "      <td>1</td>\n",
              "      <td>1</td>\n",
              "      <td>N593JB</td>\n",
              "      <td>JFK</td>\n",
              "      <td>MCO</td>\n",
              "      <td>1/1/2013 6:00</td>\n",
              "    </tr>\n",
              "    <tr>\n",
              "      <th>9</th>\n",
              "      <td>0</td>\n",
              "      <td>0</td>\n",
              "      <td>0</td>\n",
              "      <td>1</td>\n",
              "      <td>0</td>\n",
              "      <td>N3ALAA</td>\n",
              "      <td>LGA</td>\n",
              "      <td>ORD</td>\n",
              "      <td>1/1/2013 6:00</td>\n",
              "    </tr>\n",
              "  </tbody>\n",
              "</table>\n",
              "</div>"
            ],
            "text/plain": [
              "   carrier_0  carrier_1  carrier_2  carrier_3  carrier_4 tailnum origin dest  \\\n",
              "0          0          0          0          0          1  N14228    EWR  IAH   \n",
              "1          0          0          0          0          1  N24211    LGA  IAH   \n",
              "2          0          0          0          1          0  N619AA    JFK  MIA   \n",
              "3          0          0          0          1          1  N804JB    JFK  BQN   \n",
              "4          0          0          1          0          0  N668DN    LGA  ATL   \n",
              "5          0          0          0          0          1  N39463    EWR  ORD   \n",
              "6          0          0          0          1          1  N516JB    EWR  FLL   \n",
              "7          0          0          1          0          1  N829AS    LGA  IAD   \n",
              "8          0          0          0          1          1  N593JB    JFK  MCO   \n",
              "9          0          0          0          1          0  N3ALAA    LGA  ORD   \n",
              "\n",
              "       time_hour  \n",
              "0  1/1/2013 5:00  \n",
              "1  1/1/2013 5:00  \n",
              "2  1/1/2013 5:00  \n",
              "3  1/1/2013 5:00  \n",
              "4  1/1/2013 6:00  \n",
              "5  1/1/2013 5:00  \n",
              "6  1/1/2013 6:00  \n",
              "7  1/1/2013 6:00  \n",
              "8  1/1/2013 6:00  \n",
              "9  1/1/2013 6:00  "
            ]
          },
          "execution_count": 34,
          "metadata": {},
          "output_type": "execute_result"
        }
      ],
      "source": [
        "# importing category_encoders library for labelbinarizer \n",
        "import category_encoders as ce\n",
        "cat_nyc_flights_ce = cat_nyc_flights.copy()\n",
        "\n",
        "encoder = ce.BinaryEncoder(cols=['carrier'])\n",
        "df_binary = encoder.fit_transform(cat_nyc_flights_ce)\n",
        "\n",
        "df_binary.head(10)"
      ]
    },
    {
      "cell_type": "markdown",
      "metadata": {
        "id": "nPNHA7wUzTxv"
      },
      "source": [
        "**Note:** Notice that four new columns are created in place of the carrier column with binary encoding for each category in the feature."
      ]
    },
    {
      "cell_type": "markdown",
      "metadata": {
        "id": "s1LjfFei2nej"
      },
      "source": [
        "#### Miscellaneous Features\n",
        "\n",
        "Sometimes we may encounter categorical feature columns which specify the ranges of values for observation points, for example, the age column might be described in the form of categories like 0-20, 20-40 and so on.\n",
        "\n",
        "While there can be a lot of ways to deal with such features, the most common ones are either split these ranges into two separate columns or replace them with some measure like the mean of that range.\n",
        "\n",
        "First, we will create a dummy DataFrame which has just one feature age with ranges specified using the pandas DataFrame function."
      ]
    },
    {
      "cell_type": "code",
      "execution_count": 35,
      "metadata": {
        "id": "MTpAoPXZ08ut"
      },
      "outputs": [],
      "source": [
        "dummy_df_age = pd.DataFrame({'age': ['0-20', '20-40', '40-60','60-80']})"
      ]
    },
    {
      "cell_type": "markdown",
      "metadata": {
        "id": "YTJtOOO22_9t"
      },
      "source": [
        "Then we will split the column on the delimeter - into two columns start and end using `split()` with a `lambda()` function."
      ]
    },
    {
      "cell_type": "code",
      "execution_count": 36,
      "metadata": {
        "colab": {
          "base_uri": "https://localhost:8080/",
          "height": 174
        },
        "id": "P4LCkUX42_VF",
        "outputId": "1b3a611a-e8a4-46f1-9af3-e1c1c2f32405"
      },
      "outputs": [
        {
          "data": {
            "text/html": [
              "<div>\n",
              "<style scoped>\n",
              "    .dataframe tbody tr th:only-of-type {\n",
              "        vertical-align: middle;\n",
              "    }\n",
              "\n",
              "    .dataframe tbody tr th {\n",
              "        vertical-align: top;\n",
              "    }\n",
              "\n",
              "    .dataframe thead th {\n",
              "        text-align: right;\n",
              "    }\n",
              "</style>\n",
              "<table border=\"1\" class=\"dataframe\">\n",
              "  <thead>\n",
              "    <tr style=\"text-align: right;\">\n",
              "      <th></th>\n",
              "      <th>age</th>\n",
              "      <th>start</th>\n",
              "      <th>end</th>\n",
              "    </tr>\n",
              "  </thead>\n",
              "  <tbody>\n",
              "    <tr>\n",
              "      <th>0</th>\n",
              "      <td>0-20</td>\n",
              "      <td>0</td>\n",
              "      <td>20</td>\n",
              "    </tr>\n",
              "    <tr>\n",
              "      <th>1</th>\n",
              "      <td>20-40</td>\n",
              "      <td>20</td>\n",
              "      <td>40</td>\n",
              "    </tr>\n",
              "    <tr>\n",
              "      <th>2</th>\n",
              "      <td>40-60</td>\n",
              "      <td>40</td>\n",
              "      <td>60</td>\n",
              "    </tr>\n",
              "    <tr>\n",
              "      <th>3</th>\n",
              "      <td>60-80</td>\n",
              "      <td>60</td>\n",
              "      <td>80</td>\n",
              "    </tr>\n",
              "  </tbody>\n",
              "</table>\n",
              "</div>"
            ],
            "text/plain": [
              "     age start end\n",
              "0   0-20     0  20\n",
              "1  20-40    20  40\n",
              "2  40-60    40  60\n",
              "3  60-80    60  80"
            ]
          },
          "execution_count": 36,
          "metadata": {},
          "output_type": "execute_result"
        }
      ],
      "source": [
        "dummy_df_age['start'], dummy_df_age['end'] = zip(*dummy_df_age['age'].map(lambda x: x.split('-')))\n",
        "\n",
        "dummy_df_age.head()"
      ]
    },
    {
      "cell_type": "markdown",
      "metadata": {
        "id": "V0hjFyHW3P64"
      },
      "source": [
        "To replace the range with its mean, we will write a `split_mean()` function which basically takes one range at a time, splits it, then calculates the mean and returns it. To apply a certain function to all the entities of a column you will use the `.apply()` method:"
      ]
    },
    {
      "cell_type": "code",
      "execution_count": 37,
      "metadata": {
        "colab": {
          "base_uri": "https://localhost:8080/",
          "height": 174
        },
        "id": "vDM2Ufjp3IXY",
        "outputId": "93729df2-5cf6-4303-d82e-50f36e2eef50"
      },
      "outputs": [
        {
          "data": {
            "text/html": [
              "<div>\n",
              "<style scoped>\n",
              "    .dataframe tbody tr th:only-of-type {\n",
              "        vertical-align: middle;\n",
              "    }\n",
              "\n",
              "    .dataframe tbody tr th {\n",
              "        vertical-align: top;\n",
              "    }\n",
              "\n",
              "    .dataframe thead th {\n",
              "        text-align: right;\n",
              "    }\n",
              "</style>\n",
              "<table border=\"1\" class=\"dataframe\">\n",
              "  <thead>\n",
              "    <tr style=\"text-align: right;\">\n",
              "      <th></th>\n",
              "      <th>age</th>\n",
              "      <th>start</th>\n",
              "      <th>end</th>\n",
              "      <th>mean_age</th>\n",
              "    </tr>\n",
              "  </thead>\n",
              "  <tbody>\n",
              "    <tr>\n",
              "      <th>0</th>\n",
              "      <td>0-20</td>\n",
              "      <td>0</td>\n",
              "      <td>20</td>\n",
              "      <td>10.0</td>\n",
              "    </tr>\n",
              "    <tr>\n",
              "      <th>1</th>\n",
              "      <td>20-40</td>\n",
              "      <td>20</td>\n",
              "      <td>40</td>\n",
              "      <td>30.0</td>\n",
              "    </tr>\n",
              "    <tr>\n",
              "      <th>2</th>\n",
              "      <td>40-60</td>\n",
              "      <td>40</td>\n",
              "      <td>60</td>\n",
              "      <td>50.0</td>\n",
              "    </tr>\n",
              "    <tr>\n",
              "      <th>3</th>\n",
              "      <td>60-80</td>\n",
              "      <td>60</td>\n",
              "      <td>80</td>\n",
              "      <td>70.0</td>\n",
              "    </tr>\n",
              "  </tbody>\n",
              "</table>\n",
              "</div>"
            ],
            "text/plain": [
              "     age start end  mean_age\n",
              "0   0-20     0  20      10.0\n",
              "1  20-40    20  40      30.0\n",
              "2  40-60    40  60      50.0\n",
              "3  60-80    60  80      70.0"
            ]
          },
          "execution_count": 37,
          "metadata": {},
          "output_type": "execute_result"
        }
      ],
      "source": [
        "def split_mean(x):\n",
        "    split_list = x.split('-')\n",
        "    mean = (float(split_list[0])+float(split_list[1]))/2\n",
        "    return mean\n",
        "\n",
        "dummy_df_age['mean_age'] = dummy_df_age['age'].apply(lambda x: split_mean(x))\n",
        "\n",
        "dummy_df_age.head()"
      ]
    }
  ],
  "metadata": {
    "colab": {
      "collapsed_sections": [],
      "name": "Tutorial2_Approaching_Categorical_Variable.ipynb",
      "provenance": []
    },
    "kernelspec": {
      "display_name": "Python 3",
      "name": "python3"
    },
    "language_info": {
      "codemirror_mode": {
        "name": "ipython",
        "version": 3
      },
      "file_extension": ".py",
      "mimetype": "text/x-python",
      "name": "python",
      "nbconvert_exporter": "python",
      "pygments_lexer": "ipython3",
      "version": "3.8.16"
    }
  },
  "nbformat": 4,
  "nbformat_minor": 0
}
