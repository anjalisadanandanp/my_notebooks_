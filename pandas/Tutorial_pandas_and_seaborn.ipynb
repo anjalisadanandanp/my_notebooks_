{
 "cells": [
  {
   "cell_type": "markdown",
   "metadata": {},
   "source": [
    "## Introduction to pandas and seaborn"
   ]
  },
  {
   "cell_type": "markdown",
   "metadata": {},
   "source": [
    "# pandas"
   ]
  },
  {
   "cell_type": "markdown",
   "metadata": {},
   "source": [
    "![ALT_TEXT_FOR_SCREEN_READERS](https://pypi-camo.global.ssl.fastly.net/705545a847e60d6d4478c76a8146b9000e339c1c/68747470733a2f2f70616e6461732e7079646174612e6f72672f7374617469632f696d672f70616e6461732e737667)\n",
    "\n",
    "https://pypi.org/project/pandas/ "
   ]
  },
  {
   "cell_type": "code",
   "execution_count": 1,
   "metadata": {},
   "outputs": [],
   "source": [
    "#importing libraries\n",
    "import pandas as pd\n",
    "import numpy as np"
   ]
  },
  {
   "cell_type": "markdown",
   "metadata": {},
   "source": [
    "pandas has two main types of Data Structures:\n",
    "\n",
    "1. `pandas.Series` : One-dimensional ndarray with axis labels (including time series).\n",
    "2. `pandas.DataFrame` : Two-dimensional, size-mutable, potentially heterogeneous tabular data."
   ]
  },
  {
   "cell_type": "markdown",
   "metadata": {},
   "source": [
    "### Creating a pandas Series or DataFrame\n",
    "\n",
    "We can create a pandas Series or DataFrame by passing a list or a numpy array or a dictionary to the `pd.Series()` or `pd.DataFrame()` functions respectively. \\\n",
    "We can also read data from a file and create a Pandas Series or Dataframe (example: using the `pd.read_csv()` function)."
   ]
  },
  {
   "cell_type": "markdown",
   "metadata": {},
   "source": [
    "<b> 1. From Dictionary </b>"
   ]
  },
  {
   "cell_type": "code",
   "execution_count": 2,
   "metadata": {},
   "outputs": [
    {
     "name": "stdout",
     "output_type": "stream",
     "text": [
      "Dataframe: \n",
      "    name  age      city\n",
      "0  jack   34    Sydney\n",
      "1  Riti   30     Delhi\n",
      "2  Aadi   16  New york\n",
      "\n",
      "\n",
      "Series: \n",
      " jack    90\n",
      "Riti    40\n",
      "Aadi    80\n",
      "dtype: int64\n"
     ]
    }
   ],
   "source": [
    "#dataframe is a 2D data structure with columns of different data types\n",
    "studentData = {\n",
    "    'name' : ['jack', 'Riti', 'Aadi'],\n",
    "    'age' : [34, 30, 16],\n",
    "    'city' : ['Sydney', 'Delhi', 'New york']\n",
    "}\n",
    "\n",
    "df = pd.DataFrame(studentData)\n",
    "print(\"Dataframe: \\n\", df)\n",
    "\n",
    "print(\"\\n\")\n",
    "\n",
    "#series is a 1D data structure with homogeneous data\n",
    "mark_dict = {'jack': 90, 'Riti': 40, 'Aadi': 80}\n",
    "marks = pd.Series(mark_dict)\n",
    "print(\"Series: \\n\", marks)"
   ]
  },
  {
   "cell_type": "markdown",
   "metadata": {},
   "source": [
    "<b> 2. From Lists </b>"
   ]
  },
  {
   "cell_type": "code",
   "execution_count": 3,
   "metadata": {},
   "outputs": [
    {
     "name": "stdout",
     "output_type": "stream",
     "text": [
      "Dataframe: \n",
      "       0   1         2\n",
      "0  jack  34    Sydney\n",
      "1  Riti  30     Delhi\n",
      "2  Aadi  16  New york\n",
      "\n",
      "\n",
      "Series: \n",
      " 0    90\n",
      "1    40\n",
      "2    80\n",
      "dtype: int64\n"
     ]
    }
   ],
   "source": [
    "my_list = [ ['jack', 34, 'Sydney'],\n",
    "            ['Riti', 30, 'Delhi'],\n",
    "            ['Aadi', 16, 'New york']]\n",
    "\n",
    "df = pd.DataFrame(my_list)\n",
    "print(\"Dataframe: \\n\", df)\n",
    "\n",
    "print(\"\\n\")\n",
    "\n",
    "mark_list = [90, 40, 80]\n",
    "marks = pd.Series(mark_list)\n",
    "print(\"Series: \\n\", marks)"
   ]
  },
  {
   "cell_type": "markdown",
   "metadata": {},
   "source": [
    "<b> 3. From numpy arrays </b>"
   ]
  },
  {
   "cell_type": "code",
   "execution_count": 4,
   "metadata": {},
   "outputs": [
    {
     "name": "stdout",
     "output_type": "stream",
     "text": [
      "Dataframe: \n",
      "       0   1         2\n",
      "0  jack  34    Sydney\n",
      "1  Riti  30     Delhi\n",
      "2  Aadi  16  New york\n",
      "\n",
      "\n",
      "Series: \n",
      " 0    90\n",
      "1    40\n",
      "2    80\n",
      "dtype: int64\n"
     ]
    }
   ],
   "source": [
    "import numpy as np\n",
    "my_list = [ ['jack', 34, 'Sydney'],\n",
    "            ['Riti', 30, 'Delhi'],\n",
    "            ['Aadi', 16, 'New york']]\n",
    "\n",
    "numpyArray = np.array(my_list)\n",
    "\n",
    "df = pd.DataFrame(numpyArray)\n",
    "print(\"Dataframe: \\n\", df)\n",
    "\n",
    "print(\"\\n\")\n",
    "\n",
    "mark_list = [90, 40, 80]\n",
    "numpyArray = np.array(mark_list)\n",
    "marks = pd.Series(mark_list)\n",
    "print(\"Series: \\n\", marks)"
   ]
  },
  {
   "cell_type": "markdown",
   "metadata": {},
   "source": [
    "4. From files\n",
    "\n",
    "There are lot of ways to import a file content into pandas_dataframe, however the commonly used functions are\n",
    "\n",
    "- `read_csv`\n",
    "- `read_html`\n",
    "- `read_json`\n",
    "- `read_sql`\n",
    "- `read_pickle`\n",
    "- `read_clipboard`\n",
    "- `read_xml`\n",
    "- `read_excel`"
   ]
  },
  {
   "cell_type": "code",
   "execution_count": 5,
   "metadata": {},
   "outputs": [
    {
     "name": "stdout",
     "output_type": "stream",
     "text": [
      "           Date  Confirmed  Deceased  Recovered\n",
      "0    2020-07-01      16514       253       8065\n",
      "1    2020-07-02       1502        19        271\n",
      "2    2020-07-03       1694        21        471\n",
      "3    2020-07-04       1839        42        439\n",
      "4    2020-07-05       1925        37        603\n",
      "..          ...        ...       ...        ...\n",
      "368  2021-07-04       1564        59       4775\n",
      "369  2021-07-05       2848        67       5631\n",
      "370  2021-07-06       3104        92       4992\n",
      "371  2021-07-07       2743        75       3081\n",
      "372  2021-07-08       2530        62       3342\n",
      "\n",
      "[373 rows x 4 columns]\n"
     ]
    }
   ],
   "source": [
    "#reading from CSV file to dataframe\n",
    "df =  pd.read_csv(\"https://docs.google.com/spreadsheets/d/e/2PACX-1vSUiVcSNGwjgoxrJVr_3uCGJDvqWmk6y1AGao_U7calomMVwLVV2F5CJzWE-2Nyw0uuGllj7eOC8oQR/pub?output=csv\")\n",
    "print(df)"
   ]
  },
  {
   "cell_type": "markdown",
   "metadata": {},
   "source": [
    "### Difference between Series and DataFrame objects in pandas\n",
    "\n",
    "Series is a one-dimensional labeled array. \\\n",
    "DataFrame is a 2-dimensional labeled data structure."
   ]
  },
  {
   "cell_type": "markdown",
   "metadata": {},
   "source": [
    "## Basic Operations"
   ]
  },
  {
   "cell_type": "markdown",
   "metadata": {},
   "source": [
    " 1. View first n records: `df.head(n)`\n",
    "\n",
    " 2. View last n records: `df.tail(n)`\n",
    "\n",
    " 3. View column names: `df.columns`\n",
    "\n",
    " 4. View index names: `df.index`\n",
    "\n",
    " 5. View data types: `df.dtypes`\n",
    "\n",
    " 6. View number of rows and columns: `df.shape`\n",
    "\n",
    " 7. View descriptive statistics: `df.describe()`\n",
    "\n",
    " 8. View unique values: `df['column_name'].unique()`\n",
    "\n",
    " 9. View number of unique values: `df['column_name'].nunique()`\n",
    "\n",
    " 10. View counts of unique values: `df['column_name'].value_counts()`\n",
    "\n",
    " 11. Info on DataFrame: `df.info()`"
   ]
  },
  {
   "cell_type": "code",
   "execution_count": 6,
   "metadata": {},
   "outputs": [
    {
     "data": {
      "text/html": [
       "<div>\n",
       "<style scoped>\n",
       "    .dataframe tbody tr th:only-of-type {\n",
       "        vertical-align: middle;\n",
       "    }\n",
       "\n",
       "    .dataframe tbody tr th {\n",
       "        vertical-align: top;\n",
       "    }\n",
       "\n",
       "    .dataframe thead th {\n",
       "        text-align: right;\n",
       "    }\n",
       "</style>\n",
       "<table border=\"1\" class=\"dataframe\">\n",
       "  <thead>\n",
       "    <tr style=\"text-align: right;\">\n",
       "      <th></th>\n",
       "      <th>Date</th>\n",
       "      <th>Confirmed</th>\n",
       "      <th>Deceased</th>\n",
       "      <th>Recovered</th>\n",
       "    </tr>\n",
       "  </thead>\n",
       "  <tbody>\n",
       "    <tr>\n",
       "      <th>0</th>\n",
       "      <td>2020-07-01</td>\n",
       "      <td>16514</td>\n",
       "      <td>253</td>\n",
       "      <td>8065</td>\n",
       "    </tr>\n",
       "    <tr>\n",
       "      <th>1</th>\n",
       "      <td>2020-07-02</td>\n",
       "      <td>1502</td>\n",
       "      <td>19</td>\n",
       "      <td>271</td>\n",
       "    </tr>\n",
       "    <tr>\n",
       "      <th>2</th>\n",
       "      <td>2020-07-03</td>\n",
       "      <td>1694</td>\n",
       "      <td>21</td>\n",
       "      <td>471</td>\n",
       "    </tr>\n",
       "    <tr>\n",
       "      <th>3</th>\n",
       "      <td>2020-07-04</td>\n",
       "      <td>1839</td>\n",
       "      <td>42</td>\n",
       "      <td>439</td>\n",
       "    </tr>\n",
       "    <tr>\n",
       "      <th>4</th>\n",
       "      <td>2020-07-05</td>\n",
       "      <td>1925</td>\n",
       "      <td>37</td>\n",
       "      <td>603</td>\n",
       "    </tr>\n",
       "  </tbody>\n",
       "</table>\n",
       "</div>"
      ],
      "text/plain": [
       "         Date  Confirmed  Deceased  Recovered\n",
       "0  2020-07-01      16514       253       8065\n",
       "1  2020-07-02       1502        19        271\n",
       "2  2020-07-03       1694        21        471\n",
       "3  2020-07-04       1839        42        439\n",
       "4  2020-07-05       1925        37        603"
      ]
     },
     "execution_count": 6,
     "metadata": {},
     "output_type": "execute_result"
    }
   ],
   "source": [
    "df.head(5)"
   ]
  },
  {
   "cell_type": "code",
   "execution_count": 7,
   "metadata": {},
   "outputs": [
    {
     "data": {
      "text/html": [
       "<div>\n",
       "<style scoped>\n",
       "    .dataframe tbody tr th:only-of-type {\n",
       "        vertical-align: middle;\n",
       "    }\n",
       "\n",
       "    .dataframe tbody tr th {\n",
       "        vertical-align: top;\n",
       "    }\n",
       "\n",
       "    .dataframe thead th {\n",
       "        text-align: right;\n",
       "    }\n",
       "</style>\n",
       "<table border=\"1\" class=\"dataframe\">\n",
       "  <thead>\n",
       "    <tr style=\"text-align: right;\">\n",
       "      <th></th>\n",
       "      <th>Date</th>\n",
       "      <th>Confirmed</th>\n",
       "      <th>Deceased</th>\n",
       "      <th>Recovered</th>\n",
       "    </tr>\n",
       "  </thead>\n",
       "  <tbody>\n",
       "    <tr>\n",
       "      <th>368</th>\n",
       "      <td>2021-07-04</td>\n",
       "      <td>1564</td>\n",
       "      <td>59</td>\n",
       "      <td>4775</td>\n",
       "    </tr>\n",
       "    <tr>\n",
       "      <th>369</th>\n",
       "      <td>2021-07-05</td>\n",
       "      <td>2848</td>\n",
       "      <td>67</td>\n",
       "      <td>5631</td>\n",
       "    </tr>\n",
       "    <tr>\n",
       "      <th>370</th>\n",
       "      <td>2021-07-06</td>\n",
       "      <td>3104</td>\n",
       "      <td>92</td>\n",
       "      <td>4992</td>\n",
       "    </tr>\n",
       "    <tr>\n",
       "      <th>371</th>\n",
       "      <td>2021-07-07</td>\n",
       "      <td>2743</td>\n",
       "      <td>75</td>\n",
       "      <td>3081</td>\n",
       "    </tr>\n",
       "    <tr>\n",
       "      <th>372</th>\n",
       "      <td>2021-07-08</td>\n",
       "      <td>2530</td>\n",
       "      <td>62</td>\n",
       "      <td>3342</td>\n",
       "    </tr>\n",
       "  </tbody>\n",
       "</table>\n",
       "</div>"
      ],
      "text/plain": [
       "           Date  Confirmed  Deceased  Recovered\n",
       "368  2021-07-04       1564        59       4775\n",
       "369  2021-07-05       2848        67       5631\n",
       "370  2021-07-06       3104        92       4992\n",
       "371  2021-07-07       2743        75       3081\n",
       "372  2021-07-08       2530        62       3342"
      ]
     },
     "execution_count": 7,
     "metadata": {},
     "output_type": "execute_result"
    }
   ],
   "source": [
    "df.tail(5)"
   ]
  },
  {
   "cell_type": "code",
   "execution_count": 8,
   "metadata": {},
   "outputs": [
    {
     "data": {
      "text/plain": [
       "Index(['Date', 'Confirmed', 'Deceased', 'Recovered'], dtype='object')"
      ]
     },
     "execution_count": 8,
     "metadata": {},
     "output_type": "execute_result"
    }
   ],
   "source": [
    "df.columns"
   ]
  },
  {
   "cell_type": "code",
   "execution_count": 9,
   "metadata": {},
   "outputs": [
    {
     "data": {
      "text/plain": [
       "RangeIndex(start=0, stop=373, step=1)"
      ]
     },
     "execution_count": 9,
     "metadata": {},
     "output_type": "execute_result"
    }
   ],
   "source": [
    "df.index"
   ]
  },
  {
   "cell_type": "code",
   "execution_count": 10,
   "metadata": {},
   "outputs": [
    {
     "data": {
      "text/plain": [
       "Date         object\n",
       "Confirmed     int64\n",
       "Deceased      int64\n",
       "Recovered     int64\n",
       "dtype: object"
      ]
     },
     "execution_count": 10,
     "metadata": {},
     "output_type": "execute_result"
    }
   ],
   "source": [
    "df.dtypes"
   ]
  },
  {
   "cell_type": "code",
   "execution_count": 11,
   "metadata": {},
   "outputs": [
    {
     "data": {
      "text/plain": [
       "(373, 4)"
      ]
     },
     "execution_count": 11,
     "metadata": {},
     "output_type": "execute_result"
    }
   ],
   "source": [
    "df.shape"
   ]
  },
  {
   "cell_type": "code",
   "execution_count": 12,
   "metadata": {},
   "outputs": [
    {
     "data": {
      "text/html": [
       "<div>\n",
       "<style scoped>\n",
       "    .dataframe tbody tr th:only-of-type {\n",
       "        vertical-align: middle;\n",
       "    }\n",
       "\n",
       "    .dataframe tbody tr th {\n",
       "        vertical-align: top;\n",
       "    }\n",
       "\n",
       "    .dataframe thead th {\n",
       "        text-align: right;\n",
       "    }\n",
       "</style>\n",
       "<table border=\"1\" class=\"dataframe\">\n",
       "  <thead>\n",
       "    <tr style=\"text-align: right;\">\n",
       "      <th></th>\n",
       "      <th>Confirmed</th>\n",
       "      <th>Deceased</th>\n",
       "      <th>Recovered</th>\n",
       "    </tr>\n",
       "  </thead>\n",
       "  <tbody>\n",
       "    <tr>\n",
       "      <th>count</th>\n",
       "      <td>373.000000</td>\n",
       "      <td>373.000000</td>\n",
       "      <td>373.000000</td>\n",
       "    </tr>\n",
       "    <tr>\n",
       "      <th>mean</th>\n",
       "      <td>7680.611260</td>\n",
       "      <td>95.611260</td>\n",
       "      <td>7481.107239</td>\n",
       "    </tr>\n",
       "    <tr>\n",
       "      <th>std</th>\n",
       "      <td>10548.099674</td>\n",
       "      <td>129.070422</td>\n",
       "      <td>10673.660965</td>\n",
       "    </tr>\n",
       "    <tr>\n",
       "      <th>min</th>\n",
       "      <td>317.000000</td>\n",
       "      <td>1.000000</td>\n",
       "      <td>271.000000</td>\n",
       "    </tr>\n",
       "    <tr>\n",
       "      <th>25%</th>\n",
       "      <td>1196.000000</td>\n",
       "      <td>9.000000</td>\n",
       "      <td>1003.000000</td>\n",
       "    </tr>\n",
       "    <tr>\n",
       "      <th>50%</th>\n",
       "      <td>3979.000000</td>\n",
       "      <td>59.000000</td>\n",
       "      <td>3487.000000</td>\n",
       "    </tr>\n",
       "    <tr>\n",
       "      <th>75%</th>\n",
       "      <td>8793.000000</td>\n",
       "      <td>115.000000</td>\n",
       "      <td>8456.000000</td>\n",
       "    </tr>\n",
       "    <tr>\n",
       "      <th>max</th>\n",
       "      <td>50112.000000</td>\n",
       "      <td>624.000000</td>\n",
       "      <td>61766.000000</td>\n",
       "    </tr>\n",
       "  </tbody>\n",
       "</table>\n",
       "</div>"
      ],
      "text/plain": [
       "          Confirmed    Deceased     Recovered\n",
       "count    373.000000  373.000000    373.000000\n",
       "mean    7680.611260   95.611260   7481.107239\n",
       "std    10548.099674  129.070422  10673.660965\n",
       "min      317.000000    1.000000    271.000000\n",
       "25%     1196.000000    9.000000   1003.000000\n",
       "50%     3979.000000   59.000000   3487.000000\n",
       "75%     8793.000000  115.000000   8456.000000\n",
       "max    50112.000000  624.000000  61766.000000"
      ]
     },
     "execution_count": 12,
     "metadata": {},
     "output_type": "execute_result"
    }
   ],
   "source": [
    "df.describe()"
   ]
  },
  {
   "cell_type": "code",
   "execution_count": 13,
   "metadata": {},
   "outputs": [
    {
     "data": {
      "text/plain": [
       "array([16514,  1502,  1694,  1839,  1925,  1843,  1498,  2062,  2228,\n",
       "        2313,  2798,  2627,  2738,  2496,  3176,  4169,  3693,  4537,\n",
       "        4120,  3648,  3649,  4764,  5030,  5007,  5072,  5199,  5324,\n",
       "        5536,  5503,  6128,  5483,  5172,  5532,  4752,  6259,  5619,\n",
       "        6805,  6670,  7178,  5985,  4267,  6257,  7883,  6706,  7908,\n",
       "        8818,  7040,  6317,  7665,  8642,  7385,  7571,  7330,  5938,\n",
       "        5851,  8161,  8580,  9386,  8960,  8324,  8852,  6495,  9058,\n",
       "        9860,  8865,  9280,  9746,  9319,  5773,  7866,  9540,  9217,\n",
       "        9464,  9140,  9894,  8244,  7576,  9725,  9366,  8626,  8364,\n",
       "        8191,  7339,  6974,  6997,  7710,  8655,  8811,  9543,  6892,\n",
       "       10453,  8856, 10070,  8793,  9886, 10145,  7051,  9993, 10947,\n",
       "       10704, 10913, 10517,  9523,  7606,  9265,  8477,  7542,  7184,\n",
       "        7012,  5018,  6297,  5872,  5778,  5356,  4471,  4439,  3130,\n",
       "        3691,  3146,  4025,  3589,  3014,  3652,  2576,  2756,  3377,\n",
       "        3156,  2960,  2258,  2740,  1963,  2362,  2584,  2116,  2016,\n",
       "        2154,  1565,  1157,  1336,  1791,  1849,  1781,  1704,  1509,\n",
       "        1870,  1630,  1505,  1526,  1522,  1291,   998,  1330,  1440,\n",
       "        1446,  1247,  1325,  1321,  1280,  1279,  1238,  1210,  1203,\n",
       "        1196,   830,  1185,  1240,  1236,  1222,  1152,  1194,   772,\n",
       "        1141,   958,  1143,  1005,   857,   911,   653,   662,   973,\n",
       "         952,   877,   755,   810,   600,   815,   784,   761,   970,\n",
       "         899,   792,   496,   751,   746,   408,   708,   584,   745,\n",
       "         435,   645,   501,   674,   324,   902,   573,   375,   529,\n",
       "         428,   550,   468,   464,   522,   388,   395,   426,   474,\n",
       "         430,   531,   487,   328,   366,   415,   380,   419,   414,\n",
       "         368,   438,   378,   406,   386,   490,   413,   317,   383,\n",
       "         334,   453,   571,   523,   521,   349,   437,   528,   677,\n",
       "         580,   622,   436,   590,   760,   783,   833,   921,   934,\n",
       "         932,  1135,  1275,  1488,  1587,  1798,  1715,  1445,  2010,\n",
       "        2298,  2523,  2566,  2886,  3082,  2792,  2975,  4225,  4234,\n",
       "        4991,  4373,  4553,  5279,  6150,  6976,  6570,  7955,  6955,\n",
       "       10250,  9579,  8778, 11265, 14738, 14859, 17489, 19067, 15785,\n",
       "       21794, 23558, 25795, 26962, 29438, 34804, 29744, 31830, 39047,\n",
       "       35024, 48296, 40990, 37733, 44438, 44631, 50112, 49058, 48781,\n",
       "       47563, 47930, 39305, 39510, 39998, 35297, 41779, 41664, 31531,\n",
       "       38603, 30309, 34281, 28869, 32218, 31183, 25979, 25311, 22758,\n",
       "       26811, 24214, 22823, 20628, 20378, 16604, 14304, 16387, 18324,\n",
       "       16068, 13800, 12209, 11958,  9808, 10959, 11042,  8249,  9785,\n",
       "        7810,  6835,  5041,  7345,  5983,  5783,  5815,  4517,  4867,\n",
       "        3709,  4436,  3979,  3310,  4272,  3604,  3222,  3382,  3203,\n",
       "        2984,  2082,  1564,  2848,  3104,  2743,  2530])"
      ]
     },
     "execution_count": 13,
     "metadata": {},
     "output_type": "execute_result"
    }
   ],
   "source": [
    "df[\"Confirmed\"].unique()"
   ]
  },
  {
   "cell_type": "code",
   "execution_count": 14,
   "metadata": {},
   "outputs": [
    {
     "data": {
      "text/plain": [
       "367"
      ]
     },
     "execution_count": 14,
     "metadata": {},
     "output_type": "execute_result"
    }
   ],
   "source": [
    "df[\"Confirmed\"].nunique()"
   ]
  },
  {
   "cell_type": "code",
   "execution_count": 15,
   "metadata": {},
   "outputs": [
    {
     "data": {
      "text/plain": [
       "8191    2\n",
       "1781    2\n",
       "571     2\n",
       "430     2\n",
       "2576    2\n",
       "       ..\n",
       "3589    1\n",
       "4025    1\n",
       "3146    1\n",
       "3691    1\n",
       "2530    1\n",
       "Name: Confirmed, Length: 367, dtype: int64"
      ]
     },
     "execution_count": 15,
     "metadata": {},
     "output_type": "execute_result"
    }
   ],
   "source": [
    "df[\"Confirmed\"].value_counts()"
   ]
  },
  {
   "cell_type": "code",
   "execution_count": 16,
   "metadata": {},
   "outputs": [
    {
     "name": "stdout",
     "output_type": "stream",
     "text": [
      "<class 'pandas.core.frame.DataFrame'>\n",
      "RangeIndex: 373 entries, 0 to 372\n",
      "Data columns (total 4 columns):\n",
      " #   Column     Non-Null Count  Dtype \n",
      "---  ------     --------------  ----- \n",
      " 0   Date       373 non-null    object\n",
      " 1   Confirmed  373 non-null    int64 \n",
      " 2   Deceased   373 non-null    int64 \n",
      " 3   Recovered  373 non-null    int64 \n",
      "dtypes: int64(3), object(1)\n",
      "memory usage: 11.8+ KB\n"
     ]
    }
   ],
   "source": [
    "df.info()"
   ]
  },
  {
   "cell_type": "markdown",
   "metadata": {},
   "source": [
    "## Accessing the values in a DataFrame"
   ]
  },
  {
   "cell_type": "markdown",
   "metadata": {},
   "source": [
    "## Indexing\n",
    "\n",
    "Different ways to access data from the dataframe\n",
    "\n",
    "\n",
    "- Columns are the `Key` values for each column of the dataframe.\n",
    "- Index are used to identify rows of the dataframe.\n",
    "- Both index and column can be specified either during the creation of dataframe or after the creation of dataframes\n",
    "\n",
    "\n",
    "## Extracting rows: \n",
    "\n",
    "#### **Label vs Location**\n",
    "\n",
    "Label vs. Location\n",
    "The main distinction between the two methods is:\n",
    "\n",
    "loc gets rows (and/or columns) with particular labels.\n",
    "\n",
    "iloc gets rows (and/or columns) at integer locations.\n",
    "\n",
    "[Reference and Further Reading](https://stackoverflow.com/questions/31593201/how-are-iloc-and-loc-different)"
   ]
  },
  {
   "cell_type": "code",
   "execution_count": 17,
   "metadata": {},
   "outputs": [],
   "source": [
    "#lets shuffle the DataFrame rows\n",
    "shuffle_df = df.sample(frac=1)      # frac=1 means return all rows in random order"
   ]
  },
  {
   "cell_type": "code",
   "execution_count": 18,
   "metadata": {},
   "outputs": [
    {
     "name": "stdout",
     "output_type": "stream",
     "text": [
      "Index(['Date', 'Confirmed', 'Deceased', 'Recovered'], dtype='object')\n"
     ]
    }
   ],
   "source": [
    "#print column names\n",
    "print(df.columns)"
   ]
  },
  {
   "cell_type": "code",
   "execution_count": 19,
   "metadata": {},
   "outputs": [
    {
     "name": "stdout",
     "output_type": "stream",
     "text": [
      "RangeIndex(start=0, stop=373, step=1)\n"
     ]
    }
   ],
   "source": [
    "#print row indices\n",
    "print(df.index)"
   ]
  },
  {
   "cell_type": "code",
   "execution_count": 20,
   "metadata": {},
   "outputs": [
    {
     "data": {
      "text/html": [
       "<div>\n",
       "<style scoped>\n",
       "    .dataframe tbody tr th:only-of-type {\n",
       "        vertical-align: middle;\n",
       "    }\n",
       "\n",
       "    .dataframe tbody tr th {\n",
       "        vertical-align: top;\n",
       "    }\n",
       "\n",
       "    .dataframe thead th {\n",
       "        text-align: right;\n",
       "    }\n",
       "</style>\n",
       "<table border=\"1\" class=\"dataframe\">\n",
       "  <thead>\n",
       "    <tr style=\"text-align: right;\">\n",
       "      <th></th>\n",
       "      <th>Date</th>\n",
       "      <th>Confirmed</th>\n",
       "      <th>Deceased</th>\n",
       "      <th>Recovered</th>\n",
       "    </tr>\n",
       "  </thead>\n",
       "  <tbody>\n",
       "    <tr>\n",
       "      <th>185</th>\n",
       "      <td>2021-01-02</td>\n",
       "      <td>755</td>\n",
       "      <td>3</td>\n",
       "      <td>976</td>\n",
       "    </tr>\n",
       "    <tr>\n",
       "      <th>339</th>\n",
       "      <td>2021-06-05</td>\n",
       "      <td>13800</td>\n",
       "      <td>365</td>\n",
       "      <td>25346</td>\n",
       "    </tr>\n",
       "    <tr>\n",
       "      <th>292</th>\n",
       "      <td>2021-04-19</td>\n",
       "      <td>15785</td>\n",
       "      <td>146</td>\n",
       "      <td>7098</td>\n",
       "    </tr>\n",
       "    <tr>\n",
       "      <th>328</th>\n",
       "      <td>2021-05-25</td>\n",
       "      <td>22758</td>\n",
       "      <td>588</td>\n",
       "      <td>38224</td>\n",
       "    </tr>\n",
       "    <tr>\n",
       "      <th>41</th>\n",
       "      <td>2020-08-11</td>\n",
       "      <td>6257</td>\n",
       "      <td>86</td>\n",
       "      <td>6473</td>\n",
       "    </tr>\n",
       "  </tbody>\n",
       "</table>\n",
       "</div>"
      ],
      "text/plain": [
       "           Date  Confirmed  Deceased  Recovered\n",
       "185  2021-01-02        755         3        976\n",
       "339  2021-06-05      13800       365      25346\n",
       "292  2021-04-19      15785       146       7098\n",
       "328  2021-05-25      22758       588      38224\n",
       "41   2020-08-11       6257        86       6473"
      ]
     },
     "execution_count": 20,
     "metadata": {},
     "output_type": "execute_result"
    }
   ],
   "source": [
    "shuffle_df.head()"
   ]
  },
  {
   "cell_type": "code",
   "execution_count": 21,
   "metadata": {},
   "outputs": [
    {
     "data": {
      "text/plain": [
       "Date         2020-07-05\n",
       "Confirmed          1925\n",
       "Deceased             37\n",
       "Recovered           603\n",
       "Name: 4, dtype: object"
      ]
     },
     "execution_count": 21,
     "metadata": {},
     "output_type": "execute_result"
    }
   ],
   "source": [
    "#extracting rows from a dataframe at label 4\n",
    "shuffle_df.loc[4]"
   ]
  },
  {
   "cell_type": "code",
   "execution_count": 22,
   "metadata": {},
   "outputs": [
    {
     "data": {
      "text/plain": [
       "Date         2020-08-11\n",
       "Confirmed          6257\n",
       "Deceased             86\n",
       "Recovered          6473\n",
       "Name: 41, dtype: object"
      ]
     },
     "execution_count": 22,
     "metadata": {},
     "output_type": "execute_result"
    }
   ],
   "source": [
    "#extracting a row from a dataframe at location 4\n",
    "shuffle_df.iloc[4]"
   ]
  },
  {
   "cell_type": "code",
   "execution_count": 23,
   "metadata": {},
   "outputs": [
    {
     "data": {
      "text/plain": [
       "1925"
      ]
     },
     "execution_count": 23,
     "metadata": {},
     "output_type": "execute_result"
    }
   ],
   "source": [
    "#extracting rows from a dataframe at label 4 and within column \"Confirmed\"\n",
    "\n",
    "shuffle_df[\"Confirmed\"].loc[4]"
   ]
  },
  {
   "cell_type": "code",
   "execution_count": 24,
   "metadata": {},
   "outputs": [
    {
     "data": {
      "text/plain": [
       "6257"
      ]
     },
     "execution_count": 24,
     "metadata": {},
     "output_type": "execute_result"
    }
   ],
   "source": [
    "#extracting rows from a dataframe at location 4 and within column \"Confirmed\"\n",
    "\n",
    "shuffle_df[\"Confirmed\"].iloc[4]"
   ]
  },
  {
   "cell_type": "markdown",
   "metadata": {},
   "source": [
    "## Slicing "
   ]
  },
  {
   "cell_type": "code",
   "execution_count": 25,
   "metadata": {},
   "outputs": [
    {
     "name": "stdout",
     "output_type": "stream",
     "text": [
      "           Date  Confirmed  Deceased  Recovered\n",
      "292  2021-04-19      15785       146       7098\n",
      "328  2021-05-25      22758       588      38224 \n",
      "\n",
      "           Date  Confirmed\n",
      "292  2021-04-19      15785\n",
      "328  2021-05-25      22758\n"
     ]
    }
   ],
   "source": [
    "#slicing the DataFrame\n",
    "print(shuffle_df.iloc[2:4], \"\\n\")       #rows 2 and 3\n",
    "print(shuffle_df.iloc[2:4, 0:2])        #rows 2 and 3, columns 0 and 1"
   ]
  },
  {
   "cell_type": "code",
   "execution_count": 26,
   "metadata": {},
   "outputs": [
    {
     "name": "stdout",
     "output_type": "stream",
     "text": [
      "292    15785\n",
      "328    22758\n",
      "Name: Confirmed, dtype: int64 \n",
      "\n",
      "[15785 22758]\n"
     ]
    }
   ],
   "source": [
    "#slicing the columns of the dataframe DataFrame\n",
    "print(shuffle_df[\"Confirmed\"].iloc[2:4], \"\\n\")      #rows 2 and 3 of the column \"Confirmed\"\n",
    "print(shuffle_df.iloc[2:4, 1].values)               #rows 2 and 3 of the column 1"
   ]
  },
  {
   "cell_type": "code",
   "execution_count": 27,
   "metadata": {},
   "outputs": [
    {
     "name": "stdout",
     "output_type": "stream",
     "text": [
      "     Confirmed  Deceased\n",
      "185        755         3\n",
      "339      13800       365\n",
      "292      15785       146\n",
      "328      22758       588\n",
      "41        6257        86\n",
      "\n",
      "\n",
      "     Confirmed  Deceased\n",
      "185        755         3\n",
      "339      13800       365\n",
      "292      15785       146\n",
      "328      22758       588\n",
      "41        6257        86\n",
      "\n",
      "\n",
      "     Confirmed  Deceased\n",
      "185        755         3\n",
      "339      13800       365\n",
      "292      15785       146\n",
      "328      22758       588\n",
      "41        6257        86\n",
      "\n",
      "\n",
      "     Confirmed  Deceased\n",
      "185        755         3\n",
      "339      13800       365\n",
      "292      15785       146\n",
      "328      22758       588\n",
      "41        6257        86\n"
     ]
    }
   ],
   "source": [
    "# slicing multiple columns\n",
    "print(shuffle_df[[\"Confirmed\",\"Deceased\"]].head(5))     # rows 0 to 4, columns 1 and 2\n",
    "print(\"\\n\")\n",
    "print(shuffle_df[:5][[\"Confirmed\",\"Deceased\"]])         # rows 0 to 4, columns 1 and 2\n",
    "print(\"\\n\")\n",
    "print(shuffle_df[[\"Confirmed\",\"Deceased\"]][:5])         # rows 0 to 4, columns 1 and 2\n",
    "print(\"\\n\")\n",
    "print(shuffle_df.iloc[:5, 1:3])                         # rows 0 to 4, columns 1 and 2"
   ]
  },
  {
   "cell_type": "markdown",
   "metadata": {},
   "source": [
    "## Adding rows and columns to a DataFrame"
   ]
  },
  {
   "cell_type": "code",
   "execution_count": 28,
   "metadata": {},
   "outputs": [
    {
     "name": "stdout",
     "output_type": "stream",
     "text": [
      "           Date  Confirmed  Deceased  Recovered  NewColum\n",
      "185  2021-01-02        755         3        976       758\n",
      "339  2021-06-05      13800       365      25346     14165\n",
      "292  2021-04-19      15785       146       7098     15931\n",
      "328  2021-05-25      22758       588      38224     23346\n",
      "41   2020-08-11       6257        86       6473      6343\n"
     ]
    }
   ],
   "source": [
    "shuffle_df[\"NewColum\"] = shuffle_df[\"Confirmed\"] + shuffle_df[\"Deceased\"]\n",
    "print(shuffle_df.head())"
   ]
  },
  {
   "cell_type": "code",
   "execution_count": 29,
   "metadata": {},
   "outputs": [
    {
     "data": {
      "text/plain": [
       "373"
      ]
     },
     "execution_count": 29,
     "metadata": {},
     "output_type": "execute_result"
    }
   ],
   "source": [
    "len(shuffle_df)"
   ]
  },
  {
   "cell_type": "code",
   "execution_count": 30,
   "metadata": {},
   "outputs": [],
   "source": [
    "shuffle_df.loc[len(df.index)] = ['2021-06-15', 1000, 10, 10000, 1010] "
   ]
  },
  {
   "cell_type": "code",
   "execution_count": 31,
   "metadata": {},
   "outputs": [
    {
     "data": {
      "text/plain": [
       "374"
      ]
     },
     "execution_count": 31,
     "metadata": {},
     "output_type": "execute_result"
    }
   ],
   "source": [
    "len(shuffle_df)"
   ]
  },
  {
   "cell_type": "code",
   "execution_count": 32,
   "metadata": {},
   "outputs": [
    {
     "data": {
      "text/html": [
       "<div>\n",
       "<style scoped>\n",
       "    .dataframe tbody tr th:only-of-type {\n",
       "        vertical-align: middle;\n",
       "    }\n",
       "\n",
       "    .dataframe tbody tr th {\n",
       "        vertical-align: top;\n",
       "    }\n",
       "\n",
       "    .dataframe thead th {\n",
       "        text-align: right;\n",
       "    }\n",
       "</style>\n",
       "<table border=\"1\" class=\"dataframe\">\n",
       "  <thead>\n",
       "    <tr style=\"text-align: right;\">\n",
       "      <th></th>\n",
       "      <th>Date</th>\n",
       "      <th>Confirmed</th>\n",
       "      <th>Deceased</th>\n",
       "      <th>Recovered</th>\n",
       "      <th>NewColum</th>\n",
       "    </tr>\n",
       "  </thead>\n",
       "  <tbody>\n",
       "    <tr>\n",
       "      <th>263</th>\n",
       "      <td>2021-03-21</td>\n",
       "      <td>1715</td>\n",
       "      <td>2</td>\n",
       "      <td>1048</td>\n",
       "      <td>1717</td>\n",
       "    </tr>\n",
       "    <tr>\n",
       "      <th>31</th>\n",
       "      <td>2020-08-01</td>\n",
       "      <td>5172</td>\n",
       "      <td>98</td>\n",
       "      <td>3860</td>\n",
       "      <td>5270</td>\n",
       "    </tr>\n",
       "    <tr>\n",
       "      <th>102</th>\n",
       "      <td>2020-10-11</td>\n",
       "      <td>9523</td>\n",
       "      <td>75</td>\n",
       "      <td>10107</td>\n",
       "      <td>9598</td>\n",
       "    </tr>\n",
       "    <tr>\n",
       "      <th>121</th>\n",
       "      <td>2020-10-30</td>\n",
       "      <td>3589</td>\n",
       "      <td>49</td>\n",
       "      <td>8521</td>\n",
       "      <td>3638</td>\n",
       "    </tr>\n",
       "    <tr>\n",
       "      <th>373</th>\n",
       "      <td>2021-06-15</td>\n",
       "      <td>1000</td>\n",
       "      <td>10</td>\n",
       "      <td>10000</td>\n",
       "      <td>1010</td>\n",
       "    </tr>\n",
       "  </tbody>\n",
       "</table>\n",
       "</div>"
      ],
      "text/plain": [
       "           Date  Confirmed  Deceased  Recovered  NewColum\n",
       "263  2021-03-21       1715         2       1048      1717\n",
       "31   2020-08-01       5172        98       3860      5270\n",
       "102  2020-10-11       9523        75      10107      9598\n",
       "121  2020-10-30       3589        49       8521      3638\n",
       "373  2021-06-15       1000        10      10000      1010"
      ]
     },
     "execution_count": 32,
     "metadata": {},
     "output_type": "execute_result"
    }
   ],
   "source": [
    "shuffle_df.tail()"
   ]
  },
  {
   "cell_type": "markdown",
   "metadata": {},
   "source": [
    "## Conditional Operators "
   ]
  },
  {
   "cell_type": "code",
   "execution_count": 33,
   "metadata": {},
   "outputs": [
    {
     "data": {
      "text/html": [
       "<div>\n",
       "<style scoped>\n",
       "    .dataframe tbody tr th:only-of-type {\n",
       "        vertical-align: middle;\n",
       "    }\n",
       "\n",
       "    .dataframe tbody tr th {\n",
       "        vertical-align: top;\n",
       "    }\n",
       "\n",
       "    .dataframe thead th {\n",
       "        text-align: right;\n",
       "    }\n",
       "</style>\n",
       "<table border=\"1\" class=\"dataframe\">\n",
       "  <thead>\n",
       "    <tr style=\"text-align: right;\">\n",
       "      <th></th>\n",
       "      <th>Date</th>\n",
       "      <th>Confirmed</th>\n",
       "      <th>Deceased</th>\n",
       "      <th>Recovered</th>\n",
       "      <th>NewColum</th>\n",
       "    </tr>\n",
       "  </thead>\n",
       "  <tbody>\n",
       "    <tr>\n",
       "      <th>189</th>\n",
       "      <td>2021-01-06</td>\n",
       "      <td>784</td>\n",
       "      <td>6</td>\n",
       "      <td>1238</td>\n",
       "      <td>790</td>\n",
       "    </tr>\n",
       "    <tr>\n",
       "      <th>168</th>\n",
       "      <td>2020-12-16</td>\n",
       "      <td>1240</td>\n",
       "      <td>6</td>\n",
       "      <td>1403</td>\n",
       "      <td>1246</td>\n",
       "    </tr>\n",
       "    <tr>\n",
       "      <th>252</th>\n",
       "      <td>2021-03-10</td>\n",
       "      <td>760</td>\n",
       "      <td>6</td>\n",
       "      <td>331</td>\n",
       "      <td>766</td>\n",
       "    </tr>\n",
       "    <tr>\n",
       "      <th>241</th>\n",
       "      <td>2021-02-27</td>\n",
       "      <td>523</td>\n",
       "      <td>6</td>\n",
       "      <td>380</td>\n",
       "      <td>529</td>\n",
       "    </tr>\n",
       "    <tr>\n",
       "      <th>251</th>\n",
       "      <td>2021-03-09</td>\n",
       "      <td>590</td>\n",
       "      <td>6</td>\n",
       "      <td>366</td>\n",
       "      <td>596</td>\n",
       "    </tr>\n",
       "    <tr>\n",
       "      <th>232</th>\n",
       "      <td>2021-02-18</td>\n",
       "      <td>406</td>\n",
       "      <td>6</td>\n",
       "      <td>306</td>\n",
       "      <td>412</td>\n",
       "    </tr>\n",
       "    <tr>\n",
       "      <th>238</th>\n",
       "      <td>2021-02-24</td>\n",
       "      <td>334</td>\n",
       "      <td>6</td>\n",
       "      <td>313</td>\n",
       "      <td>340</td>\n",
       "    </tr>\n",
       "    <tr>\n",
       "      <th>230</th>\n",
       "      <td>2021-02-16</td>\n",
       "      <td>438</td>\n",
       "      <td>6</td>\n",
       "      <td>344</td>\n",
       "      <td>444</td>\n",
       "    </tr>\n",
       "    <tr>\n",
       "      <th>258</th>\n",
       "      <td>2021-03-16</td>\n",
       "      <td>1135</td>\n",
       "      <td>6</td>\n",
       "      <td>561</td>\n",
       "      <td>1141</td>\n",
       "    </tr>\n",
       "    <tr>\n",
       "      <th>275</th>\n",
       "      <td>2021-04-02</td>\n",
       "      <td>4991</td>\n",
       "      <td>6</td>\n",
       "      <td>1631</td>\n",
       "      <td>4997</td>\n",
       "    </tr>\n",
       "    <tr>\n",
       "      <th>202</th>\n",
       "      <td>2021-01-19</td>\n",
       "      <td>645</td>\n",
       "      <td>6</td>\n",
       "      <td>807</td>\n",
       "      <td>651</td>\n",
       "    </tr>\n",
       "    <tr>\n",
       "      <th>184</th>\n",
       "      <td>2021-01-01</td>\n",
       "      <td>877</td>\n",
       "      <td>6</td>\n",
       "      <td>1084</td>\n",
       "      <td>883</td>\n",
       "    </tr>\n",
       "  </tbody>\n",
       "</table>\n",
       "</div>"
      ],
      "text/plain": [
       "           Date  Confirmed  Deceased  Recovered  NewColum\n",
       "189  2021-01-06        784         6       1238       790\n",
       "168  2020-12-16       1240         6       1403      1246\n",
       "252  2021-03-10        760         6        331       766\n",
       "241  2021-02-27        523         6        380       529\n",
       "251  2021-03-09        590         6        366       596\n",
       "232  2021-02-18        406         6        306       412\n",
       "238  2021-02-24        334         6        313       340\n",
       "230  2021-02-16        438         6        344       444\n",
       "258  2021-03-16       1135         6        561      1141\n",
       "275  2021-04-02       4991         6       1631      4997\n",
       "202  2021-01-19        645         6        807       651\n",
       "184  2021-01-01        877         6       1084       883"
      ]
     },
     "execution_count": 33,
     "metadata": {},
     "output_type": "execute_result"
    }
   ],
   "source": [
    "shuffle_df[shuffle_df['Deceased'] == 6]     #Filtering by column value (Deceased == 6)"
   ]
  },
  {
   "cell_type": "code",
   "execution_count": 34,
   "metadata": {},
   "outputs": [
    {
     "data": {
      "text/html": [
       "<div>\n",
       "<style scoped>\n",
       "    .dataframe tbody tr th:only-of-type {\n",
       "        vertical-align: middle;\n",
       "    }\n",
       "\n",
       "    .dataframe tbody tr th {\n",
       "        vertical-align: top;\n",
       "    }\n",
       "\n",
       "    .dataframe thead th {\n",
       "        text-align: right;\n",
       "    }\n",
       "</style>\n",
       "<table border=\"1\" class=\"dataframe\">\n",
       "  <thead>\n",
       "    <tr style=\"text-align: right;\">\n",
       "      <th></th>\n",
       "      <th>Date</th>\n",
       "      <th>Confirmed</th>\n",
       "      <th>Deceased</th>\n",
       "      <th>Recovered</th>\n",
       "      <th>NewColum</th>\n",
       "    </tr>\n",
       "  </thead>\n",
       "  <tbody>\n",
       "    <tr>\n",
       "      <th>230</th>\n",
       "      <td>2021-02-16</td>\n",
       "      <td>438</td>\n",
       "      <td>6</td>\n",
       "      <td>344</td>\n",
       "      <td>444</td>\n",
       "    </tr>\n",
       "  </tbody>\n",
       "</table>\n",
       "</div>"
      ],
      "text/plain": [
       "           Date  Confirmed  Deceased  Recovered  NewColum\n",
       "230  2021-02-16        438         6        344       444"
      ]
     },
     "execution_count": 34,
     "metadata": {},
     "output_type": "execute_result"
    }
   ],
   "source": [
    "shuffle_df[(shuffle_df['Deceased'] == 6) & (shuffle_df['Recovered'] == 344)]     #Filtering by column value (Deceased == 6) & (Recovered == 344)"
   ]
  },
  {
   "cell_type": "code",
   "execution_count": 35,
   "metadata": {},
   "outputs": [
    {
     "data": {
      "text/html": [
       "<div>\n",
       "<style scoped>\n",
       "    .dataframe tbody tr th:only-of-type {\n",
       "        vertical-align: middle;\n",
       "    }\n",
       "\n",
       "    .dataframe tbody tr th {\n",
       "        vertical-align: top;\n",
       "    }\n",
       "\n",
       "    .dataframe thead th {\n",
       "        text-align: right;\n",
       "    }\n",
       "</style>\n",
       "<table border=\"1\" class=\"dataframe\">\n",
       "  <thead>\n",
       "    <tr style=\"text-align: right;\">\n",
       "      <th></th>\n",
       "      <th>Date</th>\n",
       "      <th>Confirmed</th>\n",
       "      <th>Deceased</th>\n",
       "      <th>Recovered</th>\n",
       "      <th>NewColum</th>\n",
       "    </tr>\n",
       "  </thead>\n",
       "  <tbody>\n",
       "    <tr>\n",
       "      <th>185</th>\n",
       "      <td>2021-01-02</td>\n",
       "      <td>755</td>\n",
       "      <td>3</td>\n",
       "      <td>976</td>\n",
       "      <td>758</td>\n",
       "    </tr>\n",
       "    <tr>\n",
       "      <th>229</th>\n",
       "      <td>2021-02-15</td>\n",
       "      <td>368</td>\n",
       "      <td>2</td>\n",
       "      <td>430</td>\n",
       "      <td>370</td>\n",
       "    </tr>\n",
       "    <tr>\n",
       "      <th>236</th>\n",
       "      <td>2021-02-22</td>\n",
       "      <td>317</td>\n",
       "      <td>5</td>\n",
       "      <td>287</td>\n",
       "      <td>322</td>\n",
       "    </tr>\n",
       "    <tr>\n",
       "      <th>211</th>\n",
       "      <td>2021-01-28</td>\n",
       "      <td>550</td>\n",
       "      <td>2</td>\n",
       "      <td>644</td>\n",
       "      <td>552</td>\n",
       "    </tr>\n",
       "    <tr>\n",
       "      <th>214</th>\n",
       "      <td>2021-01-31</td>\n",
       "      <td>522</td>\n",
       "      <td>4</td>\n",
       "      <td>465</td>\n",
       "      <td>526</td>\n",
       "    </tr>\n",
       "    <tr>\n",
       "      <th>...</th>\n",
       "      <td>...</td>\n",
       "      <td>...</td>\n",
       "      <td>...</td>\n",
       "      <td>...</td>\n",
       "      <td>...</td>\n",
       "    </tr>\n",
       "    <tr>\n",
       "      <th>255</th>\n",
       "      <td>2021-03-13</td>\n",
       "      <td>921</td>\n",
       "      <td>1</td>\n",
       "      <td>992</td>\n",
       "      <td>922</td>\n",
       "    </tr>\n",
       "    <tr>\n",
       "      <th>219</th>\n",
       "      <td>2021-02-05</td>\n",
       "      <td>430</td>\n",
       "      <td>3</td>\n",
       "      <td>470</td>\n",
       "      <td>433</td>\n",
       "    </tr>\n",
       "    <tr>\n",
       "      <th>247</th>\n",
       "      <td>2021-03-05</td>\n",
       "      <td>677</td>\n",
       "      <td>4</td>\n",
       "      <td>427</td>\n",
       "      <td>681</td>\n",
       "    </tr>\n",
       "    <tr>\n",
       "      <th>204</th>\n",
       "      <td>2021-01-21</td>\n",
       "      <td>674</td>\n",
       "      <td>2</td>\n",
       "      <td>815</td>\n",
       "      <td>676</td>\n",
       "    </tr>\n",
       "    <tr>\n",
       "      <th>263</th>\n",
       "      <td>2021-03-21</td>\n",
       "      <td>1715</td>\n",
       "      <td>2</td>\n",
       "      <td>1048</td>\n",
       "      <td>1717</td>\n",
       "    </tr>\n",
       "  </tbody>\n",
       "</table>\n",
       "<p>64 rows × 5 columns</p>\n",
       "</div>"
      ],
      "text/plain": [
       "           Date  Confirmed  Deceased  Recovered  NewColum\n",
       "185  2021-01-02        755         3        976       758\n",
       "229  2021-02-15        368         2        430       370\n",
       "236  2021-02-22        317         5        287       322\n",
       "211  2021-01-28        550         2        644       552\n",
       "214  2021-01-31        522         4        465       526\n",
       "..          ...        ...       ...        ...       ...\n",
       "255  2021-03-13        921         1        992       922\n",
       "219  2021-02-05        430         3        470       433\n",
       "247  2021-03-05        677         4        427       681\n",
       "204  2021-01-21        674         2        815       676\n",
       "263  2021-03-21       1715         2       1048      1717\n",
       "\n",
       "[64 rows x 5 columns]"
      ]
     },
     "execution_count": 35,
     "metadata": {},
     "output_type": "execute_result"
    }
   ],
   "source": [
    "shuffle_df[(shuffle_df['Deceased'] < 6)]              #Filtering by column value (Deceased < 6)"
   ]
  },
  {
   "cell_type": "markdown",
   "metadata": {},
   "source": [
    "## DataFrame Statistics\n",
    "\n",
    "* count\n",
    "* sum \n",
    "* mean\n",
    "* median\n",
    "* value_counts\n",
    "* cumsum"
   ]
  },
  {
   "cell_type": "code",
   "execution_count": 36,
   "metadata": {},
   "outputs": [
    {
     "name": "stdout",
     "output_type": "stream",
     "text": [
      "Date         373\n",
      "Confirmed    373\n",
      "Deceased     373\n",
      "Recovered    373\n",
      "dtype: int64\n"
     ]
    }
   ],
   "source": [
    "print(df.count())"
   ]
  },
  {
   "cell_type": "code",
   "execution_count": 37,
   "metadata": {},
   "outputs": [
    {
     "name": "stdout",
     "output_type": "stream",
     "text": [
      "Confirmed    2864868\n",
      "Deceased       35663\n",
      "Recovered    2790453\n",
      "dtype: int64\n"
     ]
    }
   ],
   "source": [
    "print(df.sum(numeric_only=True))"
   ]
  },
  {
   "cell_type": "code",
   "execution_count": 38,
   "metadata": {},
   "outputs": [
    {
     "name": "stdout",
     "output_type": "stream",
     "text": [
      "Confirmed    7680.611260\n",
      "Deceased       95.611260\n",
      "Recovered    7481.107239\n",
      "dtype: float64\n"
     ]
    }
   ],
   "source": [
    "print(df.mean(numeric_only=True))"
   ]
  },
  {
   "cell_type": "code",
   "execution_count": 39,
   "metadata": {},
   "outputs": [
    {
     "name": "stdout",
     "output_type": "stream",
     "text": [
      "Confirmed    3979.0\n",
      "Deceased       59.0\n",
      "Recovered    3487.0\n",
      "dtype: float64\n"
     ]
    }
   ],
   "source": [
    "print(df.median(numeric_only=True))"
   ]
  },
  {
   "cell_type": "code",
   "execution_count": 40,
   "metadata": {},
   "outputs": [
    {
     "name": "stdout",
     "output_type": "stream",
     "text": [
      "Date        Confirmed  Deceased  Recovered\n",
      "2020-07-01  16514      253       8065         1\n",
      "2021-03-04  571        4         496          1\n",
      "2021-03-13  921        1         992          1\n",
      "2021-03-12  833        5         545          1\n",
      "2021-03-11  783        2         406          1\n",
      "                                             ..\n",
      "2020-10-31  3014       28        7468         1\n",
      "2020-10-30  3589       49        8521         1\n",
      "2020-10-29  4025       45        7661         1\n",
      "2020-10-28  3146       55        6260         1\n",
      "2021-07-08  2530       62        3342         1\n",
      "Length: 373, dtype: int64\n"
     ]
    }
   ],
   "source": [
    "print(df.value_counts())"
   ]
  },
  {
   "cell_type": "code",
   "execution_count": 41,
   "metadata": {},
   "outputs": [
    {
     "name": "stdout",
     "output_type": "stream",
     "text": [
      "                                                  Date  Confirmed  Deceased  \\\n",
      "0                                           2020-07-01      16514       253   \n",
      "1                                 2020-07-012020-07-02      18016       272   \n",
      "2                       2020-07-012020-07-022020-07-03      19710       293   \n",
      "3             2020-07-012020-07-022020-07-032020-07-04      21549       335   \n",
      "4    2020-07-012020-07-022020-07-032020-07-042020-0...      23474       372   \n",
      "..                                                 ...        ...       ...   \n",
      "368  2020-07-012020-07-022020-07-032020-07-042020-0...    2853643     35367   \n",
      "369  2020-07-012020-07-022020-07-032020-07-042020-0...    2856491     35434   \n",
      "370  2020-07-012020-07-022020-07-032020-07-042020-0...    2859595     35526   \n",
      "371  2020-07-012020-07-022020-07-032020-07-042020-0...    2862338     35601   \n",
      "372  2020-07-012020-07-022020-07-032020-07-042020-0...    2864868     35663   \n",
      "\n",
      "     Recovered  \n",
      "0         8065  \n",
      "1         8336  \n",
      "2         8807  \n",
      "3         9246  \n",
      "4         9849  \n",
      "..         ...  \n",
      "368    2773407  \n",
      "369    2779038  \n",
      "370    2784030  \n",
      "371    2787111  \n",
      "372    2790453  \n",
      "\n",
      "[373 rows x 4 columns]\n"
     ]
    }
   ],
   "source": [
    "print(df.cumsum())"
   ]
  },
  {
   "cell_type": "markdown",
   "metadata": {},
   "source": [
    "## Grouping\n",
    "\n",
    "Grouping by multiple columns forms a hierarchical index"
   ]
  },
  {
   "cell_type": "code",
   "execution_count": 42,
   "metadata": {},
   "outputs": [],
   "source": [
    "df = pd.DataFrame(\n",
    "    {\n",
    "        \"A\": [\"foo\", \"bar\", \"foo\", \"bar\", \"foo\", \"bar\", \"foo\", \"foo\"],\n",
    "        \"B\": [\"one\", \"one\", \"two\", \"three\", \"two\", \"two\", \"one\", \"three\"],\n",
    "        \"C\": np.random.randn(8),\n",
    "        \"D\": np.random.randn(8),\n",
    "    }\n",
    ")"
   ]
  },
  {
   "cell_type": "code",
   "execution_count": 43,
   "metadata": {},
   "outputs": [
    {
     "data": {
      "text/html": [
       "<div>\n",
       "<style scoped>\n",
       "    .dataframe tbody tr th:only-of-type {\n",
       "        vertical-align: middle;\n",
       "    }\n",
       "\n",
       "    .dataframe tbody tr th {\n",
       "        vertical-align: top;\n",
       "    }\n",
       "\n",
       "    .dataframe thead th {\n",
       "        text-align: right;\n",
       "    }\n",
       "</style>\n",
       "<table border=\"1\" class=\"dataframe\">\n",
       "  <thead>\n",
       "    <tr style=\"text-align: right;\">\n",
       "      <th></th>\n",
       "      <th>A</th>\n",
       "      <th>B</th>\n",
       "      <th>C</th>\n",
       "      <th>D</th>\n",
       "    </tr>\n",
       "  </thead>\n",
       "  <tbody>\n",
       "    <tr>\n",
       "      <th>0</th>\n",
       "      <td>foo</td>\n",
       "      <td>one</td>\n",
       "      <td>1.114184</td>\n",
       "      <td>-0.101593</td>\n",
       "    </tr>\n",
       "    <tr>\n",
       "      <th>1</th>\n",
       "      <td>bar</td>\n",
       "      <td>one</td>\n",
       "      <td>-2.282209</td>\n",
       "      <td>-0.455912</td>\n",
       "    </tr>\n",
       "    <tr>\n",
       "      <th>2</th>\n",
       "      <td>foo</td>\n",
       "      <td>two</td>\n",
       "      <td>-0.431120</td>\n",
       "      <td>-0.825173</td>\n",
       "    </tr>\n",
       "    <tr>\n",
       "      <th>3</th>\n",
       "      <td>bar</td>\n",
       "      <td>three</td>\n",
       "      <td>-1.514326</td>\n",
       "      <td>-1.092203</td>\n",
       "    </tr>\n",
       "    <tr>\n",
       "      <th>4</th>\n",
       "      <td>foo</td>\n",
       "      <td>two</td>\n",
       "      <td>-1.619315</td>\n",
       "      <td>-0.669969</td>\n",
       "    </tr>\n",
       "  </tbody>\n",
       "</table>\n",
       "</div>"
      ],
      "text/plain": [
       "     A      B         C         D\n",
       "0  foo    one  1.114184 -0.101593\n",
       "1  bar    one -2.282209 -0.455912\n",
       "2  foo    two -0.431120 -0.825173\n",
       "3  bar  three -1.514326 -1.092203\n",
       "4  foo    two -1.619315 -0.669969"
      ]
     },
     "execution_count": 43,
     "metadata": {},
     "output_type": "execute_result"
    }
   ],
   "source": [
    "df.head()"
   ]
  },
  {
   "cell_type": "code",
   "execution_count": 44,
   "metadata": {},
   "outputs": [
    {
     "data": {
      "text/html": [
       "<div>\n",
       "<style scoped>\n",
       "    .dataframe tbody tr th:only-of-type {\n",
       "        vertical-align: middle;\n",
       "    }\n",
       "\n",
       "    .dataframe tbody tr th {\n",
       "        vertical-align: top;\n",
       "    }\n",
       "\n",
       "    .dataframe thead th {\n",
       "        text-align: right;\n",
       "    }\n",
       "</style>\n",
       "<table border=\"1\" class=\"dataframe\">\n",
       "  <thead>\n",
       "    <tr style=\"text-align: right;\">\n",
       "      <th></th>\n",
       "      <th></th>\n",
       "      <th>C</th>\n",
       "      <th>D</th>\n",
       "    </tr>\n",
       "    <tr>\n",
       "      <th>A</th>\n",
       "      <th>B</th>\n",
       "      <th></th>\n",
       "      <th></th>\n",
       "    </tr>\n",
       "  </thead>\n",
       "  <tbody>\n",
       "    <tr>\n",
       "      <th rowspan=\"3\" valign=\"top\">bar</th>\n",
       "      <th>one</th>\n",
       "      <td>-2.282209</td>\n",
       "      <td>-0.455912</td>\n",
       "    </tr>\n",
       "    <tr>\n",
       "      <th>three</th>\n",
       "      <td>-1.514326</td>\n",
       "      <td>-1.092203</td>\n",
       "    </tr>\n",
       "    <tr>\n",
       "      <th>two</th>\n",
       "      <td>-0.556703</td>\n",
       "      <td>-0.322890</td>\n",
       "    </tr>\n",
       "    <tr>\n",
       "      <th rowspan=\"3\" valign=\"top\">foo</th>\n",
       "      <th>one</th>\n",
       "      <td>0.257305</td>\n",
       "      <td>-0.835089</td>\n",
       "    </tr>\n",
       "    <tr>\n",
       "      <th>three</th>\n",
       "      <td>1.254818</td>\n",
       "      <td>0.627000</td>\n",
       "    </tr>\n",
       "    <tr>\n",
       "      <th>two</th>\n",
       "      <td>-2.050435</td>\n",
       "      <td>-1.495142</td>\n",
       "    </tr>\n",
       "  </tbody>\n",
       "</table>\n",
       "</div>"
      ],
      "text/plain": [
       "                  C         D\n",
       "A   B                        \n",
       "bar one   -2.282209 -0.455912\n",
       "    three -1.514326 -1.092203\n",
       "    two   -0.556703 -0.322890\n",
       "foo one    0.257305 -0.835089\n",
       "    three  1.254818  0.627000\n",
       "    two   -2.050435 -1.495142"
      ]
     },
     "execution_count": 44,
     "metadata": {},
     "output_type": "execute_result"
    }
   ],
   "source": [
    "df.groupby([\"A\",\"B\"]).sum(numeric_only=True)"
   ]
  },
  {
   "cell_type": "code",
   "execution_count": 45,
   "metadata": {},
   "outputs": [
    {
     "data": {
      "text/html": [
       "<div>\n",
       "<style scoped>\n",
       "    .dataframe tbody tr th:only-of-type {\n",
       "        vertical-align: middle;\n",
       "    }\n",
       "\n",
       "    .dataframe tbody tr th {\n",
       "        vertical-align: top;\n",
       "    }\n",
       "\n",
       "    .dataframe thead th {\n",
       "        text-align: right;\n",
       "    }\n",
       "</style>\n",
       "<table border=\"1\" class=\"dataframe\">\n",
       "  <thead>\n",
       "    <tr style=\"text-align: right;\">\n",
       "      <th></th>\n",
       "      <th></th>\n",
       "      <th>C</th>\n",
       "      <th>D</th>\n",
       "    </tr>\n",
       "    <tr>\n",
       "      <th>A</th>\n",
       "      <th>B</th>\n",
       "      <th></th>\n",
       "      <th></th>\n",
       "    </tr>\n",
       "  </thead>\n",
       "  <tbody>\n",
       "    <tr>\n",
       "      <th rowspan=\"3\" valign=\"top\">bar</th>\n",
       "      <th>one</th>\n",
       "      <td>1</td>\n",
       "      <td>1</td>\n",
       "    </tr>\n",
       "    <tr>\n",
       "      <th>three</th>\n",
       "      <td>1</td>\n",
       "      <td>1</td>\n",
       "    </tr>\n",
       "    <tr>\n",
       "      <th>two</th>\n",
       "      <td>1</td>\n",
       "      <td>1</td>\n",
       "    </tr>\n",
       "    <tr>\n",
       "      <th rowspan=\"3\" valign=\"top\">foo</th>\n",
       "      <th>one</th>\n",
       "      <td>2</td>\n",
       "      <td>2</td>\n",
       "    </tr>\n",
       "    <tr>\n",
       "      <th>three</th>\n",
       "      <td>1</td>\n",
       "      <td>1</td>\n",
       "    </tr>\n",
       "    <tr>\n",
       "      <th>two</th>\n",
       "      <td>2</td>\n",
       "      <td>2</td>\n",
       "    </tr>\n",
       "  </tbody>\n",
       "</table>\n",
       "</div>"
      ],
      "text/plain": [
       "           C  D\n",
       "A   B          \n",
       "bar one    1  1\n",
       "    three  1  1\n",
       "    two    1  1\n",
       "foo one    2  2\n",
       "    three  1  1\n",
       "    two    2  2"
      ]
     },
     "execution_count": 45,
     "metadata": {},
     "output_type": "execute_result"
    }
   ],
   "source": [
    "df.groupby([\"A\",\"B\"])[[\"C\",\"D\"]].count()"
   ]
  },
  {
   "cell_type": "code",
   "execution_count": 46,
   "metadata": {},
   "outputs": [
    {
     "data": {
      "text/html": [
       "<div>\n",
       "<style scoped>\n",
       "    .dataframe tbody tr th:only-of-type {\n",
       "        vertical-align: middle;\n",
       "    }\n",
       "\n",
       "    .dataframe tbody tr th {\n",
       "        vertical-align: top;\n",
       "    }\n",
       "\n",
       "    .dataframe thead th {\n",
       "        text-align: right;\n",
       "    }\n",
       "</style>\n",
       "<table border=\"1\" class=\"dataframe\">\n",
       "  <thead>\n",
       "    <tr style=\"text-align: right;\">\n",
       "      <th></th>\n",
       "      <th>C</th>\n",
       "      <th>D</th>\n",
       "    </tr>\n",
       "    <tr>\n",
       "      <th>A</th>\n",
       "      <th></th>\n",
       "      <th></th>\n",
       "    </tr>\n",
       "  </thead>\n",
       "  <tbody>\n",
       "    <tr>\n",
       "      <th>bar</th>\n",
       "      <td>-4.353238</td>\n",
       "      <td>-1.871005</td>\n",
       "    </tr>\n",
       "    <tr>\n",
       "      <th>foo</th>\n",
       "      <td>-0.538313</td>\n",
       "      <td>-1.703231</td>\n",
       "    </tr>\n",
       "  </tbody>\n",
       "</table>\n",
       "</div>"
      ],
      "text/plain": [
       "            C         D\n",
       "A                      \n",
       "bar -4.353238 -1.871005\n",
       "foo -0.538313 -1.703231"
      ]
     },
     "execution_count": 46,
     "metadata": {},
     "output_type": "execute_result"
    }
   ],
   "source": [
    "df.groupby(\"A\")[[\"C\", \"D\"]].sum()"
   ]
  },
  {
   "cell_type": "markdown",
   "metadata": {},
   "source": [
    "## Exporting DataFrame to CSV"
   ]
  },
  {
   "cell_type": "code",
   "execution_count": 47,
   "metadata": {},
   "outputs": [],
   "source": [
    "## to csv\n",
    "df.to_csv(\"foo.csv\")"
   ]
  },
  {
   "cell_type": "markdown",
   "metadata": {},
   "source": [
    "## Plotting DataFrame\n",
    "\n",
    "https://pandas.pydata.org/docs/reference/api/pandas.DataFrame.plot.html#pandas.DataFrame.plot\n"
   ]
  },
  {
   "cell_type": "code",
   "execution_count": 48,
   "metadata": {},
   "outputs": [
    {
     "data": {
      "image/png": "[encoded data removed]",
      "text/plain": [
       "<Figure size 500x500 with 1 Axes>"
      ]
     },
     "metadata": {},
     "output_type": "display_data"
    }
   ],
   "source": [
    "import matplotlib.pyplot as plt\n",
    "df =  pd.read_csv(\"https://docs.google.com/spreadsheets/d/e/2PACX-1vSUiVcSNGwjgoxrJVr_3uCGJDvqWmk6y1AGao_U7calomMVwLVV2F5CJzWE-2Nyw0uuGllj7eOC8oQR/pub?output=csv\")\n",
    "df.plot(figsize=(5, 5))\n",
    "plt.show()"
   ]
  },
  {
   "cell_type": "code",
   "execution_count": 49,
   "metadata": {},
   "outputs": [
    {
     "data": {
      "text/plain": [
       "<Axes: xlabel='Confirmed', ylabel='Recovered'>"
      ]
     },
     "execution_count": 49,
     "metadata": {},
     "output_type": "execute_result"
    },
    {
     "data": {
      "image/png": "[encoded data removed]",
      "text/plain": [
       "<Figure size 500x500 with 2 Axes>"
      ]
     },
     "metadata": {},
     "output_type": "display_data"
    }
   ],
   "source": [
    "df.plot.scatter(x=\"Confirmed\", y=\"Recovered\", c=\"Confirmed\", colormap=\"coolwarm\", alpha=0.5, figsize=(5, 5))"
   ]
  },
  {
   "cell_type": "code",
   "execution_count": 50,
   "metadata": {},
   "outputs": [
    {
     "data": {
      "text/plain": [
       "<Axes: >"
      ]
     },
     "execution_count": 50,
     "metadata": {},
     "output_type": "execute_result"
    },
    {
     "data": {
      "image/png": "[encoded data removed]",
      "text/plain": [
       "<Figure size 500x500 with 1 Axes>"
      ]
     },
     "metadata": {},
     "output_type": "display_data"
    }
   ],
   "source": [
    "df.plot.box(figsize=(5, 5))"
   ]
  },
  {
   "cell_type": "markdown",
   "metadata": {},
   "source": [
    "## seaborn\n",
    "\n",
    "![ALT_TEXT_FOR_SCREEN_READERS](https://seaborn.pydata.org/_static/logo-wide-lightbg.svg)\n",
    "\n",
    "Seaborn is a Python data visualization library based on matplotlib. It provides a high-level interface for drawing attractive and informative statistical graphics.\n",
    "\n",
    "https://seaborn.pydata.org/index.html \n"
   ]
  },
  {
   "cell_type": "code",
   "execution_count": 51,
   "metadata": {},
   "outputs": [],
   "source": [
    "import seaborn as sns"
   ]
  },
  {
   "cell_type": "code",
   "execution_count": 52,
   "metadata": {},
   "outputs": [
    {
     "data": {
      "text/plain": [
       "<Axes: ylabel='Count'>"
      ]
     },
     "execution_count": 52,
     "metadata": {},
     "output_type": "execute_result"
    },
    {
     "data": {
      "image/png": "[encoded data removed]",
      "text/plain": [
       "<Figure size 640x480 with 1 Axes>"
      ]
     },
     "metadata": {},
     "output_type": "display_data"
    }
   ],
   "source": [
    "sns.histplot(df[['Confirmed', 'Deceased', 'Recovered']])"
   ]
  },
  {
   "cell_type": "code",
   "execution_count": 53,
   "metadata": {},
   "outputs": [
    {
     "name": "stderr",
     "output_type": "stream",
     "text": [
      "/home/anjalip/anaconda3/envs/universe/lib/python3.8/site-packages/seaborn/axisgrid.py:118: UserWarning: The figure layout has changed to tight\n",
      "  self._figure.tight_layout(*args, **kwargs)\n"
     ]
    },
    {
     "data": {
      "text/plain": [
       "<seaborn.axisgrid.PairGrid at 0x7eff47b055b0>"
      ]
     },
     "execution_count": 53,
     "metadata": {},
     "output_type": "execute_result"
    },
    {
     "data": {
      "image/png": "[encoded data removed]",
      "text/plain": [
       "<Figure size 679.611x600 with 12 Axes>"
      ]
     },
     "metadata": {},
     "output_type": "display_data"
    }
   ],
   "source": [
    "sns.pairplot(df, hue='Deceased', height=2, vars=['Confirmed', 'Deceased', 'Recovered'], palette='husl')"
   ]
  }
 ],
 "metadata": {
  "kernelspec": {
   "display_name": "universe",
   "language": "python",
   "name": "python3"
  },
  "language_info": {
   "codemirror_mode": {
    "name": "ipython",
    "version": 3
   },
   "file_extension": ".py",
   "mimetype": "text/x-python",
   "name": "python",
   "nbconvert_exporter": "python",
   "pygments_lexer": "ipython3",
   "version": "3.8.16"
  },
  "orig_nbformat": 4
 },
 "nbformat": 4,
 "nbformat_minor": 2
}
