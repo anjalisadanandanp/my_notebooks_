{
 "cells": [
  {
   "cell_type": "markdown",
   "metadata": {},
   "source": [
    "# Problem set 3"
   ]
  },
  {
   "cell_type": "markdown",
   "metadata": {},
   "source": [
    "#### Mini batch gradient descent\n",
    "Dataset: simple pendulum. <br>\n",
    "Here, we consider a simple pendulum oscillation dataset with two variables. <br>\n",
    "The dataset consists of two columns and 90 rows. <br>\n",
    "Each column represents a characteristic of a simple pendulum i.e l (length) and t (time period). <br>\n",
    "The dataset describes the relationship between the l and t which is  $L∝T^2$. <br>"
   ]
  },
  {
   "cell_type": "code",
   "execution_count": 1,
   "metadata": {},
   "outputs": [
    {
     "data": {
      "text/html": [
       "<div>\n",
       "<style scoped>\n",
       "    .dataframe tbody tr th:only-of-type {\n",
       "        vertical-align: middle;\n",
       "    }\n",
       "\n",
       "    .dataframe tbody tr th {\n",
       "        vertical-align: top;\n",
       "    }\n",
       "\n",
       "    .dataframe thead th {\n",
       "        text-align: right;\n",
       "    }\n",
       "</style>\n",
       "<table border=\"1\" class=\"dataframe\">\n",
       "  <thead>\n",
       "    <tr style=\"text-align: right;\">\n",
       "      <th></th>\n",
       "      <th>l</th>\n",
       "      <th>t</th>\n",
       "    </tr>\n",
       "  </thead>\n",
       "  <tbody>\n",
       "    <tr>\n",
       "      <th>0</th>\n",
       "      <td>0.10</td>\n",
       "      <td>0.69004</td>\n",
       "    </tr>\n",
       "    <tr>\n",
       "      <th>1</th>\n",
       "      <td>0.11</td>\n",
       "      <td>0.69497</td>\n",
       "    </tr>\n",
       "    <tr>\n",
       "      <th>2</th>\n",
       "      <td>0.12</td>\n",
       "      <td>0.74252</td>\n",
       "    </tr>\n",
       "    <tr>\n",
       "      <th>3</th>\n",
       "      <td>0.13</td>\n",
       "      <td>0.75360</td>\n",
       "    </tr>\n",
       "    <tr>\n",
       "      <th>4</th>\n",
       "      <td>0.14</td>\n",
       "      <td>0.83568</td>\n",
       "    </tr>\n",
       "  </tbody>\n",
       "</table>\n",
       "</div>"
      ],
      "text/plain": [
       "      l        t\n",
       "0  0.10  0.69004\n",
       "1  0.11  0.69497\n",
       "2  0.12  0.74252\n",
       "3  0.13  0.75360\n",
       "4  0.14  0.83568"
      ]
     },
     "execution_count": 1,
     "metadata": {},
     "output_type": "execute_result"
    }
   ],
   "source": [
    "#importing packages\n",
    "import pandas as pd\n",
    "import numpy as np\n",
    "import matplotlib.pyplot as plt\n",
    "\n",
    "# Load the data by using pandas read_csv()\n",
    "data = pd.read_csv(\"SIMPLEPENDULUMOSCILLATIONDATA.txt\", sep=\" \", header=None, names=['l', 't'])\n",
    "data.head()"
   ]
  },
  {
   "cell_type": "code",
   "execution_count": 2,
   "metadata": {},
   "outputs": [],
   "source": [
    "# Get the length and time period values from the dataset\n",
    "l = data['l'].values\n",
    "t = data['t'].values\n",
    "# Get the square of time period\n",
    "tsq = t * t"
   ]
  },
  {
   "cell_type": "code",
   "execution_count": 3,
   "metadata": {},
   "outputs": [],
   "source": [
    "\"\"\"\n",
    "The function 'train_one_batch' updates the values of m and c and calculates error. \n",
    "The loss is minimized due to the changed values of m and c.\n",
    "The new values m, c and the minimized loss is returned.\n",
    "\"\"\"\n",
    "def train_one_batch(x, y, m, c, eta):\n",
    "    const = - 2.0/len(y)\n",
    "    ycalc = m * x + c\n",
    "    delta_m = const * sum(x * (y - ycalc))\n",
    "    delta_c = const * sum(y - ycalc)\n",
    "    m = m - delta_m * eta\n",
    "    c = c - delta_c * eta\n",
    "    error = sum((y - ycalc)**2)/len(y)\n",
    "    return m, c, error\n",
    "\n",
    "\"\"\"\n",
    "The function below takes a batch_size and loss is calculated w.r.t batches.\n",
    "The batches are created using random index.\n",
    "The m, c and error values are calculated for each batch of data.\n",
    "So, it calls the function 'train_one_batch' by passing batch_x, batch_y for each batch.\n",
    "\"\"\"\n",
    "def train_batches(x, y, m, c, eta, batch_size):\n",
    "    \n",
    "    # Making the batches\n",
    "    random_idx = np.arange(len(y))\n",
    "    np.random.shuffle(random_idx)\n",
    "    \n",
    "    # Train each batch\n",
    "    for batch in range(len(y)//batch_size):\n",
    "        batch_idx = random_idx[batch*batch_size:(batch+1)*batch_size]\n",
    "        batch_x = x[batch_idx]\n",
    "        batch_y = y[batch_idx]\n",
    "        m, c, err = train_one_batch(batch_x, batch_y, m, c, eta)\n",
    "    \n",
    "    return m, c, err\n",
    "\n",
    "\"\"\"\n",
    "The function below trains the data for 1000 iterations. \n",
    "The data is traversed in batches, the batch size here is considered to be 10.\n",
    "In each iteration it calls the 'train_batches' function. \n",
    "The 'batch_size' is passed as a parameter to 'train_batches'.\n",
    "\"\"\"\n",
    "def train_minibatch(x, y, m, c, eta, batch_size=10, iterations=1000):\n",
    "    for iteration in range(iterations):  #iterations is same as epoch\n",
    "        m, c, err = train_batches(x, y, m, c, eta, batch_size)\n",
    "    return m, c, err"
   ]
  },
  {
   "cell_type": "code",
   "execution_count": 4,
   "metadata": {},
   "outputs": [],
   "source": [
    "# Initializing m, c\n",
    "m, c = 0, 0"
   ]
  },
  {
   "cell_type": "code",
   "execution_count": 5,
   "metadata": {},
   "outputs": [],
   "source": [
    "# Learning rate\n",
    "lr = 0.01"
   ]
  },
  {
   "cell_type": "code",
   "execution_count": 6,
   "metadata": {},
   "outputs": [],
   "source": [
    "m, c, err = train_minibatch(l, tsq, m, c, lr, batch_size=10, iterations=1000) "
   ]
  },
  {
   "cell_type": "code",
   "execution_count": 7,
   "metadata": {},
   "outputs": [
    {
     "data": {
      "text/plain": [
       "[<matplotlib.lines.Line2D at 0x7f70abf260a0>]"
      ]
     },
     "execution_count": 7,
     "metadata": {},
     "output_type": "execute_result"
    },
    {
     "data": {
      "image/png": "[encoded data removed]",
      "text/plain": [
       "<Figure size 500x500 with 1 Axes>"
      ]
     },
     "metadata": {},
     "output_type": "display_data"
    }
   ],
   "source": [
    "y = m * l + c\n",
    "fig = plt.figure(figsize=(5, 5))\n",
    "ax = fig.add_subplot(111)\n",
    "ax.plot(l, tsq, '.k')\n",
    "ax.plot(l, y)"
   ]
  },
  {
   "cell_type": "code",
   "execution_count": 8,
   "metadata": {},
   "outputs": [],
   "source": [
    "# Initializing m, c\n",
    "m, c = 0, 0"
   ]
  },
  {
   "cell_type": "code",
   "execution_count": 9,
   "metadata": {},
   "outputs": [],
   "source": [
    "# Learning rate\n",
    "lr = 0.001"
   ]
  },
  {
   "cell_type": "code",
   "execution_count": 10,
   "metadata": {},
   "outputs": [],
   "source": [
    "m, c, err =  train_minibatch(l, tsq, m, c, lr, batch_size=10, iterations=1000) "
   ]
  },
  {
   "cell_type": "code",
   "execution_count": 11,
   "metadata": {},
   "outputs": [
    {
     "data": {
      "text/plain": [
       "[<matplotlib.lines.Line2D at 0x7f70a3dd9130>]"
      ]
     },
     "execution_count": 11,
     "metadata": {},
     "output_type": "execute_result"
    },
    {
     "data": {
      "image/png": "[encoded data removed]",
      "text/plain": [
       "<Figure size 500x500 with 1 Axes>"
      ]
     },
     "metadata": {},
     "output_type": "display_data"
    }
   ],
   "source": [
    "y = m * l + c\n",
    "fig = plt.figure(figsize=(5, 5))\n",
    "ax = fig.add_subplot(111)\n",
    "ax.plot(l, tsq, '.k')\n",
    "ax.plot(l, y)"
   ]
  },
  {
   "cell_type": "code",
   "execution_count": 12,
   "metadata": {},
   "outputs": [],
   "source": [
    "# # Training for 1000 iterations, plotting after every 100 iterations:\n",
    "\n",
    "# # Call the train_minibatch() method to update m and c and get error value with lr = 0.001 and batch_size=90.\n",
    "# for num in range(20):\n",
    "#     # We will plot the error values for every 100 iterations\n",
    "#     m, c, error = train_minibatch(l, tsq, m, c, lr, batch_size=10, iterations=1000) \n",
    "#     print(\"m = {0:.6} c = {1:.6} Error = {2:.6}\".format(m, c, error))\n",
    "#     y = m * l + c"
   ]
  },
  {
   "cell_type": "code",
   "execution_count": 13,
   "metadata": {},
   "outputs": [],
   "source": [
    "# fig = plt.figure(figsize=(5, 5))\n",
    "# ax = fig.add_subplot(111)\n",
    "# ax.plot(l, tsq, '.k')\n",
    "# ax.plot(l, y)"
   ]
  }
 ],
 "metadata": {
  "kernelspec": {
   "display_name": "Python 3.9.13 64-bit",
   "language": "python",
   "name": "python3"
  },
  "language_info": {
   "codemirror_mode": {
    "name": "ipython",
    "version": 3
   },
   "file_extension": ".py",
   "mimetype": "text/x-python",
   "name": "python",
   "nbconvert_exporter": "python",
   "pygments_lexer": "ipython3",
   "version": "3.8.16"
  },
  "orig_nbformat": 4,
  "vscode": {
   "interpreter": {
    "hash": "36cf16204b8548560b1c020c4e8fb5b57f0e4c58016f52f2d4be01e192833930"
   }
  }
 },
 "nbformat": 4,
 "nbformat_minor": 2
}
