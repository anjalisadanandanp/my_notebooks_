{
  "cells": [
    {
      "cell_type": "markdown",
      "metadata": {
        "id": "hORnmhXVvlcD"
      },
      "source": [
        "# Logistic Regression and Classification metrics\n",
        "\n",
        "<hr/>"
      ]
    },
    {
      "cell_type": "markdown",
      "metadata": {
        "id": "sBErL_ZKxnEL"
      },
      "source": [
        "### Implementing Binary Classification with Logistic Regression \n",
        "\n",
        "## Dataset\n",
        "\n",
        "In this example, we will be using \"Social_Network_Ads\" dataset. \n",
        "\n",
        "The variable descriptions are as follows:\n",
        "\n",
        "* Age\n",
        "* EstimatedSalary\n",
        "\n",
        "The target feature is:\n",
        "* Purchased\n",
        "\n",
        "Problem Statement: To predict if a person will purchase an item based on age and estimated salary. "
      ]
    },
    {
      "cell_type": "code",
      "execution_count": null,
      "metadata": {
        "id": "EDl2ZJYhvkSz"
      },
      "outputs": [],
      "source": [
        "import pandas as pd\n",
        "import numpy as np\n",
        "import matplotlib.pyplot as plt\n",
        "from sklearn.model_selection import train_test_split\n",
        "from sklearn.preprocessing import StandardScaler\n",
        "from sklearn.pipeline import Pipeline\n",
        "from sklearn.linear_model import LogisticRegression"
      ]
    },
    {
      "cell_type": "code",
      "execution_count": null,
      "metadata": {
        "id": "SLJdK1wIuC83"
      },
      "outputs": [],
      "source": [
        "data_SNA= pd.read_csv(\"https://www.dropbox.com/s/bkjsx9vxgb2yu19/Social_Network_Ads.csv?dl=1\")"
      ]
    },
    {
      "cell_type": "code",
      "execution_count": null,
      "metadata": {
        "colab": {
          "base_uri": "https://localhost:8080/",
          "height": 206
        },
        "id": "RH-PfX67w15r",
        "outputId": "c7c601b0-27b4-45af-eb25-08d974ddc789"
      },
      "outputs": [
        {
          "output_type": "execute_result",
          "data": {
            "text/html": [
              "\n",
              "  <div id=\"df-59258239-5e6e-4307-b228-4e6170a230e0\">\n",
              "    <div class=\"colab-df-container\">\n",
              "      <div>\n",
              "<style scoped>\n",
              "    .dataframe tbody tr th:only-of-type {\n",
              "        vertical-align: middle;\n",
              "    }\n",
              "\n",
              "    .dataframe tbody tr th {\n",
              "        vertical-align: top;\n",
              "    }\n",
              "\n",
              "    .dataframe thead th {\n",
              "        text-align: right;\n",
              "    }\n",
              "</style>\n",
              "<table border=\"1\" class=\"dataframe\">\n",
              "  <thead>\n",
              "    <tr style=\"text-align: right;\">\n",
              "      <th></th>\n",
              "      <th>Age</th>\n",
              "      <th>EstimatedSalary</th>\n",
              "      <th>Purchased</th>\n",
              "    </tr>\n",
              "  </thead>\n",
              "  <tbody>\n",
              "    <tr>\n",
              "      <th>0</th>\n",
              "      <td>19</td>\n",
              "      <td>19000</td>\n",
              "      <td>0</td>\n",
              "    </tr>\n",
              "    <tr>\n",
              "      <th>1</th>\n",
              "      <td>35</td>\n",
              "      <td>20000</td>\n",
              "      <td>0</td>\n",
              "    </tr>\n",
              "    <tr>\n",
              "      <th>2</th>\n",
              "      <td>26</td>\n",
              "      <td>43000</td>\n",
              "      <td>0</td>\n",
              "    </tr>\n",
              "    <tr>\n",
              "      <th>3</th>\n",
              "      <td>27</td>\n",
              "      <td>57000</td>\n",
              "      <td>0</td>\n",
              "    </tr>\n",
              "    <tr>\n",
              "      <th>4</th>\n",
              "      <td>19</td>\n",
              "      <td>76000</td>\n",
              "      <td>0</td>\n",
              "    </tr>\n",
              "  </tbody>\n",
              "</table>\n",
              "</div>\n",
              "      <button class=\"colab-df-convert\" onclick=\"convertToInteractive('df-59258239-5e6e-4307-b228-4e6170a230e0')\"\n",
              "              title=\"Convert this dataframe to an interactive table.\"\n",
              "              style=\"display:none;\">\n",
              "        \n",
              "  <svg xmlns=\"http://www.w3.org/2000/svg\" height=\"24px\"viewBox=\"0 0 24 24\"\n",
              "       width=\"24px\">\n",
              "    <path d=\"M0 0h24v24H0V0z\" fill=\"none\"/>\n",
              "    <path d=\"M18.56 5.44l.94 2.06.94-2.06 2.06-.94-2.06-.94-.94-2.06-.94 2.06-2.06.94zm-11 1L8.5 8.5l.94-2.06 2.06-.94-2.06-.94L8.5 2.5l-.94 2.06-2.06.94zm10 10l.94 2.06.94-2.06 2.06-.94-2.06-.94-.94-2.06-.94 2.06-2.06.94z\"/><path d=\"M17.41 7.96l-1.37-1.37c-.4-.4-.92-.59-1.43-.59-.52 0-1.04.2-1.43.59L10.3 9.45l-7.72 7.72c-.78.78-.78 2.05 0 2.83L4 21.41c.39.39.9.59 1.41.59.51 0 1.02-.2 1.41-.59l7.78-7.78 2.81-2.81c.8-.78.8-2.07 0-2.86zM5.41 20L4 18.59l7.72-7.72 1.47 1.35L5.41 20z\"/>\n",
              "  </svg>\n",
              "      </button>\n",
              "      \n",
              "  <style>\n",
              "    .colab-df-container {\n",
              "      display:flex;\n",
              "      flex-wrap:wrap;\n",
              "      gap: 12px;\n",
              "    }\n",
              "\n",
              "    .colab-df-convert {\n",
              "      background-color: #E8F0FE;\n",
              "      border: none;\n",
              "      border-radius: 50%;\n",
              "      cursor: pointer;\n",
              "      display: none;\n",
              "      fill: #1967D2;\n",
              "      height: 32px;\n",
              "      padding: 0 0 0 0;\n",
              "      width: 32px;\n",
              "    }\n",
              "\n",
              "    .colab-df-convert:hover {\n",
              "      background-color: #E2EBFA;\n",
              "      box-shadow: 0px 1px 2px rgba(60, 64, 67, 0.3), 0px 1px 3px 1px rgba(60, 64, 67, 0.15);\n",
              "      fill: #174EA6;\n",
              "    }\n",
              "\n",
              "    [theme=dark] .colab-df-convert {\n",
              "      background-color: #3B4455;\n",
              "      fill: #D2E3FC;\n",
              "    }\n",
              "\n",
              "    [theme=dark] .colab-df-convert:hover {\n",
              "      background-color: #434B5C;\n",
              "      box-shadow: 0px 1px 3px 1px rgba(0, 0, 0, 0.15);\n",
              "      filter: drop-shadow(0px 1px 2px rgba(0, 0, 0, 0.3));\n",
              "      fill: #FFFFFF;\n",
              "    }\n",
              "  </style>\n",
              "\n",
              "      <script>\n",
              "        const buttonEl =\n",
              "          document.querySelector('#df-59258239-5e6e-4307-b228-4e6170a230e0 button.colab-df-convert');\n",
              "        buttonEl.style.display =\n",
              "          google.colab.kernel.accessAllowed ? 'block' : 'none';\n",
              "\n",
              "        async function convertToInteractive(key) {\n",
              "          const element = document.querySelector('#df-59258239-5e6e-4307-b228-4e6170a230e0');\n",
              "          const dataTable =\n",
              "            await google.colab.kernel.invokeFunction('convertToInteractive',\n",
              "                                                     [key], {});\n",
              "          if (!dataTable) return;\n",
              "\n",
              "          const docLinkHtml = 'Like what you see? Visit the ' +\n",
              "            '<a target=\"_blank\" href=https://colab.research.google.com/notebooks/data_table.ipynb>data table notebook</a>'\n",
              "            + ' to learn more about interactive tables.';\n",
              "          element.innerHTML = '';\n",
              "          dataTable['output_type'] = 'display_data';\n",
              "          await google.colab.output.renderOutput(dataTable, element);\n",
              "          const docLink = document.createElement('div');\n",
              "          docLink.innerHTML = docLinkHtml;\n",
              "          element.appendChild(docLink);\n",
              "        }\n",
              "      </script>\n",
              "    </div>\n",
              "  </div>\n",
              "  "
            ],
            "text/plain": [
              "   Age  EstimatedSalary  Purchased\n",
              "0   19            19000          0\n",
              "1   35            20000          0\n",
              "2   26            43000          0\n",
              "3   27            57000          0\n",
              "4   19            76000          0"
            ]
          },
          "metadata": {},
          "execution_count": 3
        }
      ],
      "source": [
        "data_SNA.head()"
      ]
    },
    {
      "cell_type": "code",
      "execution_count": null,
      "metadata": {
        "colab": {
          "base_uri": "https://localhost:8080/"
        },
        "id": "5YEVoEMLw4JC",
        "outputId": "9e1424b5-3d8f-43d3-8449-f6528f425e79"
      },
      "outputs": [
        {
          "output_type": "stream",
          "name": "stdout",
          "text": [
            "<class 'pandas.core.frame.DataFrame'>\n",
            "RangeIndex: 400 entries, 0 to 399\n",
            "Data columns (total 3 columns):\n",
            " #   Column           Non-Null Count  Dtype\n",
            "---  ------           --------------  -----\n",
            " 0   Age              400 non-null    int64\n",
            " 1   EstimatedSalary  400 non-null    int64\n",
            " 2   Purchased        400 non-null    int64\n",
            "dtypes: int64(3)\n",
            "memory usage: 9.5 KB\n"
          ]
        }
      ],
      "source": [
        "data_SNA.info()"
      ]
    },
    {
      "cell_type": "code",
      "execution_count": null,
      "metadata": {
        "colab": {
          "base_uri": "https://localhost:8080/"
        },
        "id": "bWmS4lOuw9Ek",
        "outputId": "b9877494-1d0f-444e-9c25-dafd8a7f1394"
      },
      "outputs": [
        {
          "output_type": "execute_result",
          "data": {
            "text/plain": [
              "0    257\n",
              "1    143\n",
              "Name: Purchased, dtype: int64"
            ]
          },
          "metadata": {},
          "execution_count": 5
        }
      ],
      "source": [
        "data_SNA[\"Purchased\"].value_counts()"
      ]
    },
    {
      "cell_type": "code",
      "execution_count": null,
      "metadata": {
        "colab": {
          "base_uri": "https://localhost:8080/",
          "height": 330
        },
        "id": "B9b_0QT24yrf",
        "outputId": "44bf03e7-1b57-48b7-8cf2-9b0d7fa230cd"
      },
      "outputs": [
        {
          "output_type": "display_data",
          "data": {
            "image/png": "[encoded data removed]",
            "text/plain": [
              "<Figure size 1296x360 with 2 Axes>"
            ]
          },
          "metadata": {
            "needs_background": "light"
          }
        }
      ],
      "source": [
        "fig = plt.figure(figsize=(18,5))\n",
        "ax1 = fig.add_subplot(121)\n",
        "ax2 = fig.add_subplot(122)\n",
        "\n",
        "target_classes = (0,1)\n",
        "colors = (\"red\", \"green\")\n",
        "markers = (\"s\", \"o\")\n",
        "for target_class, color, marker in zip(target_classes, colors, markers):\n",
        "  ax1.scatter(\n",
        "          x=data_SNA[data_SNA[\"Purchased\"] == target_class][\"Age\"],\n",
        "          y=data_SNA[data_SNA[\"Purchased\"] == target_class][\"Purchased\"],\n",
        "          color = color,\n",
        "          label = f\"class {target_class}\",\n",
        "          marker = marker,\n",
        "      )\n",
        "\n",
        "ax1.set_xlabel(\"Age\")\n",
        "ax1.set_ylabel(\"Purchased\")\n",
        "ax1.legend(loc=\"upper right\")\n",
        "\n",
        "target_classes = (0,1)\n",
        "colors = (\"red\", \"green\")\n",
        "markers = (\"s\", \"o\")\n",
        "for target_class, color, marker in zip(target_classes, colors, markers):\n",
        "  ax2.scatter(\n",
        "          x=data_SNA[data_SNA[\"Purchased\"] == target_class][\"EstimatedSalary\"],\n",
        "          y=data_SNA[data_SNA[\"Purchased\"] == target_class][\"Purchased\"],\n",
        "          color = color,\n",
        "          label = f\"class {target_class}\",\n",
        "          marker = marker,\n",
        "      )\n",
        "\n",
        "ax2.set_xlabel(\"EstimatedSalary\")\n",
        "ax2.set_ylabel(\"Purchased\")\n",
        "ax2.legend(loc=\"upper right\")\n",
        "plt.show()"
      ]
    },
    {
      "cell_type": "code",
      "execution_count": null,
      "metadata": {
        "colab": {
          "base_uri": "https://localhost:8080/",
          "height": 513
        },
        "id": "IAFVsCOpyBdX",
        "outputId": "809d7dae-dedd-44f7-ba0b-d728e371b9ad"
      },
      "outputs": [
        {
          "output_type": "display_data",
          "data": {
            "image/png": "[encoded data removed]",
            "text/plain": [
              "<Figure size 504x504 with 1 Axes>"
            ]
          },
          "metadata": {
            "needs_background": "light"
          }
        }
      ],
      "source": [
        "plt.figure(figsize = (7,7))\n",
        "target_classes = (0,1)\n",
        "colors = (\"red\", \"green\")\n",
        "markers = (\"s\", \"o\")\n",
        "\n",
        "for target_class, color, marker in zip(target_classes, colors, markers):\n",
        "    plt.scatter(\n",
        "        x=data_SNA[data_SNA[\"Purchased\"] == target_class][\"Age\"],\n",
        "        y=data_SNA[data_SNA[\"Purchased\"] == target_class][\"EstimatedSalary\"],\n",
        "        color=color,\n",
        "        label=f\"class {target_class}\",\n",
        "        marker=marker,\n",
        "    )\n",
        "\n",
        "plt.xlabel(\"Age\")\n",
        "plt.ylabel(\"EstimatedSalary\")\n",
        "plt.legend(loc=\"upper right\")\n",
        "plt.tight_layout()\n",
        "plt.show()"
      ]
    },
    {
      "cell_type": "markdown",
      "metadata": {
        "id": "FOYgx5VQ8U0C"
      },
      "source": [
        "# Lets fit a Logistic regression model to the data\n",
        "\n",
        "<hr/>"
      ]
    },
    {
      "cell_type": "markdown",
      "metadata": {
        "id": "UIYWu7DC80jb"
      },
      "source": [
        "### Splitting the dataset into the Training set and Test set"
      ]
    },
    {
      "cell_type": "code",
      "execution_count": null,
      "metadata": {
        "id": "H6Jyhzua8UE5"
      },
      "outputs": [],
      "source": [
        "train, test = train_test_split(data_SNA, test_size = 0.25, random_state = 0)"
      ]
    },
    {
      "cell_type": "code",
      "execution_count": null,
      "metadata": {
        "colab": {
          "base_uri": "https://localhost:8080/"
        },
        "id": "N5e6lKFm9ILy",
        "outputId": "242034bf-0133-4728-bff6-d80a41e65ec7"
      },
      "outputs": [
        {
          "output_type": "execute_result",
          "data": {
            "text/plain": [
              "(300, 3)"
            ]
          },
          "metadata": {},
          "execution_count": 9
        }
      ],
      "source": [
        "train.shape"
      ]
    },
    {
      "cell_type": "code",
      "execution_count": null,
      "metadata": {
        "colab": {
          "base_uri": "https://localhost:8080/"
        },
        "id": "DgZU7Kxj9K-S",
        "outputId": "87d035e1-2add-4055-b997-f1016268f328"
      },
      "outputs": [
        {
          "output_type": "execute_result",
          "data": {
            "text/plain": [
              "(100, 3)"
            ]
          },
          "metadata": {},
          "execution_count": 10
        }
      ],
      "source": [
        "test.shape"
      ]
    },
    {
      "cell_type": "code",
      "execution_count": null,
      "metadata": {
        "colab": {
          "base_uri": "https://localhost:8080/"
        },
        "id": "q9j3pYoP9j-f",
        "outputId": "ee6ff0ba-4bea-42a0-ff4a-208775740d2d"
      },
      "outputs": [
        {
          "output_type": "execute_result",
          "data": {
            "text/plain": [
              "0    189\n",
              "1    111\n",
              "Name: Purchased, dtype: int64"
            ]
          },
          "metadata": {},
          "execution_count": 11
        }
      ],
      "source": [
        "train[\"Purchased\"].value_counts()"
      ]
    },
    {
      "cell_type": "code",
      "execution_count": null,
      "metadata": {
        "colab": {
          "base_uri": "https://localhost:8080/"
        },
        "id": "Evoqk6Go9rVe",
        "outputId": "b8d28273-1528-4240-d421-92279c04e378"
      },
      "outputs": [
        {
          "output_type": "execute_result",
          "data": {
            "text/plain": [
              "0    68\n",
              "1    32\n",
              "Name: Purchased, dtype: int64"
            ]
          },
          "metadata": {},
          "execution_count": 12
        }
      ],
      "source": [
        "test[\"Purchased\"].value_counts()"
      ]
    },
    {
      "cell_type": "markdown",
      "metadata": {
        "id": "KOhh9IR0-M1l"
      },
      "source": [
        "The dataset before split has 257 instances belonging to class 0 and 143 instances belonging to class 1"
      ]
    },
    {
      "cell_type": "markdown",
      "metadata": {
        "id": "cm_DDACm_TVZ"
      },
      "source": [
        "257/(257+143) = 0.6425 \\\n",
        "143/(257+143) = 0.3575"
      ]
    },
    {
      "cell_type": "markdown",
      "metadata": {
        "id": "qYW-QKYG-aGO"
      },
      "source": [
        "The dataset after the split:\n",
        "1. The training set has 189 instances belonging to class 0 and 111 instances belonging to class 1 \\\n",
        "\n",
        "189/(189+111) = 0.63 \\\n",
        "111/(189+111) = 0.37\n",
        "\n",
        "2. The testing set has 68 instances belonging to class 0 and 32 instances belonging to class 1\n",
        "\n",
        "68/(68+32) = 0.68 \\\n",
        "32/(68+32) = 0.32"
      ]
    },
    {
      "cell_type": "markdown",
      "metadata": {
        "id": "O1ZAoAvK_suv"
      },
      "source": [
        "It is desirable to split the dataset into train and test sets in a way that preserves the same proportions of examples in each class as observed in the original dataset.\n",
        "\n",
        "This is called a stratified train-test split."
      ]
    },
    {
      "cell_type": "markdown",
      "metadata": {
        "id": "td9oxL_L_9Jl"
      },
      "source": [
        "We can achieve this by setting the “stratify” argument to the y component of the original dataset. This will be used by the train_test_split() function to ensure that both the train and test sets have the proportion of examples in each class that is present in the provided “y” array."
      ]
    },
    {
      "cell_type": "code",
      "execution_count": null,
      "metadata": {
        "id": "JxiOOrV89dRl"
      },
      "outputs": [],
      "source": [
        "train, test = train_test_split(data_SNA, test_size = 0.25, random_state = 0, stratify = data_SNA[\"Purchased\"])"
      ]
    },
    {
      "cell_type": "code",
      "execution_count": null,
      "metadata": {
        "colab": {
          "base_uri": "https://localhost:8080/"
        },
        "id": "tfuKeVku9enM",
        "outputId": "1c3f2159-b2a1-4c31-8b96-d0dd22e3af38"
      },
      "outputs": [
        {
          "output_type": "execute_result",
          "data": {
            "text/plain": [
              "(300, 3)"
            ]
          },
          "metadata": {},
          "execution_count": 14
        }
      ],
      "source": [
        "train.shape"
      ]
    },
    {
      "cell_type": "code",
      "execution_count": null,
      "metadata": {
        "colab": {
          "base_uri": "https://localhost:8080/"
        },
        "id": "hPCHpLfi9grc",
        "outputId": "39e6317d-2c5c-47dc-a3f9-43082771c62a"
      },
      "outputs": [
        {
          "output_type": "execute_result",
          "data": {
            "text/plain": [
              "(100, 3)"
            ]
          },
          "metadata": {},
          "execution_count": 15
        }
      ],
      "source": [
        "test.shape"
      ]
    },
    {
      "cell_type": "code",
      "execution_count": null,
      "metadata": {
        "colab": {
          "base_uri": "https://localhost:8080/"
        },
        "id": "nH9iC6s69xIF",
        "outputId": "13c584de-48f4-4c06-eaf6-e2183280d8bd"
      },
      "outputs": [
        {
          "output_type": "execute_result",
          "data": {
            "text/plain": [
              "0    193\n",
              "1    107\n",
              "Name: Purchased, dtype: int64"
            ]
          },
          "metadata": {},
          "execution_count": 16
        }
      ],
      "source": [
        "train[\"Purchased\"].value_counts()"
      ]
    },
    {
      "cell_type": "code",
      "execution_count": null,
      "metadata": {
        "colab": {
          "base_uri": "https://localhost:8080/"
        },
        "id": "frc7cWjl9zEM",
        "outputId": "24cab95a-5569-4c84-c0d7-ded86fa933de"
      },
      "outputs": [
        {
          "output_type": "execute_result",
          "data": {
            "text/plain": [
              "0    64\n",
              "1    36\n",
              "Name: Purchased, dtype: int64"
            ]
          },
          "metadata": {},
          "execution_count": 17
        }
      ],
      "source": [
        "test[\"Purchased\"].value_counts()"
      ]
    },
    {
      "cell_type": "markdown",
      "metadata": {
        "id": "mpYWZVLWA0ZI"
      },
      "source": [
        "The dataset after the split:\n",
        "1. The training set has 189 instances belonging to class 0 and 111 instances belonging to class 1 \\\n",
        "\n",
        "193/(193+107) = 0.643 \\\n",
        "107/(193+107) = 0.356\n",
        "\n",
        "2. The testing set has 68 instances belonging to class 0 and 32 instances belonging to class 1\n",
        "\n",
        "64/(64+36) = 0.64 \\\n",
        "36/(64+36) = 0.36"
      ]
    },
    {
      "cell_type": "markdown",
      "metadata": {
        "id": "psngzUqEBkdB"
      },
      "source": [
        "### Feature Scaling"
      ]
    },
    {
      "cell_type": "code",
      "execution_count": null,
      "metadata": {
        "id": "kSH1B4vtBju3"
      },
      "outputs": [],
      "source": [
        "scaler = StandardScaler()\n",
        "numerical_data_pipeline = Pipeline([(\"std_scaler\", StandardScaler())])\n",
        "X_train = numerical_data_pipeline.fit_transform(train[[\"Age\",\"EstimatedSalary\"]])\n",
        "X_test = numerical_data_pipeline.transform(test[[\"Age\",\"EstimatedSalary\"]])\n",
        "y_train = np.array(train[\"Purchased\"])\n",
        "y_test = np.array(test[\"Purchased\"])"
      ]
    },
    {
      "cell_type": "markdown",
      "metadata": {
        "id": "HyJH89VxEqOR"
      },
      "source": [
        "## Visualization in the transformed feature space"
      ]
    },
    {
      "cell_type": "code",
      "execution_count": null,
      "metadata": {
        "colab": {
          "base_uri": "https://localhost:8080/",
          "height": 369
        },
        "id": "UO_qjyjFCzDI",
        "outputId": "a33f211f-c94b-41d0-bdc7-d44ca40d5d6f"
      },
      "outputs": [
        {
          "output_type": "display_data",
          "data": {
            "image/png": "[encoded data removed]",
            "text/plain": [
              "<Figure size 360x360 with 1 Axes>"
            ]
          },
          "metadata": {
            "needs_background": "light"
          }
        }
      ],
      "source": [
        "plt.figure(figsize = (5,5))\n",
        "target_classes = (0,1)\n",
        "colors = (\"red\", \"green\")\n",
        "markers = (\"s\", \"o\")\n",
        "\n",
        "for target_class, color, marker in zip(target_classes, colors, markers):\n",
        "    plt.scatter(\n",
        "        x=X_train[y_train == target_class,0],\n",
        "        y=X_train[y_train == target_class,1],\n",
        "        color=color,\n",
        "        label=f\"class {target_class}\",\n",
        "        marker=marker,\n",
        "    )\n",
        "\n",
        "plt.xlabel(\"Age\")\n",
        "plt.ylabel(\"EstimatedSalary\")\n",
        "plt.legend(loc=\"upper right\")\n",
        "plt.tight_layout()\n",
        "plt.show()"
      ]
    },
    {
      "cell_type": "markdown",
      "metadata": {
        "id": "P5sTlqlqE3jf"
      },
      "source": [
        "### Training the Logistic Regression model on the Training set"
      ]
    },
    {
      "cell_type": "markdown",
      "metadata": {
        "id": "spu4Q0JuFwOV"
      },
      "source": [
        "## Lets fit a model between \"Age\" and \"Purchased\""
      ]
    },
    {
      "cell_type": "code",
      "execution_count": null,
      "metadata": {
        "colab": {
          "base_uri": "https://localhost:8080/"
        },
        "id": "5vBWEwilEtNi",
        "outputId": "3c979e80-77f8-4238-aeb5-71dd22952133"
      },
      "outputs": [
        {
          "output_type": "execute_result",
          "data": {
            "text/plain": [
              "LogisticRegression(random_state=0)"
            ]
          },
          "metadata": {},
          "execution_count": 20
        }
      ],
      "source": [
        "model = LogisticRegression(random_state = 0)\n",
        "model.fit(X_train[:,0].reshape(-1,1), y_train)"
      ]
    },
    {
      "cell_type": "code",
      "execution_count": null,
      "metadata": {
        "id": "cgKofaoOOm8K"
      },
      "outputs": [],
      "source": [
        "intercpt = model.intercept_"
      ]
    },
    {
      "cell_type": "code",
      "execution_count": null,
      "metadata": {
        "id": "HmSj9wfNOq_-"
      },
      "outputs": [],
      "source": [
        "coef = model.coef_"
      ]
    },
    {
      "cell_type": "code",
      "execution_count": null,
      "metadata": {
        "colab": {
          "base_uri": "https://localhost:8080/"
        },
        "id": "AFLcmw4zOwKL",
        "outputId": "86473643-6b56-4926-80b8-5a4800ac0759"
      },
      "outputs": [
        {
          "output_type": "stream",
          "name": "stdout",
          "text": [
            "[-0.90036459] [[1.87154928]]\n"
          ]
        }
      ],
      "source": [
        "print(intercpt, coef)"
      ]
    },
    {
      "cell_type": "markdown",
      "metadata": {
        "id": "FHl7NCqRGfac"
      },
      "source": [
        "# Lets plot the decision boundary"
      ]
    },
    {
      "cell_type": "markdown",
      "metadata": {
        "id": "znusBLQqID8I"
      },
      "source": [
        "https://rasbt.github.io/mlxtend/#examples"
      ]
    },
    {
      "cell_type": "code",
      "execution_count": null,
      "metadata": {
        "colab": {
          "base_uri": "https://localhost:8080/",
          "height": 392
        },
        "id": "dlbnIwNRF8LK",
        "outputId": "0c106006-9b7a-42f7-8af9-356e59feaacf"
      },
      "outputs": [
        {
          "output_type": "stream",
          "name": "stderr",
          "text": [
            "/usr/local/lib/python3.7/dist-packages/mlxtend/plotting/decision_regions.py:244: MatplotlibDeprecationWarning: Passing unsupported keyword arguments to axis() will raise a TypeError in 3.3.\n",
            "  ax.axis(xmin=xx.min(), xmax=xx.max(), y_min=yy.min(), y_max=yy.max())\n"
          ]
        },
        {
          "output_type": "display_data",
          "data": {
            "image/png": "[encoded data removed]",
            "text/plain": [
              "<Figure size 360x360 with 1 Axes>"
            ]
          },
          "metadata": {
            "needs_background": "light"
          }
        }
      ],
      "source": [
        "from mlxtend.plotting import plot_decision_regions\n",
        "label = 'Logistic Regression'\n",
        "plt.figure(figsize = (5,5))\n",
        "fig = plot_decision_regions(X=X_train[:,0].reshape(-1,1), y=y_train, clf=model, legend=2)\n",
        "plt.title(label)\n",
        "plt.show()"
      ]
    },
    {
      "cell_type": "code",
      "execution_count": null,
      "metadata": {
        "id": "Mz-CcY4oO62k"
      },
      "outputs": [],
      "source": [
        "def sigmoid(z):\n",
        "  return 1 / (1 + np.exp(-z))"
      ]
    },
    {
      "cell_type": "code",
      "execution_count": null,
      "metadata": {
        "id": "AkF3uZsKPGe8"
      },
      "outputs": [],
      "source": [
        "sig_val = sigmoid(intercpt + coef*X_train[:,0].reshape(-1,1))"
      ]
    },
    {
      "cell_type": "code",
      "execution_count": null,
      "metadata": {
        "colab": {
          "base_uri": "https://localhost:8080/"
        },
        "id": "3I0tdsxzPS1U",
        "outputId": "670773bb-dfac-4e81-d5d7-586147f92509"
      },
      "outputs": [
        {
          "output_type": "execute_result",
          "data": {
            "text/plain": [
              "array([[0.37999627],\n",
              "       [0.37999627],\n",
              "       [0.03452835],\n",
              "       [0.92616963],\n",
              "       [0.07995648]])"
            ]
          },
          "metadata": {},
          "execution_count": 27
        }
      ],
      "source": [
        "sig_val[0:5]"
      ]
    },
    {
      "cell_type": "code",
      "execution_count": null,
      "metadata": {
        "id": "65ZpxpgfNBFI"
      },
      "outputs": [],
      "source": [
        "y_train_prob = model.predict_proba(X_train[:,0].reshape(-1,1))"
      ]
    },
    {
      "cell_type": "code",
      "execution_count": null,
      "metadata": {
        "colab": {
          "base_uri": "https://localhost:8080/"
        },
        "id": "7930N2_cNEaQ",
        "outputId": "31c64293-7190-4c46-bf0e-8e877fed2cd7"
      },
      "outputs": [
        {
          "output_type": "execute_result",
          "data": {
            "text/plain": [
              "array([[0.62000373, 0.37999627],\n",
              "       [0.62000373, 0.37999627],\n",
              "       [0.96547165, 0.03452835],\n",
              "       [0.07383037, 0.92616963],\n",
              "       [0.92004352, 0.07995648]])"
            ]
          },
          "metadata": {},
          "execution_count": 29
        }
      ],
      "source": [
        "y_train_prob[0:5]"
      ]
    },
    {
      "cell_type": "code",
      "execution_count": null,
      "metadata": {
        "id": "D_SEodtNSbBe"
      },
      "outputs": [],
      "source": [
        "def fun_plot_decision_boundary(decision_val):\n",
        "  target_class_new = np.zeros_like(y_train_prob[:,0])\n",
        "  target_class_new[y_train_prob[:,1] >= decision_val] = 1 \n",
        "\n",
        "  fig = plt.figure(figsize=(5,5))\n",
        "  ax = fig.add_subplot(111)\n",
        "\n",
        "  target_classes = (0,1)\n",
        "  colors = (\"red\", \"green\")\n",
        "  markers = (\"s\", \"o\")\n",
        "\n",
        "  for target_class, color, marker in zip(target_classes, colors, markers):\n",
        "    ax.scatter(\n",
        "            x=X_train[target_class_new == target_class,0],\n",
        "            y=target_class_new[target_class_new == target_class],\n",
        "            color = color,\n",
        "            label = f\"class {target_class}\",\n",
        "            marker = marker,\n",
        "        )\n",
        "    \n",
        "  ax.scatter(\n",
        "            x=X_train[:,0],\n",
        "            y=sig_val, s= 5\n",
        "        )\n",
        "  val = min(X_train[target_class_new == 1,0])\n",
        "  ax.plot([-2,2],[decision_val,decision_val])\n",
        "  ax.plot([val,val],[0,1])\n",
        "\n",
        "  ax.set_xlabel(\"Age\")\n",
        "  ax.set_ylabel(\"Purchased\")\n",
        "  ax.legend(loc=\"upper right\")"
      ]
    },
    {
      "cell_type": "code",
      "execution_count": null,
      "metadata": {
        "colab": {
          "base_uri": "https://localhost:8080/",
          "height": 334
        },
        "id": "mD1i231GSu0x",
        "outputId": "5155f6cd-670b-4e42-b69c-e2f6ea8b0c20"
      },
      "outputs": [
        {
          "output_type": "display_data",
          "data": {
            "image/png": "[encoded data removed]",
            "text/plain": [
              "<Figure size 360x360 with 1 Axes>"
            ]
          },
          "metadata": {
            "needs_background": "light"
          }
        }
      ],
      "source": [
        "fun_plot_decision_boundary(0.5)"
      ]
    },
    {
      "cell_type": "code",
      "execution_count": null,
      "metadata": {
        "colab": {
          "base_uri": "https://localhost:8080/",
          "height": 334
        },
        "id": "yN3VOu6ZS4-i",
        "outputId": "e189057a-8ddd-42e3-e198-b72f8cc84a24"
      },
      "outputs": [
        {
          "output_type": "display_data",
          "data": {
            "image/png": "[encoded data removed]",
            "text/plain": [
              "<Figure size 360x360 with 1 Axes>"
            ]
          },
          "metadata": {
            "needs_background": "light"
          }
        }
      ],
      "source": [
        "fun_plot_decision_boundary(0.6)"
      ]
    },
    {
      "cell_type": "markdown",
      "metadata": {
        "id": "irmBILBMHY3I"
      },
      "source": [
        "## Lets fit a model between \"Age\", \"EstimatedSalary\" and \"Purchased\""
      ]
    },
    {
      "cell_type": "code",
      "execution_count": null,
      "metadata": {
        "colab": {
          "base_uri": "https://localhost:8080/"
        },
        "id": "MZbLNSJHHgnN",
        "outputId": "b33aea4e-c108-46ae-ae83-6bf8d492a40f"
      },
      "outputs": [
        {
          "output_type": "execute_result",
          "data": {
            "text/plain": [
              "LogisticRegression(random_state=0)"
            ]
          },
          "metadata": {},
          "execution_count": 33
        }
      ],
      "source": [
        "model_2feat = LogisticRegression(random_state = 0)\n",
        "model_2feat.fit(X_train, y_train)"
      ]
    },
    {
      "cell_type": "code",
      "execution_count": null,
      "metadata": {
        "colab": {
          "base_uri": "https://localhost:8080/",
          "height": 392
        },
        "id": "XdmncvdXGsy9",
        "outputId": "06ec7b9a-2c96-4fd7-fe1a-2df7811a299d"
      },
      "outputs": [
        {
          "output_type": "stream",
          "name": "stderr",
          "text": [
            "/usr/local/lib/python3.7/dist-packages/mlxtend/plotting/decision_regions.py:244: MatplotlibDeprecationWarning: Passing unsupported keyword arguments to axis() will raise a TypeError in 3.3.\n",
            "  ax.axis(xmin=xx.min(), xmax=xx.max(), y_min=yy.min(), y_max=yy.max())\n"
          ]
        },
        {
          "output_type": "display_data",
          "data": {
            "image/png": "[encoded data removed]",
            "text/plain": [
              "<Figure size 360x360 with 1 Axes>"
            ]
          },
          "metadata": {
            "needs_background": "light"
          }
        }
      ],
      "source": [
        "label = 'Logistic Regression'\n",
        "plt.figure(figsize = (5,5))\n",
        "fig = plot_decision_regions(X=X_train, y=y_train, clf=model_2feat , legend=2)\n",
        "plt.title(label)\n",
        "plt.show()"
      ]
    },
    {
      "cell_type": "markdown",
      "metadata": {
        "id": "SlUSG_21UvlC"
      },
      "source": [
        "<hr/>\n",
        "\n",
        "### Model Evaluation \n",
        "\n",
        "To evaluate the performance of a classification model, the following metrics are used:\n",
        "\n",
        "* Confusion matrix\n",
        "* Accuracy\n",
        "* Precision\n",
        "* Recall\n",
        "* F1-Score\n",
        "* ROC curve\n",
        "* AUROC"
      ]
    },
    {
      "cell_type": "markdown",
      "metadata": {
        "id": "QtIek5qsVq-l"
      },
      "source": [
        "<hr/>\n",
        "\n",
        "### Confusion Matrix"
      ]
    },
    {
      "cell_type": "markdown",
      "metadata": {
        "id": "rQ47iQWXV2jY"
      },
      "source": [
        "* **Confusion matrix:**  is a table that is used to describe the performance of a classification model on a set of test data for which the true values are known. \n",
        "\n",
        "  * **true positive** for correctly predicted event values.\n",
        "  * **false positive** for incorrectly predicted event values.\n",
        "  * **true negative** for correctly predicted no-event values.\n",
        "  * **false negative** for incorrectly predicted no-event values.\n"
      ]
    },
    {
      "cell_type": "markdown",
      "metadata": {
        "id": "rQBcQF9ppOs6"
      },
      "source": [
        "![](https://glassboxmedicine.files.wordpress.com/2019/02/confusion-matrix.png)"
      ]
    },
    {
      "cell_type": "code",
      "execution_count": null,
      "metadata": {
        "id": "V3RCJzMhKInh"
      },
      "outputs": [],
      "source": [
        "# Creating a confusion matrix\n",
        "from sklearn.metrics import confusion_matrix, accuracy_score\n",
        "y_pred = model_2feat.predict(X_test)\n",
        "cm = confusion_matrix(y_test, y_pred)"
      ]
    },
    {
      "cell_type": "code",
      "execution_count": null,
      "metadata": {
        "colab": {
          "base_uri": "https://localhost:8080/"
        },
        "id": "e8bYcKXZXEMp",
        "outputId": "7cb3d03f-81fa-4d91-86c3-7b8886f7f445"
      },
      "outputs": [
        {
          "output_type": "execute_result",
          "data": {
            "text/plain": [
              "array([[58,  6],\n",
              "       [13, 23]])"
            ]
          },
          "metadata": {},
          "execution_count": 36
        }
      ],
      "source": [
        "cm"
      ]
    },
    {
      "cell_type": "code",
      "execution_count": null,
      "metadata": {
        "colab": {
          "base_uri": "https://localhost:8080/"
        },
        "id": "bQe-Nq6uOLp5",
        "outputId": "d1055608-6243-4a28-e5a5-2b913a270be7"
      },
      "outputs": [
        {
          "output_type": "stream",
          "name": "stdout",
          "text": [
            "Outcome values : \n",
            " 58 6 13 23\n"
          ]
        }
      ],
      "source": [
        "tp, fn, fp, tn = cm.reshape(-1)\n",
        "print('Outcome values : \\n', tp, fn, fp, tn)"
      ]
    },
    {
      "cell_type": "markdown",
      "metadata": {
        "id": "08uzsJl3q9Ih"
      },
      "source": [
        "Homework: How does the confusion matrix look for a multiclass classification problem?"
      ]
    },
    {
      "cell_type": "markdown",
      "metadata": {
        "id": "P-T_zvs0neiC"
      },
      "source": [
        "<hr/>\n",
        "\n",
        "**Accuracy:** It is the ratio of the number of correct predictions to the total number of input samples.\n",
        "\n",
        "It measures how often the classifier correctly predicts."
      ]
    },
    {
      "cell_type": "markdown",
      "metadata": {
        "id": "R9naO4A7rp5X"
      },
      "source": [
        "accuracy = (TP+TN)/(TP+TN+FP+FN)"
      ]
    },
    {
      "cell_type": "code",
      "execution_count": null,
      "metadata": {
        "id": "BcAPcXQFoAQR"
      },
      "outputs": [],
      "source": [
        "from sklearn.metrics import accuracy_score"
      ]
    },
    {
      "cell_type": "code",
      "execution_count": null,
      "metadata": {
        "colab": {
          "base_uri": "https://localhost:8080/"
        },
        "id": "vhbEa1UIXKxK",
        "outputId": "27a4c184-ea02-488c-e67a-ee51ff08c6ba"
      },
      "outputs": [
        {
          "output_type": "execute_result",
          "data": {
            "text/plain": [
              "0.81"
            ]
          },
          "metadata": {},
          "execution_count": 39
        }
      ],
      "source": [
        "accuracy_score(y_test, y_pred)"
      ]
    },
    {
      "cell_type": "markdown",
      "metadata": {
        "id": "wmlg7JGQnykJ"
      },
      "source": [
        "Limitation of accuracy score:\n",
        "If the data set is highly imbalanced, and the model classifies all the data points as the majority class data points, the accuracy will be high. This makes accuracy not a reliable performance metric for imbalanced data.\n",
        "\n",
        "Imagine the scenario where we had 99 images of the dog and only 1 image of a cat present in our training data. Then our model would always predict the dog, and therefore we got 99% accuracy. \n",
        "\n",
        "Accuracy is useful when the target class is well balanced but is not a good choice for the unbalanced classes.\n",
        "\n",
        "In reality, Data is always imbalanced for example Spam email, credit card fraud, and medical diagnosis. Hence, if we want to do a better model evaluation and have a full picture of the model evaluation, other metrics such as recall and precision should also be considered.\n",
        "\n",
        "<hr/>"
      ]
    },
    {
      "cell_type": "markdown",
      "metadata": {
        "id": "ujK1ITxnX6MK"
      },
      "source": [
        "#### Precision-Recall Metrics"
      ]
    },
    {
      "cell_type": "markdown",
      "metadata": {
        "id": "P6-yEfm4X0I-"
      },
      "source": [
        "* **Precision:** summarizes the fraction of examples assigned the positive class that belongs to the positive class.\n",
        "\n",
        "    Precision = $\\mathbf{\\frac{TruePositive}{TruePositive + FalsePositive}}$\n",
        "\n",
        "* **Recall:** summarizes how well the positive class was predicted and is the same calculation as sensitivity.\n",
        "\n",
        "   Recall = $\\mathbf{\\frac{TruePositive}{TruePositive + FalseNegative}}$\n",
        "\n",
        "Also called Sensitivity / True Positive Rate \n",
        "\n",
        "* **F1-score:** precision and recall can be combined into a single score that seeks to balance both concerns, called the F-score or the F-measure.\n",
        "  \n",
        "   F1-score = $\\mathbf{\\frac{2*Precision*Recall}{Precision+Recall}}$"
      ]
    },
    {
      "cell_type": "markdown",
      "metadata": {
        "id": "9oTxNIOqsxvm"
      },
      "source": [
        "Precision explains how many of the correctly predicted cases actually turned out to be positive. Precision is useful in the cases where False Positive is a higher concern than False Negatives. "
      ]
    },
    {
      "cell_type": "markdown",
      "metadata": {
        "id": "hBoJFyF3s3wH"
      },
      "source": [
        "Recall explains how many of the actual positive cases we were able to predict correctly with our model. It is a useful metric in cases where False Negative is of higher concern than False Positive."
      ]
    },
    {
      "cell_type": "markdown",
      "metadata": {
        "id": "wDqlZ6LmuWue"
      },
      "source": [
        "So basically if we want to focus more on minimising False Negatives, we would want our Recall to be as close to 100% as possible without precision being too bad and if we want to focus on minimising False positives, then our focus should be to make Precision as close to 100% as possible."
      ]
    },
    {
      "cell_type": "markdown",
      "metadata": {
        "id": "ORX7eVmRtTB0"
      },
      "source": [
        "F1 Score is the harmonic mean of precision and recall. It is maximum when Precision is equal to Recall.\n",
        "\n",
        "If one number is really small between precision and recall, the F1 Score kind of raises a flag and is more closer to the smaller number than the bigger one, giving the model an appropriate score rather than just an arithmetic mean."
      ]
    },
    {
      "cell_type": "markdown",
      "metadata": {
        "id": "XaXOSSa0clP3"
      },
      "source": [
        "Why harmonic mean? To mitigate the impact of large outliers and aggravate the impact of small ones"
      ]
    },
    {
      "cell_type": "code",
      "execution_count": null,
      "metadata": {
        "id": "xPZl5OKCXkWT"
      },
      "outputs": [],
      "source": [
        "from sklearn.metrics import classification_report"
      ]
    },
    {
      "cell_type": "markdown",
      "metadata": {
        "id": "y6MTPqHiYGhE"
      },
      "source": [
        "https://scikit-learn.org/stable/modules/generated/sklearn.metrics.classification_report.html\n"
      ]
    },
    {
      "cell_type": "code",
      "execution_count": null,
      "metadata": {
        "colab": {
          "base_uri": "https://localhost:8080/"
        },
        "id": "oYCm9IuOXnIq",
        "outputId": "1e10a32d-3ec6-46bd-c009-bbbb80ebb014"
      },
      "outputs": [
        {
          "output_type": "stream",
          "name": "stdout",
          "text": [
            "              precision    recall  f1-score   support\n",
            "\n",
            "           0       0.82      0.91      0.86        64\n",
            "           1       0.79      0.64      0.71        36\n",
            "\n",
            "    accuracy                           0.81       100\n",
            "   macro avg       0.81      0.77      0.78       100\n",
            "weighted avg       0.81      0.81      0.80       100\n",
            "\n"
          ]
        }
      ],
      "source": [
        "print(classification_report(y_test, y_pred))"
      ]
    },
    {
      "cell_type": "markdown",
      "metadata": {
        "id": "XXhFZk4sO1mJ"
      },
      "source": [
        "Macro average is the average of precision/recall/f1-score. \\\n",
        "Weighted average is just the weighted average of precision/recall/f1-score.\n",
        "\n"
      ]
    },
    {
      "cell_type": "markdown",
      "metadata": {
        "id": "OAHUkrVMYPaz"
      },
      "source": [
        "\n",
        "<hr/>\n",
        "\n",
        "#### Plotting precision-recall curve using sklearn"
      ]
    },
    {
      "cell_type": "markdown",
      "metadata": {
        "id": "N67ZPGQSQVZj"
      },
      "source": [
        "The precision-recall curve shows the tradeoff between precision and recall for different threshold."
      ]
    },
    {
      "cell_type": "markdown",
      "metadata": {
        "id": "pLgprKZVQi4J"
      },
      "source": [
        "Lowering the classifier threshold may increase recall, by increasing the number of true positive results. It is also possible that lowering the threshold may leave recall unchanged, while the precision fluctuates."
      ]
    },
    {
      "cell_type": "markdown",
      "metadata": {
        "id": "JGzJeTGsx00i"
      },
      "source": [
        "https://scikit-learn.org/stable/auto_examples/model_selection/plot_precision_recall.html#sphx-glr-auto-examples-model-selection-plot-precision-recall-py\n"
      ]
    },
    {
      "cell_type": "markdown",
      "metadata": {
        "id": "PmNw6FoNyKni"
      },
      "source": [
        "The relationship between recall and precision can be observed in the stairstep area of the plot - at the edges of these steps a small change in the threshold considerably reduces precision, with only a minor gain in recall."
      ]
    },
    {
      "cell_type": "markdown",
      "metadata": {
        "id": "R_Cgj2v5RZfy"
      },
      "source": [
        "Thus every point on the PRC represents a chosen cut-off even though you cannot see this cut-off. What you can see is the precision and the recall that you will get when you choose this cut-off. "
      ]
    },
    {
      "cell_type": "code",
      "execution_count": null,
      "metadata": {
        "colab": {
          "base_uri": "https://localhost:8080/",
          "height": 388
        },
        "id": "iN7B-Q2YYNpd",
        "outputId": "96199680-aa93-4327-e915-fad70f9d6ea2"
      },
      "outputs": [
        {
          "output_type": "stream",
          "name": "stderr",
          "text": [
            "/usr/local/lib/python3.7/dist-packages/sklearn/utils/deprecation.py:87: FutureWarning: Function plot_precision_recall_curve is deprecated; Function `plot_precision_recall_curve` is deprecated in 1.0 and will be removed in 1.2. Use one of the class methods: PrecisionRecallDisplay.from_predictions or PrecisionRecallDisplay.from_estimator.\n",
            "  warnings.warn(msg, category=FutureWarning)\n",
            "/usr/local/lib/python3.7/dist-packages/sklearn/utils/deprecation.py:87: FutureWarning: Function plot_precision_recall_curve is deprecated; Function `plot_precision_recall_curve` is deprecated in 1.0 and will be removed in 1.2. Use one of the class methods: PrecisionRecallDisplay.from_predictions or PrecisionRecallDisplay.from_estimator.\n",
            "  warnings.warn(msg, category=FutureWarning)\n"
          ]
        },
        {
          "output_type": "execute_result",
          "data": {
            "text/plain": [
              "<sklearn.metrics._plot.precision_recall_curve.PrecisionRecallDisplay at 0x7ff6fd41f8d0>"
            ]
          },
          "metadata": {},
          "execution_count": 42
        },
        {
          "output_type": "display_data",
          "data": {
            "image/png": "[encoded data removed]",
            "text/plain": [
              "<Figure size 432x288 with 1 Axes>"
            ]
          },
          "metadata": {
            "needs_background": "light"
          }
        }
      ],
      "source": [
        "# Use sklearn to plot precision-recall curves\n",
        "\n",
        "from sklearn.metrics import plot_precision_recall_curve\n",
        "\n",
        "plot_precision_recall_curve(model_2feat, X_test, y_test, ax = plt.gca(), name = 'Logistic Regression: 2 features')\n",
        "\n",
        "plot_precision_recall_curve(model, X_test[:,0].reshape(-1,1), y_test, ax = plt.gca(), name = 'Logistic Regression: 1 feature')"
      ]
    },
    {
      "cell_type": "markdown",
      "metadata": {
        "id": "NEvWNv3oYSbb"
      },
      "source": [
        "The above diagram shows the blue and green line as precision-recall curve."
      ]
    },
    {
      "cell_type": "markdown",
      "metadata": {
        "id": "--Z0ddFkRrzK"
      },
      "source": [
        "Precision-recall curves are often zigzag curves frequently going up and down. Therefore, precision-recall curves tend to cross each other much more frequently than ROC curves. This can make comparisons between curves challenging. \n",
        "\n",
        "However, curves close to the PRC for a perfect test have a better performance level than the ones closes to the baseline. In other words, a curve above the other curve has a better performance level."
      ]
    },
    {
      "cell_type": "markdown",
      "metadata": {
        "id": "iCVO611oy2TA"
      },
      "source": [
        "<hr/>\n",
        "\n",
        "### ROC-AUC curve"
      ]
    },
    {
      "cell_type": "markdown",
      "metadata": {
        "id": "P5whGbxX0BSE"
      },
      "source": [
        "A receiver operating characteristic curve, or ROC curve, is a graphical plot that illustrates the diagnostic ability of a binary classifier system as its discrimination threshold is varied.\n",
        "\n",
        "The ROC curve is created by plotting the true positive rate (TPR) against the false positive rate (FPR) at various threshold settings."
      ]
    },
    {
      "cell_type": "markdown",
      "metadata": {
        "id": "vqeR7nPqXIqw"
      },
      "source": [
        "TPR: recall\n",
        "\n",
        "Specificity / True Negative Rate: TN/(TN+FP)\n",
        "\n",
        "False Positive Rate: FP/(TN+FP) = 1- specificity"
      ]
    },
    {
      "cell_type": "markdown",
      "metadata": {
        "id": "iMs0z89Fb8lj"
      },
      "source": [
        "In a ROC curve, a higher X-axis value indicates a higher number of False positives than True negatives. While a higher Y-axis value indicates a higher number of True positives than False negatives. So, the choice of the threshold depends on the ability to balance between False positives and False negatives."
      ]
    },
    {
      "cell_type": "markdown",
      "metadata": {
        "id": "fkGX6U_Iy5xz"
      },
      "source": [
        "Area Under Curve (AUC) is one of the most widely used metrics for evaluation. It is used for binary classification problems.\n",
        "\n",
        "AUC has a range of [0, 1]. The greater the value, the better is the performance of our model."
      ]
    },
    {
      "cell_type": "markdown",
      "metadata": {
        "id": "S7Yrtldv1R9Y"
      },
      "source": [
        "https://scikit-learn.org/stable/modules/generated/sklearn.metrics.roc_curve.html\n"
      ]
    },
    {
      "cell_type": "code",
      "execution_count": null,
      "metadata": {
        "id": "QJNO3-MOzFfk"
      },
      "outputs": [],
      "source": [
        "# roc_curve() computes the ROC for the classifier and returns the FPR, TPR, and threshold values\n",
        "from sklearn.metrics import roc_curve\n",
        "\n",
        "# YOUR CODE HERE to fit(X_train, y_train) on 'classifier'\n",
        "pred_prob1 = model_2feat.predict_proba(X_test)\n",
        "pred_prob2 = model.predict_proba(X_test[:,0].reshape(-1,1))\n",
        "\n",
        "# roc curve for models\n",
        "fpr1, tpr1, thresh1 = roc_curve(y_test, pred_prob1[:,1], pos_label=1)\n",
        "fpr2, tpr2, thresh2 = roc_curve(y_test, pred_prob2[:,1], pos_label=1)\n",
        "\n",
        "# roc curve for tpr = fpr \n",
        "random_probs = [0 for i in range(len(y_test))]\n",
        "p_fpr, p_tpr, _ = roc_curve(y_test, random_probs, pos_label=1)"
      ]
    },
    {
      "cell_type": "code",
      "execution_count": null,
      "metadata": {
        "colab": {
          "base_uri": "https://localhost:8080/",
          "height": 376
        },
        "id": "GQrakE5Rzf0k",
        "outputId": "b33c5f8f-bfed-47a0-b6e9-ffd36c11c539"
      },
      "outputs": [
        {
          "output_type": "display_data",
          "data": {
            "image/png": "[encoded data removed]",
            "text/plain": [
              "<Figure size 576x396 with 1 Axes>"
            ]
          },
          "metadata": {}
        }
      ],
      "source": [
        "plt.style.use('seaborn')\n",
        "\n",
        "# plot roc curves\n",
        "plt.plot(fpr1, tpr1, linestyle='--',color='orange', label='Logistic Regression: 2 features')\n",
        "plt.plot(fpr2, tpr2, linestyle='--',color='green', label='Logistic Regression: 1 feature')\n",
        "plt.plot(p_fpr, p_tpr, linestyle='--', color='blue')\n",
        "# title\n",
        "plt.title('ROC curve')\n",
        "# x label\n",
        "plt.xlabel('False Positive Rate')\n",
        "# y label\n",
        "plt.ylabel('True Positive Rate')\n",
        "\n",
        "plt.legend(loc='best')\n",
        "plt.savefig('ROC',dpi=300)\n",
        "plt.show();"
      ]
    },
    {
      "cell_type": "markdown",
      "metadata": {
        "id": "NQwp-VIlz11J"
      },
      "source": [
        "The above diagram shows:\n",
        "\n",
        "ROC curve: is the orange dotted line\n",
        "\n",
        "AUROC: is the area under the orange dotted line\n",
        "\n",
        "The blue dotted line is the reference line."
      ]
    },
    {
      "cell_type": "code",
      "execution_count": null,
      "metadata": {
        "colab": {
          "base_uri": "https://localhost:8080/"
        },
        "id": "QKLYlSM3VKZK",
        "outputId": "f5462d3a-1261-4d67-adcb-7fb0c9054fe1"
      },
      "outputs": [
        {
          "output_type": "stream",
          "name": "stdout",
          "text": [
            "Logistic Regression (2 features): 0.9127604166666667\n",
            "Logistic Regression (1 feature): 0.87109375\n"
          ]
        }
      ],
      "source": [
        "from sklearn.metrics import roc_auc_score\n",
        "print(\"Logistic Regression (2 features):\", roc_auc_score(y_test, pred_prob1[:,1]))\n",
        "print(\"Logistic Regression (1 feature):\", roc_auc_score(y_test, pred_prob2[:,1]))"
      ]
    },
    {
      "cell_type": "markdown",
      "metadata": {
        "id": "vcXJxJ7hdVNP"
      },
      "source": [
        "ROC or Precision-Recall curve"
      ]
    },
    {
      "cell_type": "markdown",
      "metadata": {
        "id": "_0TR5QwXc3mK"
      },
      "source": [
        "ROC curves have an attractive property: they are insensitive to changes in class distribution. If the proportion of positive to negative instances changes in a test set, the ROC curves won’t change. This feature of ROC curve is known as Class skew independence.\n",
        "This is because the metrics TPR and FPR used for ROC are independent of the class distribution as compared to other metrics like accuracy, precision, etc., which are impacted by imbalanced class distributions."
      ]
    },
    {
      "cell_type": "markdown",
      "metadata": {
        "id": "Y4AvG6GaddN_"
      },
      "source": [
        "ROC curves should be used when there are roughly equal numbers of observations for each class. \\\n",
        "Precision-Recall curves should be used when there is a moderate to large class imbalance.\n",
        "\n",
        "https://www.ncbi.nlm.nih.gov/pmc/articles/PMC4349800/"
      ]
    },
    {
      "cell_type": "markdown",
      "metadata": {
        "id": "j92sV2481pPS"
      },
      "source": [
        "Homework: Read about ROC curve and PR curve for multi class classification problem"
      ]
    }
  ],
  "metadata": {
    "colab": {
      "collapsed_sections": [
        "P5sTlqlqE3jf"
      ],
      "name": "Tutorial 5: Logistic regression and classification metrics.ipynb",
      "provenance": []
    },
    "kernelspec": {
      "display_name": "Python 3",
      "name": "python3"
    },
    "language_info": {
      "name": "python"
    }
  },
  "nbformat": 4,
  "nbformat_minor": 0
}