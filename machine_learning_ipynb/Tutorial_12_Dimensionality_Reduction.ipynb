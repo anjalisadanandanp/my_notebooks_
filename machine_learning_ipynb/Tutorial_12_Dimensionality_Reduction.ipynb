{
  "nbformat": 4,
  "nbformat_minor": 0,
  "metadata": {
    "colab": {
      "name": "Dimensionality Reduction.ipynb",
      "provenance": [],
      "collapsed_sections": []
    },
    "kernelspec": {
      "name": "python3",
      "display_name": "Python 3"
    },
    "language_info": {
      "name": "python"
    }
  },
  "cells": [
    {
      "cell_type": "markdown",
      "source": [
        "# DA 224-O Practical Machine Learning\n",
        "### Tutorial on Dimensionality Reduction"
      ],
      "metadata": {
        "id": "E_OSW8AEDeyk"
      }
    },
    {
      "cell_type": "markdown",
      "source": [
        "##Learning Objectives"
      ],
      "metadata": {
        "id": "6DvR2dLOEkuK"
      }
    },
    {
      "cell_type": "markdown",
      "source": [
        "At the end of the experiment, you will be able to\n",
        "\n",
        "* understand what is Dimensionality Reduction\n",
        "* perform  Dimensionality Reduction(PCA,KPCA)"
      ],
      "metadata": {
        "id": "lstpow9_ElXE"
      }
    },
    {
      "cell_type": "markdown",
      "source": [
        "### Introduction"
      ],
      "metadata": {
        "id": "qEoy_dSKE0E-"
      }
    },
    {
      "cell_type": "markdown",
      "source": [
        "Many Machine Learning problems involve thousands or even millions of features for each training instance. Not only do all these features make training extremely slow,but they can also make it much harder to find a good solution. This problem is often     referred to as the curse of dimensionality.Apart from speeding up training, dimensionality reduction is also extremely useful\n",
        "for data visualization.\n",
        "\n",
        "Dimensionality reduction is the process of reducing the number of random variables under consideration, by obtaining a set of principal variables. \n",
        "\n",
        "Dimensionality Reduction ideas:\n",
        "\n",
        "\n",
        "*   Projection\n",
        "*   Manifold learning\n",
        "\n",
        "\n",
        "\n",
        "We will go through two of the most popular dimensionality reduction techniques: PCA and Kernel PCA.Both of them are based on projection.\n"
      ],
      "metadata": {
        "id": "Gi8za1V8E1Z9"
      }
    },
    {
      "cell_type": "markdown",
      "source": [
        "### Import required packages"
      ],
      "metadata": {
        "id": "_WhkRSMNE6al"
      }
    },
    {
      "cell_type": "code",
      "source": [
        "import numpy as np\n",
        "import matplotlib.pyplot as plt\n",
        "from matplotlib import patches, image\n",
        "from sklearn import datasets\n",
        "from sklearn.model_selection import train_test_split\n",
        "from sklearn.preprocessing import StandardScaler\n",
        "import warnings\n",
        "warnings.filterwarnings(\"ignore\")\n",
        "import pandas as pd\n",
        "import sklearn\n",
        "from sklearn.decomposition import PCA, KernelPCA\n",
        "from sklearn.linear_model import LogisticRegression\n",
        "from sklearn.pipeline import Pipeline"
      ],
      "metadata": {
        "id": "GBFaiYaPDgs5"
      },
      "execution_count": 1,
      "outputs": []
    },
    {
      "cell_type": "markdown",
      "source": [
        "##PCA"
      ],
      "metadata": {
        "id": "1ErO6LlgFDqV"
      }
    },
    {
      "cell_type": "markdown",
      "source": [
        "Principal component Aanalysis is a technique that is widely used for applications such as dimensionality reduction, lossy data compression,feature extraction and data visualization.First it identifies the hyperplane that lies closest to the data, and then it projects the data onto it. \n",
        "\n",
        "\n",
        "There are two commonly used definitions of PCA that give rise to the same algorithm. PCA can be defined as the orthogonal projection of the data onto a lower dimensional linear space,known as the principal subspace such that the variance of the projected data is maximum.Equivalently,it can be defined as the linear projection that minimizes the average projection cost,defined as the mean squared distance between the data points and their projections."
      ],
      "metadata": {
        "id": "JBT4XkteDsj6"
      }
    },
    {
      "cell_type": "markdown",
      "source": [
        "Exercise 1:Load breast _cancer dataset "
      ],
      "metadata": {
        "id": "n19UJUcCF-48"
      }
    },
    {
      "cell_type": "code",
      "source": [
        "#import the breast _cancer dataset\n",
        "from sklearn.datasets import load_breast_cancer\n",
        "data=load_breast_cancer()"
      ],
      "metadata": {
        "id": "xI_9OlDuuKPo"
      },
      "execution_count": 35,
      "outputs": []
    },
    {
      "cell_type": "code",
      "source": [
        "#Dimension of the data\n",
        "np.shape(data['data'])"
      ],
      "metadata": {
        "colab": {
          "base_uri": "https://localhost:8080/"
        },
        "id": "rvyDWFcTw6Lc",
        "outputId": "316e907d-8045-4cca-ca3f-1259c273b1a1"
      },
      "execution_count": 45,
      "outputs": [
        {
          "output_type": "execute_result",
          "data": {
            "text/plain": [
              "(569, 30)"
            ]
          },
          "metadata": {},
          "execution_count": 45
        }
      ]
    },
    {
      "cell_type": "code",
      "source": [
        "\n",
        "\n",
        "# Check the input attributes\n",
        "print(data['feature_names'])\n"
      ],
      "metadata": {
        "colab": {
          "base_uri": "https://localhost:8080/"
        },
        "id": "908Eg8Z4wHAp",
        "outputId": "1e928f32-b95b-483a-bc21-c9fd180523a5"
      },
      "execution_count": 46,
      "outputs": [
        {
          "output_type": "stream",
          "name": "stdout",
          "text": [
            "['mean radius' 'mean texture' 'mean perimeter' 'mean area'\n",
            " 'mean smoothness' 'mean compactness' 'mean concavity'\n",
            " 'mean concave points' 'mean symmetry' 'mean fractal dimension'\n",
            " 'radius error' 'texture error' 'perimeter error' 'area error'\n",
            " 'smoothness error' 'compactness error' 'concavity error'\n",
            " 'concave points error' 'symmetry error' 'fractal dimension error'\n",
            " 'worst radius' 'worst texture' 'worst perimeter' 'worst area'\n",
            " 'worst smoothness' 'worst compactness' 'worst concavity'\n",
            " 'worst concave points' 'worst symmetry' 'worst fractal dimension']\n"
          ]
        }
      ]
    },
    {
      "cell_type": "code",
      "source": [
        "# construct a dataframe using pandas\n",
        "df1=pd.DataFrame(data['data'],columns=data['feature_names'])"
      ],
      "metadata": {
        "id": "cD-n8IaEwXfg"
      },
      "execution_count": 42,
      "outputs": []
    },
    {
      "cell_type": "markdown",
      "source": [
        "Exercise 2: Reduce the dimension of the data to 3 by applying PCA."
      ],
      "metadata": {
        "id": "EZj2-hG_wZj7"
      }
    },
    {
      "cell_type": "markdown",
      "source": [
        "Scikit-Learn’s PCA class uses SVD decomposition to implement PCA"
      ],
      "metadata": {
        "id": "lEML2436Jw7X"
      }
    },
    {
      "cell_type": "code",
      "source": [
        "# Scale data before applying PCA\n",
        "scaling=StandardScaler()\n",
        "scaling.fit(df1)\n",
        "Scaled_data=scaling.transform(df1)"
      ],
      "metadata": {
        "id": "zp722Trj5Bin"
      },
      "execution_count": 47,
      "outputs": []
    },
    {
      "cell_type": "code",
      "source": [
        "#n_components=3\n",
        "principal=PCA(n_components=3)  #it automatically takes care of centering the data\n",
        "principal.fit(Scaled_data)\n",
        "x=principal.transform(Scaled_data)"
      ],
      "metadata": {
        "id": "sNaBRZXVuTzy"
      },
      "execution_count": 48,
      "outputs": []
    },
    {
      "cell_type": "code",
      "source": [
        "#dimensions of data after PCA\n",
        "print(x.shape)"
      ],
      "metadata": {
        "colab": {
          "base_uri": "https://localhost:8080/"
        },
        "id": "keX0zOzdwlSb",
        "outputId": "2b5e697e-72d5-4ea3-e50b-8207c4fae2d2"
      },
      "execution_count": 49,
      "outputs": [
        {
          "output_type": "stream",
          "name": "stdout",
          "text": [
            "(569, 2)\n"
          ]
        }
      ]
    },
    {
      "cell_type": "markdown",
      "source": [
        "PCA assumes that the dataset is centered around the origin.Scikit-Learn’s PCA classes take care of centering the data.\n"
      ],
      "metadata": {
        "id": "90I04fQgIvva"
      }
    },
    {
      "cell_type": "markdown",
      "source": [
        "Exercise 3: calculate how much variance is explained by each principal component"
      ],
      "metadata": {
        "id": "jbcb_eYj5NjH"
      }
    },
    {
      "cell_type": "code",
      "source": [
        "# check how much variance is explained by each principal component\n",
        "print(principal.explained_variance_ratio_)"
      ],
      "metadata": {
        "colab": {
          "base_uri": "https://localhost:8080/"
        },
        "id": "hLc2KkqczSyU",
        "outputId": "8f3aac36-7d9d-4035-96e2-e72652a8bff7"
      },
      "execution_count": 50,
      "outputs": [
        {
          "output_type": "stream",
          "name": "stdout",
          "text": [
            "[0.44272026 0.18971182]\n"
          ]
        }
      ]
    },
    {
      "cell_type": "markdown",
      "source": [
        "The ratio indicates the proportion of the dataset’s variance that lies along each principal component. "
      ],
      "metadata": {
        "id": "O9uN8ADkJ74C"
      }
    },
    {
      "cell_type": "markdown",
      "source": [
        "Exercise 4: Print Principal axes in feature space, representing the directions of maximum variance in the data. "
      ],
      "metadata": {
        "id": "y-bgY1xr9AnT"
      }
    },
    {
      "cell_type": "code",
      "source": [
        "# values of eigen vectors\n",
        "principal.components_ \n"
      ],
      "metadata": {
        "colab": {
          "base_uri": "https://localhost:8080/"
        },
        "id": "Qoq2Obe0ul6z",
        "outputId": "e4dacd13-e0e2-4124-8ddd-a85d8a4160b7"
      },
      "execution_count": 51,
      "outputs": [
        {
          "output_type": "execute_result",
          "data": {
            "text/plain": [
              "array([[ 0.21890244,  0.10372458,  0.22753729,  0.22099499,  0.14258969,\n",
              "         0.23928535,  0.25840048,  0.26085376,  0.13816696,  0.06436335,\n",
              "         0.20597878,  0.01742803,  0.21132592,  0.20286964,  0.01453145,\n",
              "         0.17039345,  0.15358979,  0.1834174 ,  0.04249842,  0.10256832,\n",
              "         0.22799663,  0.10446933,  0.23663968,  0.22487053,  0.12795256,\n",
              "         0.21009588,  0.22876753,  0.25088597,  0.12290456,  0.13178394],\n",
              "       [-0.23385713, -0.05970609, -0.21518136, -0.23107671,  0.18611302,\n",
              "         0.15189161,  0.06016536, -0.0347675 ,  0.19034877,  0.36657547,\n",
              "        -0.10555215,  0.08997968, -0.08945723, -0.15229263,  0.20443045,\n",
              "         0.2327159 ,  0.19720728,  0.13032156,  0.183848  ,  0.28009203,\n",
              "        -0.21986638, -0.0454673 , -0.19987843, -0.21935186,  0.17230435,\n",
              "         0.14359317,  0.09796411, -0.00825724,  0.14188335,  0.27533947]])"
            ]
          },
          "metadata": {},
          "execution_count": 51
        }
      ]
    },
    {
      "cell_type": "markdown",
      "source": [
        "Exercise 5: Calculate the reconstruction loss"
      ],
      "metadata": {
        "id": "XboU1tFz2WOn"
      }
    },
    {
      "cell_type": "code",
      "source": [
        "#Reconstruction loss\n",
        "X_recovered = principal.inverse_transform(x)"
      ],
      "metadata": {
        "id": "Klz2M1VK0eD4"
      },
      "execution_count": 52,
      "outputs": []
    },
    {
      "cell_type": "code",
      "source": [
        "np.shape(X_recovered)"
      ],
      "metadata": {
        "colab": {
          "base_uri": "https://localhost:8080/"
        },
        "id": "JvW3kQ1D2CzA",
        "outputId": "c0baaf05-a87c-4538-fe99-a12d2f2357ac"
      },
      "execution_count": 53,
      "outputs": [
        {
          "output_type": "execute_result",
          "data": {
            "text/plain": [
              "(569, 30)"
            ]
          },
          "metadata": {},
          "execution_count": 53
        }
      ]
    },
    {
      "cell_type": "code",
      "source": [
        "from sklearn.metrics import mean_squared_error\n",
        "loss=mean_squared_error(Scaled_data,X_recovered)\n",
        "print(\"reconstruction loss= \",loss)"
      ],
      "metadata": {
        "colab": {
          "base_uri": "https://localhost:8080/"
        },
        "id": "r2GzCoJh1edf",
        "outputId": "be2c4118-def2-4a79-d6ae-98deb0b6f667"
      },
      "execution_count": 54,
      "outputs": [
        {
          "output_type": "stream",
          "name": "stdout",
          "text": [
            "reconstruction loss=  0.36756792348440553\n"
          ]
        }
      ]
    },
    {
      "cell_type": "markdown",
      "source": [
        "Exercise 6: computes the minimum number of dimensions required to preserve 95% of the data set’s variance"
      ],
      "metadata": {
        "id": "EkrmKXvF9c0h"
      }
    },
    {
      "cell_type": "code",
      "source": [
        "#The following code performs PCA without reducing dimensionality, then computes the minimum number of dimensions required to preserve 95% of the training set’s\n",
        "#variance\n",
        "pca = PCA()\n",
        "pca.fit(Scaled_data)\n",
        "cumsum = np.cumsum(pca.explained_variance_ratio_)\n",
        "d = np.argmax(cumsum >= 0.95) + 1\n"
      ],
      "metadata": {
        "id": "TwCQMMVyuy4I"
      },
      "execution_count": 55,
      "outputs": []
    },
    {
      "cell_type": "code",
      "source": [
        "d"
      ],
      "metadata": {
        "colab": {
          "base_uri": "https://localhost:8080/"
        },
        "id": "YdlwsRCfFJDI",
        "outputId": "45109023-92ce-4bdb-a39d-3075c8b5db6a"
      },
      "execution_count": 56,
      "outputs": [
        {
          "output_type": "execute_result",
          "data": {
            "text/plain": [
              "10"
            ]
          },
          "metadata": {},
          "execution_count": 56
        }
      ]
    },
    {
      "cell_type": "code",
      "source": [
        "#instead of specifying the number of principal components you want to preserve, you can set n_components to be a float between 0.0 and 1.0, indicating the ratio\n",
        "#of variance you wish to preserve:\n",
        "pca = PCA(n_components=0.95)\n",
        "X_reduced = pca.fit_transform(Scaled_data)"
      ],
      "metadata": {
        "id": "NnThO_ppGvZz"
      },
      "execution_count": 16,
      "outputs": []
    },
    {
      "cell_type": "code",
      "source": [
        "X_reduced.shape"
      ],
      "metadata": {
        "colab": {
          "base_uri": "https://localhost:8080/"
        },
        "id": "jp5HcBNQ9tYz",
        "outputId": "f0fcd17b-620a-421f-d627-7b7747e8c114"
      },
      "execution_count": 17,
      "outputs": [
        {
          "output_type": "execute_result",
          "data": {
            "text/plain": [
              "(569, 10)"
            ]
          },
          "metadata": {},
          "execution_count": 17
        }
      ]
    },
    {
      "cell_type": "markdown",
      "source": [
        "Exercise 7: Plot the explained variance as a function of the number of\n",
        "dimensions"
      ],
      "metadata": {
        "id": "0Y7BhxpI1dUn"
      }
    },
    {
      "cell_type": "code",
      "source": [
        "dimensions=np.arange(1,21)\n",
        "\n",
        "principal=PCA(n_components=20)  \n",
        "principal.fit(Scaled_data)\n",
        "x=principal.transform(Scaled_data)\n",
        "cumsum=np.cumsum(principal.explained_variance_ratio_)\n",
        "\n",
        "cumsum=np.array(cumsum)\n",
        "plt.plot(dimensions,cumsum)\n",
        "plt.xlabel(\"no of dimensions\")\n",
        "plt.ylabel(\"variance\")"
      ],
      "metadata": {
        "colab": {
          "base_uri": "https://localhost:8080/",
          "height": 298
        },
        "id": "rkq1Ze5373aK",
        "outputId": "67c13567-e656-4a58-cc83-b7ad55ae88c3"
      },
      "execution_count": 18,
      "outputs": [
        {
          "output_type": "execute_result",
          "data": {
            "text/plain": [
              "Text(0, 0.5, 'variance')"
            ]
          },
          "metadata": {},
          "execution_count": 18
        },
        {
          "output_type": "display_data",
          "data": {
            "text/plain": [
              "<Figure size 432x288 with 1 Axes>"
            ],
            "image/png": "[encoded data removed]"
          },
          "metadata": {
            "needs_background": "light"
          }
        }
      ]
    },
    {
      "cell_type": "markdown",
      "source": [
        "There will usually be an elbow in the curve, where the explained variance stops growing fast. In this case, you can see that\n",
        "reducing the dimensionality down to about 10 dimensions wouldn’t lose too much explained variance."
      ],
      "metadata": {
        "id": "aisW_yRtKT2h"
      }
    },
    {
      "cell_type": "markdown",
      "source": [
        "##KPCA"
      ],
      "metadata": {
        "id": "AQcQO2RrFJ4k"
      }
    },
    {
      "cell_type": "markdown",
      "source": [
        "The principal components of a set of data in $R^p$ provide a sequence of best linear approximations to that data, of all ranks q ≤p .If the data lies on a linear subspace or close to a linear subspace, this approximation works best, but if the data lies on a non linear manifold the quality of this approximation is not good, since PCA is a linear technique. In such cases you can use any Non-linear dimension reduction algorithms such as Principal curves and manifolds, Kernel principal component analysis, Locally-linear embedding, Autoencoders to name a few.\n",
        "\n",
        "Kernel PCA uses a kernel function to project dataset into a higher dimensional feature space, where a linear subspace exists. It is similar to the idea of Support Vector Machines.There are different choices for the kernel matrix.Common ones are the Gaussian kernel or the polynomial kernel. A polynomial kernel would be the right choice for decision boundaries that are polynomial in shape. A Gaussian kernel is a good choice whenever one wants to distinguish data points based on the distance from a common centre.\n",
        "\n",
        "\n",
        "\n"
      ],
      "metadata": {
        "id": "evqZi_cL2Ed7"
      }
    },
    {
      "cell_type": "markdown",
      "source": [
        "Exercise 8:Load moon's dataset for KPCA implementation"
      ],
      "metadata": {
        "id": "FkjpXL92AfzQ"
      }
    },
    {
      "cell_type": "code",
      "source": [
        "#Let's use moon's dataset\n",
        "from sklearn.datasets import make_moons\n",
        "X, y = make_moons(n_samples=250,noise=0.05, random_state=0)"
      ],
      "metadata": {
        "id": "p3_gvIakWx5v"
      },
      "execution_count": 29,
      "outputs": []
    },
    {
      "cell_type": "code",
      "source": [
        "np.shape(y)"
      ],
      "metadata": {
        "colab": {
          "base_uri": "https://localhost:8080/"
        },
        "id": "YL3fdT7YWzcO",
        "outputId": "81ffe653-6358-4142-8ed1-cf3e548dd7e1"
      },
      "execution_count": 20,
      "outputs": [
        {
          "output_type": "execute_result",
          "data": {
            "text/plain": [
              "(250,)"
            ]
          },
          "metadata": {},
          "execution_count": 20
        }
      ]
    },
    {
      "cell_type": "code",
      "source": [
        "#visualization of our dataset\n",
        "plt.scatter(X[:,0],X[:,1],c=y,cmap='autumn')\n",
        "plt.xlabel('x')\n",
        "plt.ylabel('y')\n"
      ],
      "metadata": {
        "colab": {
          "base_uri": "https://localhost:8080/",
          "height": 298
        },
        "id": "BYsKMp_eAgt5",
        "outputId": "834ad8e3-5126-45ab-ac9f-dad7cfa2749f"
      },
      "execution_count": 31,
      "outputs": [
        {
          "output_type": "execute_result",
          "data": {
            "text/plain": [
              "Text(0, 0.5, 'y')"
            ]
          },
          "metadata": {},
          "execution_count": 31
        },
        {
          "output_type": "display_data",
          "data": {
            "text/plain": [
              "<Figure size 432x288 with 1 Axes>"
            ],
            "image/png": "[encoded data removed]"
          },
          "metadata": {
            "needs_background": "light"
          }
        }
      ]
    },
    {
      "cell_type": "markdown",
      "source": [
        "Exercise 9 :Using PCA reduce the dimension of moon's dataset to 1 and classify the data by logistic regression."
      ],
      "metadata": {
        "id": "60rZ4GVGAuZo"
      }
    },
    {
      "cell_type": "code",
      "source": [
        "#splitting the data into test and train\n",
        "X_train, X_test, y_train, y_test = train_test_split(X, y,test_size=0.2,random_state=0)\n",
        "\n",
        "#classification pipeline\n",
        "clf = Pipeline([(\"pca\",PCA(n_components=1)),(\"log_reg\", LogisticRegression())])\n",
        "\n",
        "clf.fit(X_train,y_train)"
      ],
      "metadata": {
        "colab": {
          "base_uri": "https://localhost:8080/"
        },
        "id": "XT880jpe6FIv",
        "outputId": "39cb5e2a-ad56-4fb6-91cf-77d764d959c1"
      },
      "execution_count": 22,
      "outputs": [
        {
          "output_type": "execute_result",
          "data": {
            "text/plain": [
              "Pipeline(steps=[('pca', PCA(n_components=1)),\n",
              "                ('log_reg', LogisticRegression())])"
            ]
          },
          "metadata": {},
          "execution_count": 22
        }
      ]
    },
    {
      "cell_type": "code",
      "source": [
        "y_predict=clf.predict(X_test)"
      ],
      "metadata": {
        "id": "4I3CV2bteYv9"
      },
      "execution_count": 23,
      "outputs": []
    },
    {
      "cell_type": "code",
      "source": [
        "#classification score\n",
        "clf.score(X_test,y_test)"
      ],
      "metadata": {
        "colab": {
          "base_uri": "https://localhost:8080/"
        },
        "id": "_RTmUN9yem8J",
        "outputId": "eca3f543-70c5-487a-ef1a-285ac56c8cb4"
      },
      "execution_count": 24,
      "outputs": [
        {
          "output_type": "execute_result",
          "data": {
            "text/plain": [
              "0.68"
            ]
          },
          "metadata": {},
          "execution_count": 24
        }
      ]
    },
    {
      "cell_type": "markdown",
      "source": [
        "Classification score is low when we use the linear standard PCA classifier for dimensionality reduction.The result will be the same if we use KPCA with linear kernel."
      ],
      "metadata": {
        "id": "BfIS05UVFsA2"
      }
    },
    {
      "cell_type": "markdown",
      "source": [
        "Exercise 10 : Using KPCA with rbf kernel and gamma=15 ,reduce the dimension of moon's dataset to 1 and classify the data by logistic regression."
      ],
      "metadata": {
        "id": "aykNUO2EBEkF"
      }
    },
    {
      "cell_type": "code",
      "source": [
        "clf = Pipeline([(\"kpca\",KernelPCA(n_components=1,kernel=\"rbf\",gamma=15)),(\"log_reg\", LogisticRegression())])\n",
        "\n",
        "clf.fit(X_train,y_train)"
      ],
      "metadata": {
        "id": "bbr7Jxl9eHuq",
        "colab": {
          "base_uri": "https://localhost:8080/"
        },
        "outputId": "84a27ce0-e7c4-49d2-9c30-d1c1d3443090"
      },
      "execution_count": 25,
      "outputs": [
        {
          "output_type": "execute_result",
          "data": {
            "text/plain": [
              "Pipeline(steps=[('kpca', KernelPCA(gamma=15, kernel='rbf', n_components=1)),\n",
              "                ('log_reg', LogisticRegression())])"
            ]
          },
          "metadata": {},
          "execution_count": 25
        }
      ]
    },
    {
      "cell_type": "code",
      "source": [
        "#classification score\n",
        "clf.score(X_test,y_test)"
      ],
      "metadata": {
        "colab": {
          "base_uri": "https://localhost:8080/"
        },
        "id": "jFn5eL-yfF3A",
        "outputId": "a38c9e2c-7671-4085-c236-397f109ea613"
      },
      "execution_count": 26,
      "outputs": [
        {
          "output_type": "execute_result",
          "data": {
            "text/plain": [
              "0.88"
            ]
          },
          "metadata": {},
          "execution_count": 26
        }
      ]
    },
    {
      "cell_type": "markdown",
      "source": [
        "When we use kPCA with rbf kernel classification score becomes 0.88.We can see that if used kPCA as a preprocessor for a classification pipeline, then those datasets can be handled efficiently."
      ],
      "metadata": {
        "id": "89Pwvfcw7dRe"
      }
    },
    {
      "cell_type": "markdown",
      "source": [
        "Exercise 11: Visualize PCA and kPCA projections without reducing dimension."
      ],
      "metadata": {
        "id": "-eTsBlx49nLa"
      }
    },
    {
      "cell_type": "code",
      "source": [
        "#visualize data\n",
        "plt.subplot(2,2,1)\n",
        "plt.scatter(X[:,0],X[:,1],c=y,cmap='plasma')\n",
        "plt.xlabel('x1')\n",
        "plt.ylabel(\"x2\")\n",
        "plt.title(\"original data\")\n",
        "\n",
        "#n_components=2\n",
        "pca=PCA(n_components=2)\n",
        "pca.fit(X)\n",
        "X_transformed =pca.transform(X)\n",
        "#X_transformed.shape\n",
        "\n",
        "#visualize data\n",
        "plt.subplot(2,2,2)\n",
        "plt.scatter(X_transformed[:,0],X_transformed[:,1],c=y,cmap='plasma')\n",
        "plt.xlabel('pc1')\n",
        "plt.ylabel(\"pc2\")\n",
        "plt.title(\"PCA projection\")\n",
        "\n",
        "\n",
        "KPCA= KernelPCA(n_components=2, kernel='rbf',gamma=15)\n",
        "KPCA.fit(X)\n",
        "X_transformed =KPCA.transform(X)\n",
        "#X_transformed.shape\n",
        "\n",
        "#visualize data\n",
        "plt.subplot(2,2,3)\n",
        "plt.scatter(X_transformed[:,0],X_transformed[:,1],c=y,cmap='plasma')\n",
        "plt.xlabel('pc1')\n",
        "plt.ylabel(\"pc2\")\n",
        "plt.title(\"kernel pca projection:rbf & gamma=15\")\n",
        "\n",
        "KPCA= KernelPCA(n_components=2, kernel='rbf',gamma=1)\n",
        "KPCA.fit(X)\n",
        "X_transformed =KPCA.transform(X)\n",
        "#X_transformed.shape\n",
        "\n",
        "#visualize data\n",
        "plt.subplot(2,2,4)\n",
        "plt.scatter(X_transformed[:,0],X_transformed[:,1],c=y,cmap='plasma')\n",
        "plt.xlabel('pc1')\n",
        "plt.ylabel(\"pc2\")\n",
        "plt.title(\"kernel pca projection:rbf & gamma=1\")\n",
        "\n",
        "plt.subplots_adjust(left=0.1,\n",
        "                    bottom=0.2, \n",
        "                    right=1.2, \n",
        "                    top=1.6, \n",
        "                    wspace=0.4, \n",
        "                    hspace=0.4)"
      ],
      "metadata": {
        "colab": {
          "base_uri": "https://localhost:8080/",
          "height": 481
        },
        "id": "aArGzH5Exft8",
        "outputId": "4fb14db4-1765-4237-befa-72a144f29188"
      },
      "execution_count": 27,
      "outputs": [
        {
          "output_type": "display_data",
          "data": {
            "text/plain": [
              "<Figure size 432x288 with 4 Axes>"
            ],
            "image/png": "[encoded data removed]"
          },
          "metadata": {
            "needs_background": "light"
          }
        }
      ]
    },
    {
      "cell_type": "code",
      "source": [
        "#Visualize PCA and KPCA projections after reducing dimension to 1.\n",
        "\n",
        "pca=PCA(n_components=1)\n",
        "pca.fit(X)\n",
        "X_transformed =pca.transform(X)\n",
        "#X_transformed.shape\n",
        "\n",
        "#visualize data\n",
        "plt.subplot(2,2,1)\n",
        "plt.scatter(X_transformed[:,0],np.zeros(len(X_transformed)),c=y,cmap='plasma')\n",
        "plt.xlabel('pc1')\n",
        "plt.title(\"PCA projection\")\n",
        "\n",
        "\n",
        "KPCA= KernelPCA(n_components=1, kernel='rbf',gamma=15)\n",
        "KPCA.fit(X)\n",
        "X_transformed =KPCA.transform(X)\n",
        "#X_transformed.shape\n",
        "\n",
        "#visualize data\n",
        "plt.subplot(2,2,2)\n",
        "plt.scatter(X_transformed[:,0],np.zeros(len(X_transformed)),c=y,cmap='plasma')\n",
        "plt.xlabel('pc1')\n",
        "plt.title(\"kernel pca projection:rbf & gamma=15\")\n",
        "\n",
        "KPCA= KernelPCA(n_components=2, kernel='poly')\n",
        "KPCA.fit(X)\n",
        "X_transformed =KPCA.transform(X)\n",
        "#X_transformed.shape\n",
        "\n",
        "#visualize data\n",
        "plt.subplot(2,2,3)\n",
        "plt.scatter(X_transformed[:,0],np.zeros(len(X_transformed)),c=y,cmap='plasma')\n",
        "plt.xlabel('pc1')\n",
        "plt.title(\"kernel pca projection:poly\")\n",
        "\n",
        "\n",
        "KPCA= KernelPCA(n_components=1, kernel='sigmoid',gamma=15)\n",
        "KPCA.fit(X)\n",
        "X_transformed =KPCA.transform(X)\n",
        "#X_transformed.shape\n",
        "\n",
        "#visualize data\n",
        "plt.subplot(2,2,4)\n",
        "plt.scatter(X_transformed[:,0],np.zeros(len(X_transformed)),c=y,cmap='plasma')\n",
        "plt.xlabel('pc1')\n",
        "plt.title(\"kernel pca projection:sigmoid & gamma=15\")\n",
        "\n",
        "plt.subplots_adjust(left=0.1,\n",
        "                    bottom=0.2, \n",
        "                    right=1.2, \n",
        "                    top=1.6, \n",
        "                    wspace=0.4, \n",
        "                    hspace=0.4)"
      ],
      "metadata": {
        "colab": {
          "base_uri": "https://localhost:8080/",
          "height": 481
        },
        "id": "uGwevhP53jVz",
        "outputId": "a5f883f2-6f8f-48f7-ac89-945cdc4a072f"
      },
      "execution_count": 28,
      "outputs": [
        {
          "output_type": "display_data",
          "data": {
            "text/plain": [
              "<Figure size 432x288 with 4 Axes>"
            ],
            "image/png": "[encoded data removed]"
          },
          "metadata": {
            "needs_background": "light"
          }
        }
      ]
    },
    {
      "cell_type": "markdown",
      "source": [
        "Using a kernel allows to make a non-linear projection. Here, by using an RBF kernel, we can see that the projection unfolds the dataset while keeping approximately preserving the relative distances of pairs of data points that are close to one another in the original space."
      ],
      "metadata": {
        "id": "770mdiWSOTqo"
      }
    }
  ]
}