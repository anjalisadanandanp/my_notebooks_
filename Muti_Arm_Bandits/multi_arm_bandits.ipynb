{
 "cells": [
  {
   "cell_type": "markdown",
   "metadata": {},
   "source": [
    "# Multi-arm Bandit Problem"
   ]
  },
  {
   "cell_type": "code",
   "execution_count": 1,
   "metadata": {},
   "outputs": [],
   "source": [
    "#imports\n",
    "import numpy as np\n",
    "import matplotlib.pyplot as plt"
   ]
  },
  {
   "cell_type": "markdown",
   "metadata": {},
   "source": [
    "10-armed testbed: set of 2000 randomly generated n-armed bandit tasks with n = 10 <br> <br>\n",
    "For each bandit, the action values, q(a), a = 1, . . . , 10, were selected according to a normal (Gaussian) distribution with mean 0 and variance 1. <br> <br>\n",
    "On t th time step with a given bandit, the actual reward R_t was the q(A_t) for the bandit (where A_t was the action selected) plus a normally distributed noise term that was mean 0 and variance 1."
   ]
  },
  {
   "cell_type": "code",
   "execution_count": 2,
   "metadata": {},
   "outputs": [],
   "source": [
    "def bandit_action_values(num_actions = 10):\n",
    "    #number of actions: num_actions\n",
    "    values = np.random.normal(0, 1, num_actions)\n",
    "    return values"
   ]
  },
  {
   "cell_type": "code",
   "execution_count": 3,
   "metadata": {},
   "outputs": [
    {
     "data": {
      "text/plain": [
       "array([ 1.07676775,  0.30979035,  1.27488621, -0.0329673 , -0.35801971,\n",
       "       -0.34737752, -0.56508102,  1.59150327,  0.32562166,  0.06982709])"
      ]
     },
     "execution_count": 3,
     "metadata": {},
     "output_type": "execute_result"
    }
   ],
   "source": [
    "bandit_action_values(num_actions = 10)"
   ]
  },
  {
   "cell_type": "code",
   "execution_count": 4,
   "metadata": {},
   "outputs": [],
   "source": [
    "def bandit_reward_for_action(action):\n",
    "    q = bandit_action_values(num_actions = 10)\n",
    "    Q = q[action - 1] + np.random.normal(0, 1, 1)\n",
    "    return Q"
   ]
  },
  {
   "cell_type": "code",
   "execution_count": 5,
   "metadata": {},
   "outputs": [
    {
     "data": {
      "text/plain": [
       "array([0.76562539])"
      ]
     },
     "execution_count": 5,
     "metadata": {},
     "output_type": "execute_result"
    }
   ],
   "source": [
    "bandit_reward_for_action(action = 0)"
   ]
  },
  {
   "cell_type": "code",
   "execution_count": 6,
   "metadata": {},
   "outputs": [],
   "source": [
    "class Bandit:\n",
    "\n",
    "    def __init__(self, num_actions):\n",
    "        self.num_actions = num_actions\n",
    "        self.values = self.bandit_action_values()\n",
    "\n",
    "    def bandit_action_values(self):\n",
    "        values = np.random.normal(0, 1, self.num_actions)\n",
    "        return values\n",
    "\n",
    "    def reward_for_action(self, action):\n",
    "\n",
    "        try:\n",
    "            Q = self.values[action] + np.random.normal(0, 1, 1)\n",
    "\n",
    "        except:\n",
    "            print(\"INVALID ACTION!\")\n",
    "            return\n",
    "\n",
    "        return Q\n"
   ]
  },
  {
   "cell_type": "code",
   "execution_count": 7,
   "metadata": {},
   "outputs": [],
   "source": [
    "bandit = Bandit(3)"
   ]
  },
  {
   "cell_type": "code",
   "execution_count": 8,
   "metadata": {},
   "outputs": [
    {
     "data": {
      "text/plain": [
       "3"
      ]
     },
     "execution_count": 8,
     "metadata": {},
     "output_type": "execute_result"
    }
   ],
   "source": [
    "bandit.num_actions"
   ]
  },
  {
   "cell_type": "code",
   "execution_count": 9,
   "metadata": {},
   "outputs": [
    {
     "data": {
      "text/plain": [
       "array([-0.56267967, -0.2788939 ,  0.35725589])"
      ]
     },
     "execution_count": 9,
     "metadata": {},
     "output_type": "execute_result"
    }
   ],
   "source": [
    "bandit.values"
   ]
  },
  {
   "cell_type": "code",
   "execution_count": 10,
   "metadata": {},
   "outputs": [
    {
     "data": {
      "text/plain": [
       "array([0.26698065])"
      ]
     },
     "execution_count": 10,
     "metadata": {},
     "output_type": "execute_result"
    }
   ],
   "source": [
    "bandit.reward_for_action(action=1)"
   ]
  },
  {
   "cell_type": "code",
   "execution_count": 11,
   "metadata": {},
   "outputs": [],
   "source": [
    "def value_estimate(num_iter, action):\n",
    "    sum = 0\n",
    "    for i in range(0, num_iter):\n",
    "        sum += bandit.reward_for_action(action=action)\n",
    "    value_estimate =  sum / num_iter\n",
    "    return value_estimate"
   ]
  },
  {
   "cell_type": "code",
   "execution_count": 12,
   "metadata": {},
   "outputs": [
    {
     "data": {
      "text/plain": [
       "array([-0.59181955])"
      ]
     },
     "execution_count": 12,
     "metadata": {},
     "output_type": "execute_result"
    }
   ],
   "source": [
    "value_estimate(num_iter = 1000, action = 0)"
   ]
  },
  {
   "cell_type": "code",
   "execution_count": 13,
   "metadata": {},
   "outputs": [
    {
     "data": {
      "text/plain": [
       "array([-0.26325837])"
      ]
     },
     "execution_count": 13,
     "metadata": {},
     "output_type": "execute_result"
    }
   ],
   "source": [
    "value_estimate(num_iter = 1000, action = 1)"
   ]
  },
  {
   "cell_type": "code",
   "execution_count": 14,
   "metadata": {},
   "outputs": [
    {
     "data": {
      "text/plain": [
       "array([0.39935894])"
      ]
     },
     "execution_count": 14,
     "metadata": {},
     "output_type": "execute_result"
    }
   ],
   "source": [
    "value_estimate(num_iter = 1000, action = 2)"
   ]
  },
  {
   "cell_type": "code",
   "execution_count": 15,
   "metadata": {},
   "outputs": [],
   "source": [
    "class Player:\n",
    "\n",
    "    def __init__(self, num_plays, Bandit, exploration_percent, start_iter):\n",
    "        self.num_plays = num_plays\n",
    "        self.Bandit = Bandit\n",
    "        self.exploration_percent = exploration_percent\n",
    "        self.value_estimates = np.zeros_like(self.Bandit.values).astype(np.float)\n",
    "        self.num_action_selected = np.zeros_like(self.Bandit.values)\n",
    "        self.action = None\n",
    "        self.reward = 0\n",
    "        self.start_iter =start_iter\n",
    "        self.avg_reward = 0\n",
    "\n",
    "    def update_action_value_estimates(self):\n",
    "        value_estimates = self.value_estimates[self.action] + (self.reward - self.value_estimates[self.action])/self.num_action_selected[self.action]\n",
    "        self.value_estimates[self.action] = value_estimates\n",
    "        return\n",
    "\n",
    "    def pull_bandit_lever_once(self):\n",
    "\n",
    "        num = np.random.uniform(0,1)\n",
    "\n",
    "        if num < self.exploration_percent:\n",
    "            #Exploration ---> choose an action randomly without considering the value estimates\n",
    "            self.action = np.random.randint(0, self.Bandit.num_actions)\n",
    "\n",
    "        else:\n",
    "            #Exploitation ---> Choose a greedy action arbitrarily\n",
    "            if np.min(self.num_action_selected) < self.start_iter:\n",
    "                action = np.where(self.num_action_selected == np.min(self.num_action_selected))[0]\n",
    "                self.action = action[0]\n",
    "\n",
    "            else:\n",
    "                self.action = np.argmax(self.value_estimates, axis = 0)\n",
    "\n",
    "        self.reward = self.Bandit.reward_for_action(action = self.action)[0]\n",
    "        self.num_action_selected[self.action] += 1\n",
    "        return \n",
    "\n",
    "    def play_game(self):\n",
    "\n",
    "        for _ in range(0,self.num_plays):\n",
    "            self.pull_bandit_lever_once()\n",
    "            self.update_action_value_estimates()\n",
    "            self.avg_reward += self.reward\n",
    "        self.avg_reward = self.avg_reward/(self.num_plays+1)\n"
   ]
  },
  {
   "cell_type": "code",
   "execution_count": 16,
   "metadata": {},
   "outputs": [
    {
     "name": "stdout",
     "output_type": "stream",
     "text": [
      "True value estimates:  [-0.56267967 -0.2788939   0.35725589]\n"
     ]
    },
    {
     "name": "stderr",
     "output_type": "stream",
     "text": [
      "/tmp/ipykernel_13338/1450406212.py:7: DeprecationWarning: `np.float` is a deprecated alias for the builtin `float`. To silence this warning, use `float` by itself. Doing this will not modify any behavior and is safe. If you specifically wanted the numpy scalar type, use `np.float64` here.\n",
      "Deprecated in NumPy 1.20; for more details and guidance: https://numpy.org/devdocs/release/1.20.0-notes.html#deprecations\n",
      "  self.value_estimates = np.zeros_like(self.Bandit.values).astype(np.float)\n"
     ]
    }
   ],
   "source": [
    "player = Player(10000, bandit, 0.01, 0)\n",
    "print(\"True value estimates: \", bandit.values)"
   ]
  },
  {
   "cell_type": "code",
   "execution_count": 17,
   "metadata": {},
   "outputs": [
    {
     "name": "stdout",
     "output_type": "stream",
     "text": [
      "ONE GAME\n",
      "Action selected:  0\n",
      "Reward collected:  -1.7073681167892336\n",
      "Updated value estimates:  [-1.70736812  0.          0.        ]\n"
     ]
    }
   ],
   "source": [
    "print(\"ONE GAME\")\n",
    "\n",
    "player.pull_bandit_lever_once()\n",
    "print(\"Action selected: \", player.action )\n",
    "print(\"Reward collected: \", player.reward)\n",
    "player.update_action_value_estimates()\n",
    "print(\"Updated value estimates: \", player.value_estimates)"
   ]
  },
  {
   "cell_type": "code",
   "execution_count": 18,
   "metadata": {},
   "outputs": [],
   "source": [
    "player.play_game()"
   ]
  },
  {
   "cell_type": "code",
   "execution_count": 19,
   "metadata": {},
   "outputs": [
    {
     "name": "stdout",
     "output_type": "stream",
     "text": [
      "Updated value estimates:  [-0.7902834  -0.2898168   0.35596788]\n"
     ]
    }
   ],
   "source": [
    "print(\"Updated value estimates: \", player.value_estimates)"
   ]
  },
  {
   "cell_type": "markdown",
   "metadata": {},
   "source": [
    "# Average Reward"
   ]
  },
  {
   "cell_type": "code",
   "execution_count": 20,
   "metadata": {},
   "outputs": [],
   "source": [
    "def average_reward_plot(num_bandits = 2000, num_steps = 1000, epsilon = 0.01):\n",
    "\n",
    "    plt.figure(figsize=(5,5))\n",
    "    \n",
    "    for eps in epsilon:\n",
    "        avg_step_reward = []\n",
    "        for step in range(0, num_steps):\n",
    "            reward = []\n",
    "            for _ in range(0,num_bandits):\n",
    "                new_bandit = Bandit(10)\n",
    "                new_player = Player(step, new_bandit, eps, 0)\n",
    "                new_player.play_game()\n",
    "                reward.append(new_player.avg_reward)\n",
    "            avg_bandits_reward = np.sum(reward)/ num_bandits\n",
    "            avg_step_reward.append(avg_bandits_reward)\n",
    "        plt.plot(range(0,num_steps), avg_step_reward, label = \"epsilon = \"+str(eps))\n",
    "        plt.legend()\n",
    "    plt.savefig(\"average_reward_stationary.png\", dpi = 300, bbox_inches = 'tight')"
   ]
  },
  {
   "cell_type": "code",
   "execution_count": 21,
   "metadata": {},
   "outputs": [],
   "source": [
    "#average_reward_plot(num_bandits = 100, num_steps = 500, epsilon = [0, 0.01, 0.1])"
   ]
  },
  {
   "cell_type": "code",
   "execution_count": 22,
   "metadata": {},
   "outputs": [
    {
     "name": "stderr",
     "output_type": "stream",
     "text": [
      "/tmp/ipykernel_13338/1450406212.py:7: DeprecationWarning: `np.float` is a deprecated alias for the builtin `float`. To silence this warning, use `float` by itself. Doing this will not modify any behavior and is safe. If you specifically wanted the numpy scalar type, use `np.float64` here.\n",
      "Deprecated in NumPy 1.20; for more details and guidance: https://numpy.org/devdocs/release/1.20.0-notes.html#deprecations\n",
      "  self.value_estimates = np.zeros_like(self.Bandit.values).astype(np.float)\n"
     ]
    },
    {
     "data": {
      "image/png": "[encoded data removed]",
      "text/plain": [
       "<Figure size 500x500 with 1 Axes>"
      ]
     },
     "metadata": {},
     "output_type": "display_data"
    }
   ],
   "source": [
    "average_reward_plot(num_bandits = 10, num_steps = 1000, epsilon = [0, 0.01, 0.1])"
   ]
  },
  {
   "cell_type": "markdown",
   "metadata": {},
   "source": [
    "# Tracking a Nonstationary Problem"
   ]
  },
  {
   "cell_type": "code",
   "execution_count": 23,
   "metadata": {},
   "outputs": [],
   "source": [
    "class non_stationary_bandit(Bandit):\n",
    "\n",
    "    def __init__(self):\n",
    "        super().__init__(10)\n",
    "\n",
    "    def update_bandit_action_values(self):\n",
    "        rand = np.random.randint(1,2)\n",
    "        self.values = self.values + np.random.normal(0, rand, self.num_actions)\n",
    "        return \n",
    "\n",
    "    def reward_for_action(self, action):\n",
    "\n",
    "        num = np.random.uniform(0, 1)\n",
    "\n",
    "        if num < 0.1:\n",
    "            self.update_bandit_action_values()\n",
    "\n",
    "        try:\n",
    "            Q = self.values[action] + np.random.normal(0, 1, 1)\n",
    "\n",
    "        except:\n",
    "            print(\"INVALID ACTION!\")\n",
    "            return\n",
    "\n",
    "        return Q"
   ]
  },
  {
   "cell_type": "code",
   "execution_count": 24,
   "metadata": {},
   "outputs": [],
   "source": [
    "bandit = non_stationary_bandit()"
   ]
  },
  {
   "cell_type": "code",
   "execution_count": 25,
   "metadata": {},
   "outputs": [
    {
     "data": {
      "text/plain": [
       "array([ 0.54813708, -0.17552636,  0.17156045, -1.05261646,  0.15024671,\n",
       "       -0.15139692, -0.91935628, -0.09697608,  0.82838342, -1.33025335])"
      ]
     },
     "execution_count": 25,
     "metadata": {},
     "output_type": "execute_result"
    }
   ],
   "source": [
    "bandit.reward_for_action(0)\n",
    "bandit.values"
   ]
  },
  {
   "cell_type": "code",
   "execution_count": 26,
   "metadata": {},
   "outputs": [],
   "source": [
    "def weights(alpha, k):\n",
    "    return (1-alpha)**k, alpha"
   ]
  },
  {
   "cell_type": "code",
   "execution_count": 27,
   "metadata": {},
   "outputs": [
    {
     "data": {
      "text/plain": [
       "(0.5, 0.5)"
      ]
     },
     "execution_count": 27,
     "metadata": {},
     "output_type": "execute_result"
    }
   ],
   "source": [
    "weights(alpha = 0.5, k = 1)"
   ]
  },
  {
   "cell_type": "code",
   "execution_count": 28,
   "metadata": {},
   "outputs": [
    {
     "data": {
      "text/plain": [
       "(8.881784197001252e-16, 0.5)"
      ]
     },
     "execution_count": 28,
     "metadata": {},
     "output_type": "execute_result"
    }
   ],
   "source": [
    "weights(alpha = 0.5, k = 50)"
   ]
  },
  {
   "cell_type": "code",
   "execution_count": 29,
   "metadata": {},
   "outputs": [
    {
     "data": {
      "text/plain": [
       "(7.888609052210118e-31, 0.5)"
      ]
     },
     "execution_count": 29,
     "metadata": {},
     "output_type": "execute_result"
    }
   ],
   "source": [
    "weights(alpha = 0.5, k = 100)"
   ]
  },
  {
   "cell_type": "code",
   "execution_count": 30,
   "metadata": {},
   "outputs": [
    {
     "data": {
      "text/plain": [
       "(1, 0)"
      ]
     },
     "execution_count": 30,
     "metadata": {},
     "output_type": "execute_result"
    }
   ],
   "source": [
    "weights(alpha = 0, k = 1)"
   ]
  },
  {
   "cell_type": "code",
   "execution_count": 31,
   "metadata": {},
   "outputs": [
    {
     "data": {
      "text/plain": [
       "(1, 0)"
      ]
     },
     "execution_count": 31,
     "metadata": {},
     "output_type": "execute_result"
    }
   ],
   "source": [
    "weights(alpha = 0, k = 100)"
   ]
  },
  {
   "cell_type": "code",
   "execution_count": 32,
   "metadata": {},
   "outputs": [
    {
     "data": {
      "text/plain": [
       "(0, 1)"
      ]
     },
     "execution_count": 32,
     "metadata": {},
     "output_type": "execute_result"
    }
   ],
   "source": [
    "weights(alpha = 1, k = 1)"
   ]
  },
  {
   "cell_type": "code",
   "execution_count": 33,
   "metadata": {},
   "outputs": [
    {
     "data": {
      "text/plain": [
       "(0, 1)"
      ]
     },
     "execution_count": 33,
     "metadata": {},
     "output_type": "execute_result"
    }
   ],
   "source": [
    "weights(alpha = 1, k = 100)"
   ]
  },
  {
   "cell_type": "code",
   "execution_count": 34,
   "metadata": {},
   "outputs": [],
   "source": [
    "class Player_recency_weighted_update(Player):\n",
    "\n",
    "    def __init__(self, num_plays, Bandit, exploration_percent, start_iter, alpha):\n",
    "        super().__init__(num_plays, Bandit, exploration_percent, start_iter)\n",
    "        self.alpha = alpha\n",
    "\n",
    "    def update_action_value_estimates(self):\n",
    "        value_estimates = self.value_estimates[self.action] + (self.reward - self.value_estimates[self.action])*self.alpha\n",
    "        self.value_estimates[self.action] = value_estimates\n",
    "        return"
   ]
  },
  {
   "cell_type": "code",
   "execution_count": 35,
   "metadata": {},
   "outputs": [
    {
     "name": "stderr",
     "output_type": "stream",
     "text": [
      "/tmp/ipykernel_13338/1450406212.py:7: DeprecationWarning: `np.float` is a deprecated alias for the builtin `float`. To silence this warning, use `float` by itself. Doing this will not modify any behavior and is safe. If you specifically wanted the numpy scalar type, use `np.float64` here.\n",
      "Deprecated in NumPy 1.20; for more details and guidance: https://numpy.org/devdocs/release/1.20.0-notes.html#deprecations\n",
      "  self.value_estimates = np.zeros_like(self.Bandit.values).astype(np.float)\n"
     ]
    }
   ],
   "source": [
    "bandit = non_stationary_bandit()\n",
    "player_1 = Player_recency_weighted_update(10000, bandit, 0.01, 0, 0.5)"
   ]
  },
  {
   "cell_type": "code",
   "execution_count": 36,
   "metadata": {},
   "outputs": [
    {
     "data": {
      "text/plain": [
       "array([-1.06315976,  0.5523289 , -0.7646316 ,  0.24246004, -0.50858153,\n",
       "       -0.1330467 ,  0.90120671,  0.52982305, -1.02108601, -0.79567964])"
      ]
     },
     "execution_count": 36,
     "metadata": {},
     "output_type": "execute_result"
    }
   ],
   "source": [
    "bandit.values"
   ]
  },
  {
   "cell_type": "code",
   "execution_count": 37,
   "metadata": {},
   "outputs": [],
   "source": [
    "player_1.play_game()"
   ]
  },
  {
   "cell_type": "code",
   "execution_count": 38,
   "metadata": {},
   "outputs": [
    {
     "data": {
      "text/plain": [
       "19.773930549317974"
      ]
     },
     "execution_count": 38,
     "metadata": {},
     "output_type": "execute_result"
    }
   ],
   "source": [
    "np.linalg.norm(player_1.value_estimates - bandit.values)"
   ]
  },
  {
   "cell_type": "code",
   "execution_count": 39,
   "metadata": {},
   "outputs": [
    {
     "name": "stderr",
     "output_type": "stream",
     "text": [
      "/tmp/ipykernel_13338/1450406212.py:7: DeprecationWarning: `np.float` is a deprecated alias for the builtin `float`. To silence this warning, use `float` by itself. Doing this will not modify any behavior and is safe. If you specifically wanted the numpy scalar type, use `np.float64` here.\n",
      "Deprecated in NumPy 1.20; for more details and guidance: https://numpy.org/devdocs/release/1.20.0-notes.html#deprecations\n",
      "  self.value_estimates = np.zeros_like(self.Bandit.values).astype(np.float)\n"
     ]
    }
   ],
   "source": [
    "bandit = non_stationary_bandit()\n",
    "player_2 = Player(10000, bandit, 0.01, 0)"
   ]
  },
  {
   "cell_type": "code",
   "execution_count": 40,
   "metadata": {},
   "outputs": [],
   "source": [
    "player_2.play_game()"
   ]
  },
  {
   "cell_type": "code",
   "execution_count": 41,
   "metadata": {},
   "outputs": [
    {
     "data": {
      "text/plain": [
       "72.11243571710442"
      ]
     },
     "execution_count": 41,
     "metadata": {},
     "output_type": "execute_result"
    }
   ],
   "source": [
    "np.linalg.norm(player_2.value_estimates - bandit.values)"
   ]
  },
  {
   "cell_type": "markdown",
   "metadata": {},
   "source": [
    "# Optimistic Initial Values"
   ]
  },
  {
   "cell_type": "code",
   "execution_count": 42,
   "metadata": {},
   "outputs": [],
   "source": [
    "class Player_optimistic(Player):\n",
    "\n",
    "    def __init__(self, num_plays, Bandit, exploration_percent, start_iter):\n",
    "        super().__init__(num_plays, Bandit, exploration_percent, start_iter)\n",
    "        self.value_estimates = np.ones_like(self.Bandit.values).astype(np.float)*5\n"
   ]
  },
  {
   "cell_type": "code",
   "execution_count": 43,
   "metadata": {},
   "outputs": [
    {
     "name": "stderr",
     "output_type": "stream",
     "text": [
      "/tmp/ipykernel_13338/1450406212.py:7: DeprecationWarning: `np.float` is a deprecated alias for the builtin `float`. To silence this warning, use `float` by itself. Doing this will not modify any behavior and is safe. If you specifically wanted the numpy scalar type, use `np.float64` here.\n",
      "Deprecated in NumPy 1.20; for more details and guidance: https://numpy.org/devdocs/release/1.20.0-notes.html#deprecations\n",
      "  self.value_estimates = np.zeros_like(self.Bandit.values).astype(np.float)\n",
      "/tmp/ipykernel_13338/1758828246.py:5: DeprecationWarning: `np.float` is a deprecated alias for the builtin `float`. To silence this warning, use `float` by itself. Doing this will not modify any behavior and is safe. If you specifically wanted the numpy scalar type, use `np.float64` here.\n",
      "Deprecated in NumPy 1.20; for more details and guidance: https://numpy.org/devdocs/release/1.20.0-notes.html#deprecations\n",
      "  self.value_estimates = np.ones_like(self.Bandit.values).astype(np.float)*5\n"
     ]
    }
   ],
   "source": [
    "bandit = Bandit(10)\n",
    "player = Player_optimistic(10000, bandit, 0.01, 0)"
   ]
  },
  {
   "cell_type": "code",
   "execution_count": 44,
   "metadata": {},
   "outputs": [
    {
     "data": {
      "text/plain": [
       "array([5., 5., 5., 5., 5., 5., 5., 5., 5., 5.])"
      ]
     },
     "execution_count": 44,
     "metadata": {},
     "output_type": "execute_result"
    }
   ],
   "source": [
    "player.value_estimates"
   ]
  }
 ],
 "metadata": {
  "interpreter": {
   "hash": "31f2aee4e71d21fbe5cf8b01ff0e069b9275f58929596ceb00d14d90e3e16cd6"
  },
  "kernelspec": {
   "display_name": "Python 3.6.9 64-bit",
   "language": "python",
   "name": "python3"
  },
  "language_info": {
   "codemirror_mode": {
    "name": "ipython",
    "version": 3
   },
   "file_extension": ".py",
   "mimetype": "text/x-python",
   "name": "python",
   "nbconvert_exporter": "python",
   "pygments_lexer": "ipython3",
   "version": "3.8.16"
  },
  "orig_nbformat": 4
 },
 "nbformat": 4,
 "nbformat_minor": 2
}
