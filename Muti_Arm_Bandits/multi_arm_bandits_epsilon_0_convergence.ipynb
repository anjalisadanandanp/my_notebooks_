{
 "cells": [
  {
   "cell_type": "markdown",
   "metadata": {},
   "source": [
    "# Multi-arm Bandit Problem"
   ]
  },
  {
   "cell_type": "code",
   "execution_count": 1,
   "metadata": {},
   "outputs": [],
   "source": [
    "#imports\n",
    "import numpy as np\n",
    "import matplotlib.pyplot as plt"
   ]
  },
  {
   "cell_type": "markdown",
   "metadata": {},
   "source": [
    "10-armed testbed: set of 2000 randomly generated n-armed bandit tasks with n = 10 <br> <br>\n",
    "For each bandit, the action values, q(a), a = 1, . . . , 10, were selected according to a normal (Gaussian) distribution with mean 0 and variance 1. <br> <br>\n",
    "On t th time step with a given bandit, the actual reward R_t was the q(A_t) for the bandit (where A_t was the action selected) plus a normally distributed noise term that was mean 0 and variance 1."
   ]
  },
  {
   "cell_type": "code",
   "execution_count": 2,
   "metadata": {},
   "outputs": [],
   "source": [
    "def bandit_action_values(num_actions = 10):\n",
    "    #number of actions: num_actions\n",
    "    values = np.random.normal(0, 1, num_actions)\n",
    "    return values"
   ]
  },
  {
   "cell_type": "code",
   "execution_count": 3,
   "metadata": {},
   "outputs": [
    {
     "data": {
      "text/plain": [
       "array([-0.13774472,  1.26464942, -1.17355313,  0.993246  , -0.80995663,\n",
       "       -0.36091126,  0.58909816, -0.49428568,  1.4997875 , -0.05298104])"
      ]
     },
     "execution_count": 3,
     "metadata": {},
     "output_type": "execute_result"
    }
   ],
   "source": [
    "bandit_action_values(num_actions = 10)"
   ]
  },
  {
   "cell_type": "code",
   "execution_count": 4,
   "metadata": {},
   "outputs": [
    {
     "data": {
      "text/plain": [
       "0.026811370811937973"
      ]
     },
     "execution_count": 4,
     "metadata": {},
     "output_type": "execute_result"
    }
   ],
   "source": [
    "np.mean(bandit_action_values(num_actions = 10))"
   ]
  },
  {
   "cell_type": "code",
   "execution_count": 5,
   "metadata": {},
   "outputs": [],
   "source": [
    "def bandit_reward_for_action(action):\n",
    "    q = bandit_action_values(num_actions = 10)\n",
    "    Q = q[action - 1] + np.random.normal(0, 1, 1)\n",
    "    return Q"
   ]
  },
  {
   "cell_type": "code",
   "execution_count": 6,
   "metadata": {},
   "outputs": [
    {
     "data": {
      "text/plain": [
       "array([-1.97461413])"
      ]
     },
     "execution_count": 6,
     "metadata": {},
     "output_type": "execute_result"
    }
   ],
   "source": [
    "bandit_reward_for_action(action = 0)"
   ]
  },
  {
   "cell_type": "code",
   "execution_count": 7,
   "metadata": {},
   "outputs": [],
   "source": [
    "class Bandit:\n",
    "\n",
    "    def __init__(self, num_actions):\n",
    "        self.num_actions = num_actions\n",
    "        self.values = self.bandit_action_values()\n",
    "        #print(\"The bandit action values: \", self.values)\n",
    "\n",
    "    def bandit_action_values(self):\n",
    "        values = np.random.normal(0, 1, self.num_actions)\n",
    "        return values\n",
    "\n",
    "    def reward_for_action(self, action):\n",
    "\n",
    "        try:\n",
    "            Q = self.values[action] + np.random.normal(0, 1, 1)\n",
    "\n",
    "        except:\n",
    "            print(\"INVALID ACTION!\")\n",
    "            return\n",
    "\n",
    "        return Q\n"
   ]
  },
  {
   "cell_type": "code",
   "execution_count": 8,
   "metadata": {},
   "outputs": [],
   "source": [
    "bandit = Bandit(3)"
   ]
  },
  {
   "cell_type": "code",
   "execution_count": 9,
   "metadata": {},
   "outputs": [
    {
     "data": {
      "text/plain": [
       "3"
      ]
     },
     "execution_count": 9,
     "metadata": {},
     "output_type": "execute_result"
    }
   ],
   "source": [
    "bandit.num_actions"
   ]
  },
  {
   "cell_type": "code",
   "execution_count": 10,
   "metadata": {},
   "outputs": [
    {
     "data": {
      "text/plain": [
       "array([-0.0377752 , -0.67192332,  1.90614529])"
      ]
     },
     "execution_count": 10,
     "metadata": {},
     "output_type": "execute_result"
    }
   ],
   "source": [
    "bandit.values"
   ]
  },
  {
   "cell_type": "code",
   "execution_count": 11,
   "metadata": {},
   "outputs": [
    {
     "data": {
      "text/plain": [
       "array([-1.64407358])"
      ]
     },
     "execution_count": 11,
     "metadata": {},
     "output_type": "execute_result"
    }
   ],
   "source": [
    "bandit.reward_for_action(action=1)"
   ]
  },
  {
   "cell_type": "code",
   "execution_count": 12,
   "metadata": {},
   "outputs": [],
   "source": [
    "def value_estimate(num_iter, action):\n",
    "    sum = 0\n",
    "    for i in range(0, num_iter):\n",
    "        sum += bandit.reward_for_action(action=action)\n",
    "    value_estimate =  sum / num_iter\n",
    "    return value_estimate"
   ]
  },
  {
   "cell_type": "code",
   "execution_count": 13,
   "metadata": {},
   "outputs": [
    {
     "data": {
      "text/plain": [
       "array([-0.03006019])"
      ]
     },
     "execution_count": 13,
     "metadata": {},
     "output_type": "execute_result"
    }
   ],
   "source": [
    "value_estimate(num_iter = 1000, action = 0)"
   ]
  },
  {
   "cell_type": "code",
   "execution_count": 14,
   "metadata": {},
   "outputs": [
    {
     "data": {
      "text/plain": [
       "array([-0.61399184])"
      ]
     },
     "execution_count": 14,
     "metadata": {},
     "output_type": "execute_result"
    }
   ],
   "source": [
    "value_estimate(num_iter = 1000, action = 1)"
   ]
  },
  {
   "cell_type": "code",
   "execution_count": 15,
   "metadata": {},
   "outputs": [
    {
     "data": {
      "text/plain": [
       "array([1.87961736])"
      ]
     },
     "execution_count": 15,
     "metadata": {},
     "output_type": "execute_result"
    }
   ],
   "source": [
    "value_estimate(num_iter = 1000, action = 2)"
   ]
  },
  {
   "cell_type": "code",
   "execution_count": 16,
   "metadata": {},
   "outputs": [],
   "source": [
    "class Player:\n",
    "\n",
    "    def __init__(self, num_plays, Bandit, exploration_percent, start_iter):\n",
    "        self.num_plays = num_plays\n",
    "        self.Bandit = Bandit\n",
    "        self.exploration_percent = exploration_percent\n",
    "        self.value_estimates = np.zeros_like(self.Bandit.values).astype(np.float)\n",
    "        self.num_action_selected = np.zeros_like(self.Bandit.values)\n",
    "        self.action = None\n",
    "        self.reward = 0\n",
    "        self.start_iter =start_iter\n",
    "        self.avg_reward = 0\n",
    "\n",
    "    def update_action_value_estimates(self):\n",
    "        value_estimates = self.value_estimates[self.action] + (self.reward - self.value_estimates[self.action])/self.num_action_selected[self.action]\n",
    "        self.value_estimates[self.action] = value_estimates\n",
    "        return\n",
    "\n",
    "    def pull_bandit_lever_once(self):\n",
    "\n",
    "        num = np.random.uniform(0,1)\n",
    "\n",
    "        if num < self.exploration_percent:\n",
    "            #Exploration ---> choose an action randomly without considering the value estimates\n",
    "            self.action = np.random.randint(0, self.Bandit.num_actions)\n",
    "\n",
    "        else:\n",
    "            #Exploitation ---> Choose a greedy action arbitrarily\n",
    "            if np.min(self.num_action_selected) < self.start_iter:\n",
    "                #print(\"MINIMUM NUMBER OF ITERATIONS NOT REACHED FOR ALL ACTIONS\")\n",
    "                action = np.where(self.num_action_selected == np.min(self.num_action_selected))[0]\n",
    "                self.action = action[0]\n",
    "\n",
    "            else:\n",
    "                #print(\"MINIMUM NUMBER OF ITERATIONS REACHED FOR ALL ACTIONS\")\n",
    "                self.action = np.argmax(self.value_estimates, axis = 0)\n",
    "\n",
    "        self.reward = self.Bandit.reward_for_action(action = self.action)[0]\n",
    "        self.num_action_selected[self.action] += 1\n",
    "        return \n",
    "\n",
    "    def play_game(self):\n",
    "\n",
    "        for _ in range(0,self.num_plays):\n",
    "            self.pull_bandit_lever_once()\n",
    "            self.update_action_value_estimates()\n",
    "            self.avg_reward += self.reward\n",
    "            #print(\"Reward for action {} is {}\".format(self.action, self.reward))\n",
    "        self.avg_reward = self.avg_reward/(self.num_plays+1)\n",
    "        #print( \"Average reward is {}\".format(self.avg_reward))\n",
    "        #print(\"The bandit action value:\", self.Bandit.values[self.action])\n"
   ]
  },
  {
   "cell_type": "code",
   "execution_count": 17,
   "metadata": {},
   "outputs": [
    {
     "name": "stdout",
     "output_type": "stream",
     "text": [
      "True value estimates:  [-0.0377752  -0.67192332  1.90614529]\n"
     ]
    },
    {
     "name": "stderr",
     "output_type": "stream",
     "text": [
      "/tmp/ipykernel_14974/1832779577.py:7: DeprecationWarning: `np.float` is a deprecated alias for the builtin `float`. To silence this warning, use `float` by itself. Doing this will not modify any behavior and is safe. If you specifically wanted the numpy scalar type, use `np.float64` here.\n",
      "Deprecated in NumPy 1.20; for more details and guidance: https://numpy.org/devdocs/release/1.20.0-notes.html#deprecations\n",
      "  self.value_estimates = np.zeros_like(self.Bandit.values).astype(np.float)\n"
     ]
    }
   ],
   "source": [
    "player = Player(10000, bandit, 0.01, 0)\n",
    "print(\"True value estimates: \", bandit.values)"
   ]
  },
  {
   "cell_type": "code",
   "execution_count": 18,
   "metadata": {},
   "outputs": [
    {
     "name": "stdout",
     "output_type": "stream",
     "text": [
      "ONE GAME\n",
      "Action selected:  0\n",
      "Reward collected:  0.5527384187343266\n",
      "Updated value estimates:  [0.55273842 0.         0.        ]\n"
     ]
    }
   ],
   "source": [
    "print(\"ONE GAME\")\n",
    "\n",
    "player.pull_bandit_lever_once()\n",
    "print(\"Action selected: \", player.action )\n",
    "print(\"Reward collected: \", player.reward)\n",
    "player.update_action_value_estimates()\n",
    "print(\"Updated value estimates: \", player.value_estimates)"
   ]
  },
  {
   "cell_type": "code",
   "execution_count": 19,
   "metadata": {},
   "outputs": [],
   "source": [
    "player.play_game()"
   ]
  },
  {
   "cell_type": "code",
   "execution_count": 20,
   "metadata": {},
   "outputs": [
    {
     "name": "stdout",
     "output_type": "stream",
     "text": [
      "Updated value estimates:  [ 0.1358346  -0.53548769  1.90425254]\n"
     ]
    }
   ],
   "source": [
    "print(\"Updated value estimates: \", player.value_estimates)"
   ]
  },
  {
   "cell_type": "markdown",
   "metadata": {},
   "source": [
    "# Average Reward"
   ]
  },
  {
   "cell_type": "code",
   "execution_count": 21,
   "metadata": {},
   "outputs": [],
   "source": [
    "def average_reward_plot(num_bandits = 2000, num_steps = 1000, epsilon = 0.01):\n",
    "\n",
    "    plt.figure()\n",
    "    \n",
    "    for eps in epsilon:\n",
    "        avg_step_reward = []\n",
    "        for step in range(0, num_steps):\n",
    "            reward = []\n",
    "            for _ in range(0,num_bandits):\n",
    "                new_bandit = Bandit(10)\n",
    "                new_player = Player(step, new_bandit, eps, 0)\n",
    "                new_player.play_game()\n",
    "                #print(\"Average reward: \", new_player.avg_reward)\n",
    "                reward.append(new_player.avg_reward)\n",
    "            avg_bandits_reward = np.sum(reward)/ num_bandits\n",
    "            avg_step_reward.append(avg_bandits_reward)\n",
    "            \n",
    "        plt.plot(range(0,num_steps), avg_step_reward, label = \"epsilon = \"+str(eps))\n",
    "        plt.axhline(y=np.mean(avg_step_reward), color='r', linestyle='-')\n",
    "        plt.legend()\n",
    "\n",
    "    plt.show()\n",
    "\n",
    "    print(np.mean(avg_step_reward))"
   ]
  },
  {
   "cell_type": "code",
   "execution_count": 22,
   "metadata": {},
   "outputs": [],
   "source": [
    "#average_reward_plot(num_bandits = 100, num_steps = 500, epsilon = [0, 0.01, 0.1])"
   ]
  },
  {
   "cell_type": "code",
   "execution_count": 23,
   "metadata": {},
   "outputs": [
    {
     "name": "stderr",
     "output_type": "stream",
     "text": [
      "/tmp/ipykernel_14974/1832779577.py:7: DeprecationWarning: `np.float` is a deprecated alias for the builtin `float`. To silence this warning, use `float` by itself. Doing this will not modify any behavior and is safe. If you specifically wanted the numpy scalar type, use `np.float64` here.\n",
      "Deprecated in NumPy 1.20; for more details and guidance: https://numpy.org/devdocs/release/1.20.0-notes.html#deprecations\n",
      "  self.value_estimates = np.zeros_like(self.Bandit.values).astype(np.float)\n"
     ]
    },
    {
     "data": {
      "image/png": "[encoded data removed]",
      "text/plain": [
       "<Figure size 640x480 with 1 Axes>"
      ]
     },
     "metadata": {},
     "output_type": "display_data"
    },
    {
     "name": "stdout",
     "output_type": "stream",
     "text": [
      "0.9880080464133167\n"
     ]
    }
   ],
   "source": [
    "average_reward_plot(num_bandits = 10, num_steps = 1000, epsilon = [0])"
   ]
  }
 ],
 "metadata": {
  "interpreter": {
   "hash": "31f2aee4e71d21fbe5cf8b01ff0e069b9275f58929596ceb00d14d90e3e16cd6"
  },
  "kernelspec": {
   "display_name": "Python 3.6.9 64-bit",
   "language": "python",
   "name": "python3"
  },
  "language_info": {
   "codemirror_mode": {
    "name": "ipython",
    "version": 3
   },
   "file_extension": ".py",
   "mimetype": "text/x-python",
   "name": "python",
   "nbconvert_exporter": "python",
   "pygments_lexer": "ipython3",
   "version": "3.8.16"
  },
  "orig_nbformat": 4
 },
 "nbformat": 4,
 "nbformat_minor": 2
}
