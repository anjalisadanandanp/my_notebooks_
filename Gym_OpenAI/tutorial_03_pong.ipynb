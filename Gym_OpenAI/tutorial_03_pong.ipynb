{
 "cells": [
  {
   "cell_type": "code",
   "execution_count": 1,
   "metadata": {},
   "outputs": [],
   "source": [
    "import gym\n",
    "import matplotlib.pyplot as plt\n",
    "import numpy as np\n",
    "import cv2"
   ]
  },
  {
   "cell_type": "markdown",
   "metadata": {},
   "source": [
    "### Atari: Pong game environment"
   ]
  },
  {
   "cell_type": "code",
   "execution_count": 2,
   "metadata": {},
   "outputs": [
    {
     "name": "stderr",
     "output_type": "stream",
     "text": [
      "A.L.E: Arcade Learning Environment (version 0.8.1+53f58b7)\n",
      "[Powered by Stella]\n"
     ]
    }
   ],
   "source": [
    "env  = gym.make(\"ALE/Pong-v5\")"
   ]
  },
  {
   "cell_type": "code",
   "execution_count": 3,
   "metadata": {},
   "outputs": [
    {
     "name": "stdout",
     "output_type": "stream",
     "text": [
      "Box(0, 255, (210, 160, 3), uint8)\n"
     ]
    }
   ],
   "source": [
    "print(env.observation_space)"
   ]
  },
  {
   "cell_type": "code",
   "execution_count": 4,
   "metadata": {},
   "outputs": [
    {
     "name": "stdout",
     "output_type": "stream",
     "text": [
      "Discrete(6)\n"
     ]
    }
   ],
   "source": [
    "print(env.action_space)"
   ]
  },
  {
   "cell_type": "code",
   "execution_count": 5,
   "metadata": {},
   "outputs": [],
   "source": [
    "img, val = env.reset()"
   ]
  },
  {
   "cell_type": "code",
   "execution_count": 6,
   "metadata": {},
   "outputs": [
    {
     "data": {
      "text/plain": [
       "<matplotlib.image.AxesImage at 0x7f17a1544bb0>"
      ]
     },
     "execution_count": 6,
     "metadata": {},
     "output_type": "execute_result"
    },
    {
     "data": {
      "image/png": "[encoded data removed]",
      "text/plain": [
       "<Figure size 400x400 with 1 Axes>"
      ]
     },
     "metadata": {},
     "output_type": "display_data"
    }
   ],
   "source": [
    "observation, reward, terminal, truncation, info = env.step(env.action_space.sample())\n",
    "plt.figure(figsize=(4,4)) \n",
    "plt.axis('off')\n",
    "plt.imshow(np.array(observation))"
   ]
  },
  {
   "cell_type": "code",
   "execution_count": 7,
   "metadata": {},
   "outputs": [
    {
     "name": "stdout",
     "output_type": "stream",
     "text": [
      "{'lives': 0, 'episode_frame_number': 4, 'frame_number': 4}\n",
      "{'lives': 0, 'episode_frame_number': 8, 'frame_number': 8}\n",
      "{'lives': 0, 'episode_frame_number': 12, 'frame_number': 12}\n",
      "{'lives': 0, 'episode_frame_number': 16, 'frame_number': 16}\n",
      "{'lives': 0, 'episode_frame_number': 20, 'frame_number': 20}\n",
      "{'lives': 0, 'episode_frame_number': 24, 'frame_number': 24}\n",
      "{'lives': 0, 'episode_frame_number': 28, 'frame_number': 28}\n",
      "{'lives': 0, 'episode_frame_number': 32, 'frame_number': 32}\n",
      "{'lives': 0, 'episode_frame_number': 36, 'frame_number': 36}\n",
      "{'lives': 0, 'episode_frame_number': 40, 'frame_number': 40}\n"
     ]
    }
   ],
   "source": [
    "num_timesteps = 10\n",
    "env = gym.make(\"ALE/Pong-v5\")\n",
    "state = env.reset()\n",
    "for time in range(num_timesteps):\n",
    "    observation, reward, terminal, truncation, info = env.step(env.action_space.sample())\n",
    "    print(info)\n",
    "    if terminal:\n",
    "        break"
   ]
  }
 ],
 "metadata": {
  "kernelspec": {
   "display_name": "Python 3.10.6 ('rl_env': venv)",
   "language": "python",
   "name": "python3"
  },
  "language_info": {
   "codemirror_mode": {
    "name": "ipython",
    "version": 3
   },
   "file_extension": ".py",
   "mimetype": "text/x-python",
   "name": "python",
   "nbconvert_exporter": "python",
   "pygments_lexer": "ipython3",
   "version": "3.8.16"
  },
  "orig_nbformat": 4,
  "vscode": {
   "interpreter": {
    "hash": "b519bb607dd68144c87fb56e3488a1198f509322524a2802e9dd7196811ba6c7"
   }
  }
 },
 "nbformat": 4,
 "nbformat_minor": 2
}
