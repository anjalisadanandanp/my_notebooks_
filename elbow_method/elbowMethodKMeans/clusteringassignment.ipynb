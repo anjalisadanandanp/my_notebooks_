{
 "cells": [
  {
   "cell_type": "markdown",
   "metadata": {},
   "source": [
    "# Programming Assignment # Clustering"
   ]
  },
  {
   "cell_type": "markdown",
   "metadata": {},
   "source": [
    "## Assignment Details"
   ]
  },
  {
   "cell_type": "markdown",
   "metadata": {
    "collapsed": true
   },
   "source": [
    "In this assignment you will learn about cluster using K-means clustering and Hierarchical Agglomerative clustering for predicted and actual values.\n",
    "\n",
    "Each team will have a total of 3 .ipynb file. Each member will work on a different dataset.csv\n",
    "\n",
    "\n",
    "You have 3 dataset files:-\n",
    "\n",
    "1)DataSet_1\n",
    "\n",
    "2)DataSet_2\n",
    "\n",
    "3)DataSet_3\n",
    "\n",
    "REPORT:\n",
    "\n",
    "Make a 4-5 minutes video to explain what you have done and what did you learn from it. - 10 points"
   ]
  },
  {
   "cell_type": "markdown",
   "metadata": {},
   "source": [
    "## Required Python Packages "
   ]
  },
  {
   "cell_type": "code",
   "execution_count": 1,
   "metadata": {},
   "outputs": [],
   "source": [
    "# Import required Python packages here\n",
    "# Seaborn,numpy,pandas,sklearn,matplotlib only"
   ]
  },
  {
   "cell_type": "markdown",
   "metadata": {},
   "source": [
    "## TASK 1: K-Means Clustering"
   ]
  },
  {
   "cell_type": "markdown",
   "metadata": {},
   "source": [
    "### Task 1-a: Determine “k” value from the elbow method"
   ]
  },
  {
   "cell_type": "markdown",
   "metadata": {},
   "source": [
    "In this task, you will be using the elbow method to determine the optimal number of clusters for k-means clustering.\n",
    "\n",
    "For this task, you need to perform the elbow method for k from 1 to 10 and plot a line chart of the SSE for each value of k, and determine the best k (the number of clusters). Note that you need to use the whole dataset in this task and you need to print your decision for k."
   ]
  },
  {
   "cell_type": "code",
   "execution_count": 2,
   "metadata": {
    "scrolled": true
   },
   "outputs": [],
   "source": [
    "#########################begin code for Task 1-a - 10 Points##################################\n",
    "\n",
    "    \n",
    "\n",
    "## Describe which is the optimal value for K and explain why you choose it as the optimal value\n"
   ]
  },
  {
   "cell_type": "markdown",
   "metadata": {},
   "source": [
    "### Task 1-b: Visualization for K-Means Clustering "
   ]
  },
  {
   "cell_type": "markdown",
   "metadata": {},
   "source": [
    "--> Performing k-means clustering for k=3,4,5 and visualize the predicted training samples and actual training samples on scatter plots. \n",
    "\n",
    "--> Use 75% of the dataset for training and 25% of the dataset for testing. Perform kmeans for clustering samples in your training set. \n",
    "\n",
    "--> Visualize predicted training samples and actual training samples on two scatter plots.Since your dataset has multiple features(dimensions), you won't be able to plot your data on a scatter plot. Thus, you’re going to visualize your data with the help of one of the Dimensionality Reduction techniques, namely Principal Component Analysis (PCA.You can easily apply PCA to your data with the help of scikit-learn.\n",
    "\n"
   ]
  },
  {
   "cell_type": "code",
   "execution_count": 3,
   "metadata": {},
   "outputs": [],
   "source": [
    "###################begin code for Task 1-b-1: Split the dataset and set the random_state as 2021 without fail - 5 points###################\n",
    "\n",
    "\n",
    "\n",
    "###################end code for Task 1-b-1"
   ]
  },
  {
   "cell_type": "code",
   "execution_count": 4,
   "metadata": {},
   "outputs": [],
   "source": [
    "\n",
    "####Task 1-b-2: Visualize the predicted training labels vs actual training labels - 10 points####\n",
    "\n",
    "# Import PCA\n",
    "from sklearn.decomposition import PCA\n",
    "\n",
    "# Create the KMeans model\n",
    "\n",
    "# Compute cluster centers and predict cluster index for each sample \n",
    "\n",
    "# Model and fit the data to the PCA model\n",
    "X_train_pca = None\n",
    "\n",
    "# Visualize the predicted training labels vs actual training labels. \n",
    "### scatter(x, y, your_data)\n",
    "\n",
    "\n",
    "## Visualize using K=3,4,5 as well\n",
    "\n",
    "#####end Task 1-b-2\n"
   ]
  },
  {
   "cell_type": "code",
   "execution_count": 5,
   "metadata": {},
   "outputs": [],
   "source": [
    "#### Task 1-b-3: Visualize the predicted testing labels vs actual testing labels - 10 Points\n",
    "\n",
    "\n",
    "# predict cluster index for each sample \n",
    "\n",
    "# Model and fit the data to the PCA model\n",
    "\n",
    "\n",
    "# Visualize the predicted testing labels vs actual testing labels. \n",
    "### scatter(x, y, your_data)\n",
    "\n",
    "\n",
    "\n",
    "####end Task 1-b-3"
   ]
  },
  {
   "cell_type": "code",
   "execution_count": 6,
   "metadata": {},
   "outputs": [],
   "source": [
    "######Task 1-b-4: you need to provide the evaluation of your clustering model. \n",
    "\n",
    "#Print out a 2D confusion matrix and Print out a 2-D confusion matrix for all K values calculated above - 05 Points\n",
    "\n",
    "######end Task 1-b-4"
   ]
  },
  {
   "cell_type": "markdown",
   "metadata": {},
   "source": [
    "## Task 2-a: Find the best Hierarchical Agglomerative Clustering Model"
   ]
  },
  {
   "cell_type": "markdown",
   "metadata": {},
   "source": [
    "--> Perform Hierarchical Agglomerative clustering with different linkage methods for complete and average and different similarity measures for cosine, euclidean, and manhattan\n",
    "\n",
    "--> Use F1 score for evaluation by taking number of clusters as 2.\n",
    "\n"
   ]
  },
  {
   "cell_type": "code",
   "execution_count": 7,
   "metadata": {},
   "outputs": [
    {
     "name": "stdout",
     "output_type": "stream",
     "text": [
      "F1-score for complete linkage + cosine None\n",
      "F1-score for complete linkage + euclidean None\n",
      "F1-score for complete linkage + manhattan None\n",
      "F1-score for average linkage + cosine None\n",
      "F1-score for average linkage + euclidean None\n",
      "F1-score for average linkage + manhattan None\n"
     ]
    }
   ],
   "source": [
    "###################begin code for Task 2-a: Print out a confusion matrix - 20 Points\n",
    "# Import AgglomerativeClustering\n",
    "from sklearn.cluster import AgglomerativeClustering\n",
    "\n",
    "# Import pairwise_distances for calculating pairwise distance matrix\n",
    "from sklearn.metrics.pairwise import pairwise_distances\n",
    "\n",
    "# Import f1_score\n",
    "from sklearn.metrics import f1_score\n",
    "\n",
    "\n",
    "## Calculate pairwise distance matrix for X_train\n",
    "pdm_train = None\n",
    "\n",
    "## Model and fit the training data to the AgglomerativeClustering model\n",
    "## complete for each linkage methods and for each similarity measures.\n",
    "\n",
    "\n",
    "## Print the 2-D confusion matrix with different linkage methods (complete and average) and different similarity measures (cosine, euclidean, and manhattan) \n",
    "##To find the best pair of linkage method and similarity measure. \n",
    "\n",
    "print(\"F1-score for complete linkage + cosine\", None)\n",
    "print(\"F1-score for complete linkage + euclidean\", None)\n",
    "print(\"F1-score for complete linkage + manhattan\", None)\n",
    "print(\"F1-score for average linkage + cosine\", None)\n",
    "print(\"F1-score for average linkage + euclidean\", None)\n",
    "print(\"F1-score for average linkage + manhattan\", None)\n",
    "\n",
    "###################end code for Task 2-a\n"
   ]
  },
  {
   "cell_type": "markdown",
   "metadata": {},
   "source": [
    "## Task 2-b:  Visualization for Hierarchical Agglomerative Clustering"
   ]
  },
  {
   "cell_type": "markdown",
   "metadata": {},
   "source": [
    "--> Use the best model from above and use to visualize predicted and actual trianing samples on scatter plot. Use Pca model from X_train_pca from Task 1-b-2. \n"
   ]
  },
  {
   "cell_type": "code",
   "execution_count": 8,
   "metadata": {},
   "outputs": [],
   "source": [
    "###################begin code for Task 2-b: Visualize the predicted training labels vs actual training labels - 10 Points###################\n",
    "\n",
    "# Visualize the predicted training labels versus actual training labels. \n",
    "\n",
    "###################end code for Task 2-b###################"
   ]
  },
  {
   "cell_type": "markdown",
   "metadata": {},
   "source": [
    "# TASK 3:  Compare K-Means Clustering and Hierarchical Agglomerative Clustering"
   ]
  },
  {
   "cell_type": "markdown",
   "metadata": {},
   "source": [
    "--> Task 3-1 Visualize Clusters :- In this task, use whole dataset for training k-means cluster and hierarchical agglomerative clustering. Use the best model for agglomerative clustering. \n",
    "\n",
    "--> Visualize the predicted labels from k-means clustering and agglomerative clustering versus actual labels. Basically, you need to plot three scatter plots as subplots. Use number cluster = 2 for below example"
   ]
  },
  {
   "cell_type": "code",
   "execution_count": 9,
   "metadata": {},
   "outputs": [],
   "source": [
    "#####Task 3-1: Visualize the predicted training labels vs actual training labels - 10 Points####\n",
    "\n",
    "### Kmeans Clustering\n",
    "# Model and fit the data to the Kmeans (use fit_predict : Performs clustering on X and returns cluster labels.)\n",
    "\n",
    "\n",
    "### Agglomerative Clustering\n",
    "# Calculate pairwise distance matrix for X\n",
    "\n",
    "# Model and fit the data to the Agglomerative (use fit_predict : Performs clustering on X and returns cluster labels.)\n",
    "\n",
    "\n",
    "### Visualize Clusters\n",
    "#  Model and fit the data to the PCA model\n",
    "X_pca = None\n",
    "\n",
    "# Visualize the predicted Kmeans labels versus  the predicted Agglomerative labels versus Actual labels. \n",
    "\n",
    "\n",
    "\n",
    "\n",
    "######end Task 3-1###################"
   ]
  },
  {
   "cell_type": "markdown",
   "metadata": {},
   "source": [
    "## Task 3-b: Compare K-Means Clustering &  Hierarchical Agglomerative Clustering"
   ]
  },
  {
   "cell_type": "markdown",
   "metadata": {},
   "source": [
    "Print out 2D confusion matrices for kmeans and agglomerative clustering. Also, compare precision, recall, and F1-score for both model in at least 3-4 lines. Type your reasoning."
   ]
  },
  {
   "cell_type": "code",
   "execution_count": 10,
   "metadata": {},
   "outputs": [],
   "source": [
    "######Task 3-b  - 10 Points######\n",
    " \n",
    "\n",
    "\n",
    "\n",
    "\n",
    "\n",
    "\n",
    "######end Task 3-b######"
   ]
  }
 ],
 "metadata": {
  "celltoolbar": "Raw Cell Format",
  "kernelspec": {
   "display_name": "Python 3.6.9 64-bit",
   "language": "python",
   "name": "python3"
  },
  "language_info": {
   "codemirror_mode": {
    "name": "ipython",
    "version": 3
   },
   "file_extension": ".py",
   "mimetype": "text/x-python",
   "name": "python",
   "nbconvert_exporter": "python",
   "pygments_lexer": "ipython3",
   "version": "3.8.16"
  },
  "vscode": {
   "interpreter": {
    "hash": "31f2aee4e71d21fbe5cf8b01ff0e069b9275f58929596ceb00d14d90e3e16cd6"
   }
  }
 },
 "nbformat": 4,
 "nbformat_minor": 1
}
